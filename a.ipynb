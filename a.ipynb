{
 "cells": [
  {
   "cell_type": "markdown",
   "id": "fd040670",
   "metadata": {},
   "source": [
    "### Importing data and quickly examine the structure of data"
   ]
  },
  {
   "cell_type": "code",
   "execution_count": null,
   "id": "a2ee844d",
   "metadata": {},
   "outputs": [],
   "source": [
    "pip install plotly"
   ]
  },
  {
   "cell_type": "code",
   "execution_count": 1,
   "id": "f6d10a9c",
   "metadata": {},
   "outputs": [],
   "source": [
    "import duckdb"
   ]
  },
  {
   "cell_type": "code",
   "execution_count": 2,
   "id": "23fe6d7b",
   "metadata": {},
   "outputs": [],
   "source": [
    "duckdb.sql('drop table if exists bus_fin')\n",
    "duckdb.sql('drop table if exists bus_emp')"
   ]
  },
  {
   "cell_type": "code",
   "execution_count": 3,
   "id": "3325d20e",
   "metadata": {},
   "outputs": [],
   "source": [
    "read_bus_fin = ''' create table if not exists bus_fin as select * from read_csv('input/business-financial-data-march-2024-csv.csv') '''\n",
    "read_bus_emp = ''' create table if not exists bus_emp as select * from read_csv('input/machine-readable-business-employment-data-mar-2024-quarter.csv') '''\n",
    "\n",
    "duckdb.sql(read_bus_fin)\n",
    "duckdb.sql(read_bus_emp)"
   ]
  },
  {
   "cell_type": "code",
   "execution_count": 4,
   "id": "64888dad",
   "metadata": {},
   "outputs": [
    {
     "data": {
      "text/plain": [
       "┌──────────────────┬─────────────┬─────────┬─────────┬─────────┬─────────┐\n",
       "│   column_name    │ column_type │  null   │   key   │ default │  extra  │\n",
       "│     varchar      │   varchar   │ varchar │ varchar │ varchar │ varchar │\n",
       "├──────────────────┼─────────────┼─────────┼─────────┼─────────┼─────────┤\n",
       "│ Series_reference │ VARCHAR     │ YES     │ NULL    │ NULL    │ NULL    │\n",
       "│ Period           │ DOUBLE      │ YES     │ NULL    │ NULL    │ NULL    │\n",
       "│ Data_value       │ DOUBLE      │ YES     │ NULL    │ NULL    │ NULL    │\n",
       "│ Suppressed       │ VARCHAR     │ YES     │ NULL    │ NULL    │ NULL    │\n",
       "│ STATUS           │ VARCHAR     │ YES     │ NULL    │ NULL    │ NULL    │\n",
       "│ UNITS            │ VARCHAR     │ YES     │ NULL    │ NULL    │ NULL    │\n",
       "│ Magnitude        │ BIGINT      │ YES     │ NULL    │ NULL    │ NULL    │\n",
       "│ Subject          │ VARCHAR     │ YES     │ NULL    │ NULL    │ NULL    │\n",
       "│ Group            │ VARCHAR     │ YES     │ NULL    │ NULL    │ NULL    │\n",
       "│ Series_title_1   │ VARCHAR     │ YES     │ NULL    │ NULL    │ NULL    │\n",
       "│ Series_title_2   │ VARCHAR     │ YES     │ NULL    │ NULL    │ NULL    │\n",
       "│ Series_title_3   │ VARCHAR     │ YES     │ NULL    │ NULL    │ NULL    │\n",
       "│ Series_title_4   │ VARCHAR     │ YES     │ NULL    │ NULL    │ NULL    │\n",
       "│ Series_title_5   │ VARCHAR     │ YES     │ NULL    │ NULL    │ NULL    │\n",
       "├──────────────────┴─────────────┴─────────┴─────────┴─────────┴─────────┤\n",
       "│ 14 rows                                                      6 columns │\n",
       "└────────────────────────────────────────────────────────────────────────┘"
      ]
     },
     "execution_count": 4,
     "metadata": {},
     "output_type": "execute_result"
    }
   ],
   "source": [
    "duckdb.sql('describe bus_fin')"
   ]
  },
  {
   "cell_type": "code",
   "execution_count": 5,
   "id": "32f81ae6",
   "metadata": {},
   "outputs": [
    {
     "data": {
      "text/plain": [
       "┌──────────────────┬─────────────┬─────────┬─────────┬─────────┬─────────┐\n",
       "│   column_name    │ column_type │  null   │   key   │ default │  extra  │\n",
       "│     varchar      │   varchar   │ varchar │ varchar │ varchar │ varchar │\n",
       "├──────────────────┼─────────────┼─────────┼─────────┼─────────┼─────────┤\n",
       "│ Series_reference │ VARCHAR     │ YES     │ NULL    │ NULL    │ NULL    │\n",
       "│ Period           │ DOUBLE      │ YES     │ NULL    │ NULL    │ NULL    │\n",
       "│ Data_value       │ DOUBLE      │ YES     │ NULL    │ NULL    │ NULL    │\n",
       "│ Suppressed       │ VARCHAR     │ YES     │ NULL    │ NULL    │ NULL    │\n",
       "│ STATUS           │ VARCHAR     │ YES     │ NULL    │ NULL    │ NULL    │\n",
       "│ UNITS            │ VARCHAR     │ YES     │ NULL    │ NULL    │ NULL    │\n",
       "│ Magnitude        │ BIGINT      │ YES     │ NULL    │ NULL    │ NULL    │\n",
       "│ Subject          │ VARCHAR     │ YES     │ NULL    │ NULL    │ NULL    │\n",
       "│ Group            │ VARCHAR     │ YES     │ NULL    │ NULL    │ NULL    │\n",
       "│ Series_title_1   │ VARCHAR     │ YES     │ NULL    │ NULL    │ NULL    │\n",
       "│ Series_title_2   │ VARCHAR     │ YES     │ NULL    │ NULL    │ NULL    │\n",
       "│ Series_title_3   │ VARCHAR     │ YES     │ NULL    │ NULL    │ NULL    │\n",
       "│ Series_title_4   │ VARCHAR     │ YES     │ NULL    │ NULL    │ NULL    │\n",
       "│ Series_title_5   │ VARCHAR     │ YES     │ NULL    │ NULL    │ NULL    │\n",
       "├──────────────────┴─────────────┴─────────┴─────────┴─────────┴─────────┤\n",
       "│ 14 rows                                                      6 columns │\n",
       "└────────────────────────────────────────────────────────────────────────┘"
      ]
     },
     "execution_count": 5,
     "metadata": {},
     "output_type": "execute_result"
    }
   ],
   "source": [
    "duckdb.sql('describe bus_emp')"
   ]
  },
  {
   "cell_type": "markdown",
   "id": "1565e2dd",
   "metadata": {},
   "source": [
    "The immediate issues I spotted with the raw imports are that:\n",
    "- column name cases are all over the place - some in sentence case, some others in all caps\n",
    "- some column names are using common reserved keywords such as `status` and `group`\n",
    "\n",
    "Therefore, I built a quick cleaning tool to get rid of those wrinkles and give me a better starting point for query writing."
   ]
  },
  {
   "cell_type": "code",
   "execution_count": 6,
   "id": "d325f16e",
   "metadata": {},
   "outputs": [
    {
     "name": "stdout",
     "output_type": "stream",
     "text": [
      "bus_fin.Series_reference is renamed to bus_fin.series_reference\n",
      "bus_fin.Period is renamed to bus_fin.period_col\n",
      "bus_fin.Data_value is renamed to bus_fin.data_value\n",
      "bus_fin.Suppressed is renamed to bus_fin.suppressed\n",
      "bus_fin.STATUS is renamed to bus_fin.status_col\n",
      "bus_fin.UNITS is renamed to bus_fin.units_col\n",
      "bus_fin.Magnitude is renamed to bus_fin.magnitude\n",
      "bus_fin.Subject is renamed to bus_fin.subject_col\n",
      "bus_fin.Group is renamed to bus_fin.group_col\n",
      "bus_fin.Series_title_1 is renamed to bus_fin.series_title_1\n",
      "bus_fin.Series_title_2 is renamed to bus_fin.series_title_2\n",
      "bus_fin.Series_title_3 is renamed to bus_fin.series_title_3\n",
      "bus_fin.Series_title_4 is renamed to bus_fin.series_title_4\n",
      "bus_fin.Series_title_5 is renamed to bus_fin.series_title_5\n",
      "bus_emp.Series_reference is renamed to bus_emp.series_reference\n",
      "bus_emp.Period is renamed to bus_emp.period_col\n",
      "bus_emp.Data_value is renamed to bus_emp.data_value\n",
      "bus_emp.Suppressed is renamed to bus_emp.suppressed\n",
      "bus_emp.STATUS is renamed to bus_emp.status_col\n",
      "bus_emp.UNITS is renamed to bus_emp.units_col\n",
      "bus_emp.Magnitude is renamed to bus_emp.magnitude\n",
      "bus_emp.Subject is renamed to bus_emp.subject_col\n",
      "bus_emp.Group is renamed to bus_emp.group_col\n",
      "bus_emp.Series_title_1 is renamed to bus_emp.series_title_1\n",
      "bus_emp.Series_title_2 is renamed to bus_emp.series_title_2\n",
      "bus_emp.Series_title_3 is renamed to bus_emp.series_title_3\n",
      "bus_emp.Series_title_4 is renamed to bus_emp.series_title_4\n",
      "bus_emp.Series_title_5 is renamed to bus_emp.series_title_5\n"
     ]
    }
   ],
   "source": [
    "import re\n",
    "tables = ['bus_fin', 'bus_emp']\n",
    "kw_replace_list = ['period', 'status', 'units', 'group', 'subject']\n",
    "\n",
    "def clean_input(tables: list, kw_replace_list: list):\n",
    "    for table in tables:\n",
    "        rel = duckdb.sql(f'select * from {table}')\n",
    "        for col in rel.columns:\n",
    "            if re.search(r'[A-Z]', col):\n",
    "                new_col = col.lower()\n",
    "                duckdb.sql(f'alter table {table} rename \"{col}\" to \"{new_col}\"')\n",
    "            if col.lower() in kw_replace_list:\n",
    "                new_col = f'{new_col}_col'\n",
    "                duckdb.sql(f'alter table {table} rename \"{col}\" to \"{new_col}\"')\n",
    "            print(f'{table}.{col} is renamed to {table}.{new_col}')\n",
    "\n",
    "clean_input(tables=tables, kw_replace_list=kw_replace_list)"
   ]
  },
  {
   "cell_type": "code",
   "execution_count": 7,
   "id": "6d6c6eae",
   "metadata": {},
   "outputs": [
    {
     "data": {
      "text/plain": [
       "┌──────────────────┬─────────────┬─────────┬─────────┬─────────┬─────────┐\n",
       "│   column_name    │ column_type │  null   │   key   │ default │  extra  │\n",
       "│     varchar      │   varchar   │ varchar │ varchar │ varchar │ varchar │\n",
       "├──────────────────┼─────────────┼─────────┼─────────┼─────────┼─────────┤\n",
       "│ series_reference │ VARCHAR     │ YES     │ NULL    │ NULL    │ NULL    │\n",
       "│ period_col       │ DOUBLE      │ YES     │ NULL    │ NULL    │ NULL    │\n",
       "│ data_value       │ DOUBLE      │ YES     │ NULL    │ NULL    │ NULL    │\n",
       "│ suppressed       │ VARCHAR     │ YES     │ NULL    │ NULL    │ NULL    │\n",
       "│ status_col       │ VARCHAR     │ YES     │ NULL    │ NULL    │ NULL    │\n",
       "│ units_col        │ VARCHAR     │ YES     │ NULL    │ NULL    │ NULL    │\n",
       "│ magnitude        │ BIGINT      │ YES     │ NULL    │ NULL    │ NULL    │\n",
       "│ subject_col      │ VARCHAR     │ YES     │ NULL    │ NULL    │ NULL    │\n",
       "│ group_col        │ VARCHAR     │ YES     │ NULL    │ NULL    │ NULL    │\n",
       "│ series_title_1   │ VARCHAR     │ YES     │ NULL    │ NULL    │ NULL    │\n",
       "│ series_title_2   │ VARCHAR     │ YES     │ NULL    │ NULL    │ NULL    │\n",
       "│ series_title_3   │ VARCHAR     │ YES     │ NULL    │ NULL    │ NULL    │\n",
       "│ series_title_4   │ VARCHAR     │ YES     │ NULL    │ NULL    │ NULL    │\n",
       "│ series_title_5   │ VARCHAR     │ YES     │ NULL    │ NULL    │ NULL    │\n",
       "├──────────────────┴─────────────┴─────────┴─────────┴─────────┴─────────┤\n",
       "│ 14 rows                                                      6 columns │\n",
       "└────────────────────────────────────────────────────────────────────────┘"
      ]
     },
     "execution_count": 7,
     "metadata": {},
     "output_type": "execute_result"
    }
   ],
   "source": [
    "duckdb.sql('describe bus_fin')"
   ]
  },
  {
   "cell_type": "code",
   "execution_count": 8,
   "id": "1de14e17",
   "metadata": {},
   "outputs": [
    {
     "data": {
      "text/plain": [
       "┌──────────────────┬─────────────┬─────────┬─────────┬─────────┬─────────┐\n",
       "│   column_name    │ column_type │  null   │   key   │ default │  extra  │\n",
       "│     varchar      │   varchar   │ varchar │ varchar │ varchar │ varchar │\n",
       "├──────────────────┼─────────────┼─────────┼─────────┼─────────┼─────────┤\n",
       "│ series_reference │ VARCHAR     │ YES     │ NULL    │ NULL    │ NULL    │\n",
       "│ period_col       │ DOUBLE      │ YES     │ NULL    │ NULL    │ NULL    │\n",
       "│ data_value       │ DOUBLE      │ YES     │ NULL    │ NULL    │ NULL    │\n",
       "│ suppressed       │ VARCHAR     │ YES     │ NULL    │ NULL    │ NULL    │\n",
       "│ status_col       │ VARCHAR     │ YES     │ NULL    │ NULL    │ NULL    │\n",
       "│ units_col        │ VARCHAR     │ YES     │ NULL    │ NULL    │ NULL    │\n",
       "│ magnitude        │ BIGINT      │ YES     │ NULL    │ NULL    │ NULL    │\n",
       "│ subject_col      │ VARCHAR     │ YES     │ NULL    │ NULL    │ NULL    │\n",
       "│ group_col        │ VARCHAR     │ YES     │ NULL    │ NULL    │ NULL    │\n",
       "│ series_title_1   │ VARCHAR     │ YES     │ NULL    │ NULL    │ NULL    │\n",
       "│ series_title_2   │ VARCHAR     │ YES     │ NULL    │ NULL    │ NULL    │\n",
       "│ series_title_3   │ VARCHAR     │ YES     │ NULL    │ NULL    │ NULL    │\n",
       "│ series_title_4   │ VARCHAR     │ YES     │ NULL    │ NULL    │ NULL    │\n",
       "│ series_title_5   │ VARCHAR     │ YES     │ NULL    │ NULL    │ NULL    │\n",
       "├──────────────────┴─────────────┴─────────┴─────────┴─────────┴─────────┤\n",
       "│ 14 rows                                                      6 columns │\n",
       "└────────────────────────────────────────────────────────────────────────┘"
      ]
     },
     "execution_count": 8,
     "metadata": {},
     "output_type": "execute_result"
    }
   ],
   "source": [
    "duckdb.sql('describe bus_emp')"
   ]
  },
  {
   "cell_type": "code",
   "execution_count": 9,
   "id": "b5fd38ab",
   "metadata": {},
   "outputs": [
    {
     "name": "stdout",
     "output_type": "stream",
     "text": [
      "┌──────────────────┬────────────┬────────────┬────────────┬────────────┬───────────┬───────────┬────────────────────────────────┬─────────────────────────────────────────────────┬─────────────────────────────────────┬─────────────────────────────────────────────────────────────────────────────┬────────────────┬────────────────┬────────────────┐\n",
      "│ series_reference │ period_col │ data_value │ suppressed │ status_col │ units_col │ magnitude │          subject_col           │                    group_col                    │           series_title_1            │                               series_title_2                                │ series_title_3 │ series_title_4 │ series_title_5 │\n",
      "│     varchar      │   double   │   double   │  varchar   │  varchar   │  varchar  │   int64   │            varchar             │                     varchar                     │               varchar               │                                   varchar                                   │    varchar     │    varchar     │    varchar     │\n",
      "├──────────────────┼────────────┼────────────┼────────────┼────────────┼───────────┼───────────┼────────────────────────────────┼─────────────────────────────────────────────────┼─────────────────────────────────────┼─────────────────────────────────────────────────────────────────────────────┼────────────────┼────────────────┼────────────────┤\n",
      "│ BDCQ.SF3BBCA     │    2016.06 │    142.381 │ NULL       │ F          │ Dollars   │         6 │ Business Data Collection - BDC │ Industry by financial variable (NZSIOC Level 1) │ Salaries and wages                  │ Mining                                                                      │ Current        │ Unadjusted     │ NULL           │\n",
      "│ BDCQ.SF1RSCA     │    2018.12 │    3719.97 │ NULL       │ F          │ Dollars   │         6 │ Business Data Collection - BDC │ Industry by financial variable (NZSIOC Level 1) │ Sales (operating income)            │ Arts, Recreation and Other Services                                         │ Current        │ Unadjusted     │ NULL           │\n",
      "│ BDCQ.SF3AA3CA    │    2019.12 │    389.322 │ NULL       │ F          │ Dollars   │         6 │ Business Data Collection - BDC │ Industry by financial variable (NZSIOC Level 2) │ Salaries and wages                  │ Fishing, Aquaculture and Agriculture, Forestry and Fishing Support Services │ Current prices │ Unadjusted     │ NULL           │\n",
      "│ BDCQ.SF1II1CA    │    2018.09 │   7647.701 │ NULL       │ F          │ Dollars   │         6 │ Business Data Collection - BDC │ Industry by financial variable (NZSIOC Level 2) │ Sales (operating income)            │ Transport, Postal and Warehousing                                           │ Current prices │ Unadjusted     │ NULL           │\n",
      "│ BDCQ.SF1MNCA     │    2022.03 │   15833.86 │ NULL       │ F          │ Dollars   │         6 │ Business Data Collection - BDC │ Industry by financial variable (NZSIOC Level 1) │ Sales (operating income)            │ Professional, Scientific, Technical, Administrative and Support Services    │ Current        │ Unadjusted     │ NULL           │\n",
      "│ BDCQ.SF1AA3CT    │    2020.06 │       NULL │ NULL       │ C          │ Dollars   │         6 │ Business Data Collection - BDC │ Industry by financial variable (NZSIOC Level 2) │ Sales (operating income)            │ Fishing, Aquaculture and Agriculture, Forestry and Fishing Support Services │ Current prices │ Trend          │ NULL           │\n",
      "│ BDCQ.SF1GH1CT    │    2020.03 │       NULL │ NULL       │ C          │ Dollars   │         6 │ Business Data Collection - BDC │ Industry by financial variable (NZSIOC Level 2) │ Sales (operating income)            │ Retail Trade                                                                │ Current prices │ Trend          │ NULL           │\n",
      "│ BDCQ.SF1RS1CA    │    2017.06 │   1123.981 │ NULL       │ F          │ Dollars   │         6 │ Business Data Collection - BDC │ Industry by financial variable (NZSIOC Level 2) │ Sales (operating income)            │ Arts and Recreation Services                                                │ Current prices │ Unadjusted     │ NULL           │\n",
      "│ BDCQ.SF8PP1CA    │    2016.12 │    154.205 │ NULL       │ F          │ Dollars   │         6 │ Business Data Collection - BDC │ Industry by financial variable (NZSIOC Level 2) │ Operating profit                    │ Education and Training                                                      │ Current prices │ Unadjusted     │ NULL           │\n",
      "│ BDCQ.SF2MN1CA    │    2021.09 │   5631.932 │ NULL       │ F          │ Dollars   │         6 │ Business Data Collection - BDC │ Industry by financial variable (NZSIOC Level 2) │ Purchases and operating expenditure │ Professional, Scientific and Technical Services                             │ Current prices │ Unadjusted     │ NULL           │\n",
      "├──────────────────┴────────────┴────────────┴────────────┴────────────┴───────────┴───────────┴────────────────────────────────┴─────────────────────────────────────────────────┴─────────────────────────────────────┴─────────────────────────────────────────────────────────────────────────────┴────────────────┴────────────────┴────────────────┤\n",
      "│ 10 rows                                                                                                                                                                                                                                                                                                                                     14 columns │\n",
      "└────────────────────────────────────────────────────────────────────────────────────────────────────────────────────────────────────────────────────────────────────────────────────────────────────────────────────────────────────────────────────────────────────────────────────────────────────────────────────────────────────────────────────────┘\n",
      "\n"
     ]
    }
   ],
   "source": [
    "duckdb.sql('select * from bus_fin order by random() limit 10').show()"
   ]
  },
  {
   "cell_type": "code",
   "execution_count": 10,
   "id": "bb7109bd",
   "metadata": {},
   "outputs": [
    {
     "name": "stdout",
     "output_type": "stream",
     "text": [
      "┌──────────────────┬────────────┬─────────────┬────────────┬────────────┬───────────┬───────────┬────────────────────────────────┬──────────────────────────────────────────────┬────────────────────────────────────────┬─────────────────────────────────────────────────┬─────────────────────┬────────────────┬────────────────┐\n",
      "│ series_reference │ period_col │ data_value  │ suppressed │ status_col │ units_col │ magnitude │          subject_col           │                  group_col                   │             series_title_1             │                 series_title_2                  │   series_title_3    │ series_title_4 │ series_title_5 │\n",
      "│     varchar      │   double   │   double    │  varchar   │  varchar   │  varchar  │   int64   │            varchar             │                   varchar                    │                varchar                 │                     varchar                     │       varchar       │    varchar     │    varchar     │\n",
      "├──────────────────┼────────────┼─────────────┼────────────┼────────────┼───────────┼───────────┼────────────────────────────────┼──────────────────────────────────────────────┼────────────────────────────────────────┼─────────────────────────────────────────────────┼─────────────────────┼────────────────┼────────────────┤\n",
      "│ BDCQ.SEE2036A    │    2017.12 │   62.763115 │ NULL       │ F          │ Value     │         6 │ Business Data Collection - BDC │ Territorial authority by employment variable │ Total earnings                         │ Ruapehu District                                │ Actual              │ NULL           │ NULL           │\n",
      "│ BDCQ.SEE1042A    │    2016.12 │     11172.0 │ NULL       │ F          │ Number    │         0 │ Business Data Collection - BDC │ Territorial authority by employment variable │ Filled jobs                            │ Horowhenua District                             │ Actual              │ NULL           │ NULL           │\n",
      "│ BDCQ.SED1RKS     │    2019.06 │     19400.0 │ NULL       │ R          │ Number    │         0 │ Business Data Collection - BDC │ Region by employment variable                │ Filled jobs                            │ Nelson                                          │ Seasonally adjusted │ NULL           │ NULL           │\n",
      "│ BDCQ.SEE1060A    │    2019.12 │    179411.0 │ NULL       │ F          │ Number    │         0 │ Business Data Collection - BDC │ Territorial authority by employment variable │ Filled jobs                            │ Christchurch City                               │ Actual              │ NULL           │ NULL           │\n",
      "│ BDCQ.SEB2X1A     │    2015.09 │ 15262.31345 │ NULL       │ F          │ Value     │         6 │ Business Data Collection - BDC │ Sex by employment variable                   │ Total earnings                         │ Male                                            │ Actual              │ NULL           │ NULL           │\n",
      "│ BDCQ.SEC1AFA     │    2014.06 │    204202.0 │ NULL       │ F          │ Number    │         0 │ Business Data Collection - BDC │ Age by employment variable                   │ Filled jobs                            │ 40-44                                           │ Actual              │ NULL           │ NULL           │\n",
      "│ BDCQ.SEA2MS      │    2011.09 │        NULL │ Y          │ R          │ Value     │         6 │ Business Data Collection - BDC │ Industry by employment variable              │ Total earnings                         │ Professional, Scientific and Technical Services │ Seasonally adjusted │ NULL           │ NULL           │\n",
      "│ BDCQ.SEE1054A    │    2015.06 │      1270.0 │ NULL       │ F          │ Number    │         0 │ Business Data Collection - BDC │ Territorial authority by employment variable │ Filled jobs                            │ Kaikoura District                               │ Actual              │ NULL           │ NULL           │\n",
      "│ BDCQ.SED3RNA     │    2015.09 │    259043.0 │ NULL       │ F          │ Number    │         0 │ Business Data Collection - BDC │ Region by employment variable                │ Filled jobs (workplace location based) │ Canterbury                                      │ Actual              │ NULL           │ NULL           │\n",
      "│ BDCQ.SEE1041A    │    2016.12 │      7748.0 │ NULL       │ F          │ Number    │         0 │ Business Data Collection - BDC │ Territorial authority by employment variable │ Filled jobs                            │ Tararua District                                │ Actual              │ NULL           │ NULL           │\n",
      "├──────────────────┴────────────┴─────────────┴────────────┴────────────┴───────────┴───────────┴────────────────────────────────┴──────────────────────────────────────────────┴────────────────────────────────────────┴─────────────────────────────────────────────────┴─────────────────────┴────────────────┴────────────────┤\n",
      "│ 10 rows                                                                                                                                                                                                                                                                                                               14 columns │\n",
      "└──────────────────────────────────────────────────────────────────────────────────────────────────────────────────────────────────────────────────────────────────────────────────────────────────────────────────────────────────────────────────────────────────────────────────────────────────────────────────────────────────┘\n",
      "\n"
     ]
    }
   ],
   "source": [
    "duckdb.sql('select * from bus_emp order by random() limit 10').show()"
   ]
  },
  {
   "cell_type": "markdown",
   "id": "6db9b308",
   "metadata": {},
   "source": [
    "Now I can see column names are "
   ]
  },
  {
   "cell_type": "markdown",
   "id": "d2010e48",
   "metadata": {},
   "source": [
    "Since the data was imported via CSV files, there exists no column / table comments. Hence I'm missing some context with the data here. \n",
    "\n",
    "But, given the data is obtained from Stats NZ and hence publicly available, I went on to their website to see if they have a place detailing what the data is about.\n",
    "\n",
    "Stats NZ does have two pages for the [business financial](https://www.stats.govt.nz/information-releases/business-financial-data-march-2024-quarter/) and [business employment](https://www.stats.govt.nz/information-releases/business-employment-data-march-2024-quarter/) data.\n",
    "\n",
    "By inspecting the sample rows from both tables and the web info, it seems that the following columns are important in subsequent analytics:\n",
    "- `period_col`: valid time period for the data (quaterly)\n",
    "- `data_value`: the value defined by subsequent conditions\n",
    "- `group_col`: type of relationship as characterised by the combination of filters series_title_1, series_title_2, etc.\n",
    "- `series_title_1`, `series_title_2` ... : filters that collectively define `data_value`"
   ]
  },
  {
   "cell_type": "markdown",
   "id": "08fd6c38",
   "metadata": {},
   "source": [
    "### Question 1\n",
    "Of the industries where salaries and wages data did NOT exist in 2016 and only appeared later, \n",
    "which industry had the highest average value for actual filled jobs across time and what was that value?"
   ]
  },
  {
   "cell_type": "code",
   "execution_count": 11,
   "id": "e20f38ca",
   "metadata": {},
   "outputs": [
    {
     "data": {
      "text/plain": [
       "┌──────────────┬────────────────────────┐\n",
       "│   industy    │ avg_actual_filled_jobs │\n",
       "│   varchar    │         double         │\n",
       "├──────────────┼────────────────────────┤\n",
       "│ Retail Trade │               194053.7 │\n",
       "└──────────────┴────────────────────────┘"
      ]
     },
     "execution_count": 11,
     "metadata": {},
     "output_type": "execute_result"
    }
   ],
   "source": [
    "query_1 = '''\n",
    "    select \n",
    "        series_title_2 as industy\n",
    "        , round(avg(data_value), 1) as avg_actual_filled_jobs -- limit decimal places\n",
    "    from bus_emp be\n",
    "    inner join (\n",
    "        select series_title_2 as industry \n",
    "        from bus_fin\n",
    "        -- using lower() and trim() on series_title columns to prudently remove unwanted whitespaces and enable caseless comparison\n",
    "        where lower(trim(series_title_1)) = 'salaries and wages'\n",
    "        group by 1 \n",
    "        having min(period_col) >= 2017 -- salaries and wages data appearing no earlier than 2017\n",
    "    ) x\n",
    "        on lower(trim(be.series_title_2)) = lower(trim(x.industry))\n",
    "    where lower(trim(series_title_1)) = 'filled jobs'\n",
    "        and lower(trim(series_title_3)) = 'actual'\n",
    "    group by 1 \n",
    "    order by 2 desc limit 1 -- picking the top 1 row with highest avg_actual_filled_jobs\n",
    "'''\n",
    "\n",
    "duckdb.sql(query=query_1)"
   ]
  },
  {
   "cell_type": "markdown",
   "id": "c3839a98",
   "metadata": {},
   "source": [
    "Answer: **\"Retail Trade\"** had the highest average value for actual filled jobs across time. The value is **194053.7** (rounded to one decimal place)"
   ]
  },
  {
   "cell_type": "markdown",
   "id": "587a5587",
   "metadata": {},
   "source": [
    "### Question 2\n",
    "Provide the answer and write a DuckDB SQL query to show \n",
    "which year/month combination and industry \n",
    "had the second highest seasonally adjusted operating income sales \n",
    "across all the business industries in New Zealand that are categorised as NZSIOC level 2."
   ]
  },
  {
   "cell_type": "code",
   "execution_count": 12,
   "id": "2c3bebf5",
   "metadata": {},
   "outputs": [
    {
     "data": {
      "text/plain": [
       "┌───────────┬─────────────────┬───────────┐\n",
       "│ yearmonth │    industry     │ sum_sales │\n",
       "│  double   │     varchar     │  double   │\n",
       "├───────────┼─────────────────┼───────────┤\n",
       "│   2023.03 │ Wholesale Trade │ 38810.022 │\n",
       "└───────────┴─────────────────┴───────────┘"
      ]
     },
     "execution_count": 12,
     "metadata": {},
     "output_type": "execute_result"
    }
   ],
   "source": [
    "query_2 = '''\n",
    "with summing_sales as (\n",
    "    select \n",
    "        period_col as yearmonth\n",
    "        , series_title_2 as industry\n",
    "        , coalesce(sum(data_value), 0) as sum_sales -- null means data unavailable, hence coercing to zero\n",
    "    from bus_fin\n",
    "    where lower(trim(group_col)) = 'industry by financial variable (nzsioc level 2)'\n",
    "        and lower(trim(series_title_1)) = 'sales (operating income)'\n",
    "        and lower(trim(series_title_4)) = 'seasonally adjusted'\n",
    "    group by 1, 2\n",
    ")\n",
    ", final as (\n",
    "    select yearmonth, industry, sum_sales \n",
    "    from (\n",
    "        select *, dense_rank() over(order by sum_sales desc) as rnk -- dense rank to ensure rnk = 2 is always available in case of tied sales sum\n",
    "        from summing_sales\n",
    "    ) x \n",
    "    where rnk = 2\n",
    ")\n",
    "select * from final\n",
    "'''\n",
    "\n",
    "duckdb.sql(query=query_2)"
   ]
  },
  {
   "cell_type": "markdown",
   "id": "e3466926",
   "metadata": {},
   "source": [
    "Answer: **\"Wholesale Trade\"** in **March 2023** had the second highest seasonally adjusted operating income sales across all the business industries in New Zealand that are categorised as NZSIOC level 2"
   ]
  },
  {
   "cell_type": "markdown",
   "id": "6d1b4a3f",
   "metadata": {
    "vscode": {
     "languageId": "bat"
    }
   },
   "source": [
    "### Question 3\n",
    "Create a DuckDB SQL query to calculate the quarterly cumulative number of \n",
    "filled jobs over time for the territorial authority \n",
    "with the highest average value of filled jobs across time. \n",
    "\n",
    "You may not use window functions in your query."
   ]
  },
  {
   "cell_type": "code",
   "execution_count": null,
   "id": "76b5f6a1",
   "metadata": {},
   "outputs": [
    {
     "name": "stdout",
     "output_type": "stream",
     "text": [
      "┌────────────┬───────────────────────────────┐\n",
      "│ period_col │ rolling_sum_total_filled_jobs │\n",
      "│   double   │            double             │\n",
      "├────────────┼───────────────────────────────┤\n",
      "│    2011.06 │                      558627.0 │\n",
      "│    2011.09 │                     1124066.0 │\n",
      "│    2011.12 │                     1697795.0 │\n",
      "│    2012.03 │                     2258168.0 │\n",
      "│    2012.06 │                     2831106.0 │\n",
      "│    2012.09 │                     3401783.0 │\n",
      "│    2012.12 │                     3981507.0 │\n",
      "│    2013.03 │                     4556314.0 │\n",
      "│    2013.06 │                     5145225.0 │\n",
      "│    2013.09 │                     5731581.0 │\n",
      "│    2013.12 │                     6330161.0 │\n",
      "│    2014.03 │                     6922160.0 │\n",
      "│    2014.06 │                     7526621.0 │\n",
      "│    2014.09 │                     8132406.0 │\n",
      "│    2014.12 │                     8752492.0 │\n",
      "│    2015.03 │                     9367389.0 │\n",
      "│    2015.06 │                     9997399.0 │\n",
      "│    2015.09 │                    10626104.0 │\n",
      "│    2015.12 │                    11270280.0 │\n",
      "│    2016.03 │                    11909214.0 │\n",
      "│    2016.06 │                    12563929.0 │\n",
      "│    2016.09 │                    13219310.0 │\n",
      "│    2016.12 │                    13890926.0 │\n",
      "│    2017.03 │                    14557170.0 │\n",
      "│    2017.06 │                    15241101.0 │\n",
      "│    2017.09 │                    15922806.0 │\n",
      "│    2017.12 │                    16618464.0 │\n",
      "│    2018.03 │                    17316219.0 │\n",
      "│    2018.06 │                    18013628.0 │\n",
      "│    2018.09 │                    18705412.0 │\n",
      "│    2018.12 │                    19413967.0 │\n",
      "│    2019.03 │                    20117168.0 │\n",
      "│    2019.06 │                    20829142.0 │\n",
      "│    2019.09 │                    21539945.0 │\n",
      "│    2019.12 │                    22268793.0 │\n",
      "│    2020.03 │                    22990824.0 │\n",
      "│    2020.06 │                    23712077.0 │\n",
      "│    2020.09 │                    24426583.0 │\n",
      "│    2020.12 │                    25148075.0 │\n",
      "│    2021.03 │                    25863846.0 │\n",
      "│    2021.06 │                    26593592.0 │\n",
      "│    2021.09 │                    27327830.0 │\n",
      "│    2021.12 │                    28076457.0 │\n",
      "│    2022.03 │                    28818348.0 │\n",
      "│    2022.06 │                    29565489.0 │\n",
      "│    2022.09 │                    30314636.0 │\n",
      "│    2022.12 │                    31080627.0 │\n",
      "│    2023.03 │                    31847062.0 │\n",
      "│    2023.06 │                    32629158.0 │\n",
      "│    2023.09 │                    33411797.0 │\n",
      "│    2023.12 │                    34207477.0 │\n",
      "│    2024.03 │                    34995011.0 │\n",
      "├────────────┴───────────────────────────────┤\n",
      "│ 52 rows                          2 columns │\n",
      "└────────────────────────────────────────────┘\n",
      "\n"
     ]
    }
   ],
   "source": [
    "query_3 = f'''\n",
    "    with average_filled_jobs_ta as (\n",
    "        select \n",
    "            series_title_2 as territorial_authority\n",
    "            , coalesce(avg(data_value), 0) as average_filled_jobs\n",
    "        from bus_emp\n",
    "        where lower(trim(group_col)) = 'territorial authority by employment variable'\n",
    "            and lower(trim(series_title_1)) = 'filled jobs'\n",
    "        group by 1\n",
    "    )\n",
    "    , summing_filled_jobs as (\n",
    "        -- sum fiiled jobs for the TA with max avg value of filled jobs ('Auckland', for this dataset)\n",
    "        select \n",
    "            be.period_col\n",
    "            , sum(be.data_value) as total_filled_jobs\n",
    "        from bus_emp be\n",
    "        where be.series_title_2 = ( select territorial_authority from average_filled_jobs_ta where average_filled_jobs = ( select max(average_filled_jobs) from average_filled_jobs_ta ) )\n",
    "            and lower(trim(be.group_col)) = 'territorial authority by employment variable'\n",
    "            and lower(trim(be.series_title_1)) = 'filled jobs'\n",
    "        group by 1\n",
    "    )\n",
    "    , final as (\n",
    "        select \n",
    "            s1.period_col\n",
    "            , sum(s2.total_filled_jobs) as rolling_sum_total_filled_jobs\n",
    "        from summing_filled_jobs s1\n",
    "        inner join summing_filled_jobs s2 \n",
    "            -- self join with range-matches to match single left hand with range right hand to calculate rolling sum\n",
    "            on s1.period_col >= s2.period_col\n",
    "        group by 1 \n",
    "    )\n",
    "    select * from final \n",
    "    order by 1\n",
    "'''\n",
    "\n",
    "duckdb.sql(query=query_3).show(max_rows=100)"
   ]
  },
  {
   "cell_type": "markdown",
   "id": "e0e25740",
   "metadata": {},
   "source": [
    "#### Extra thought on Question 3\n",
    "If window functions are allowed, the `final` CTE can be simplified as \n",
    "```sql\n",
    "select \n",
    "    period_col\n",
    "    , sum(total_filled_jobs) over(order by period_col rows between unbounded preceding and current row) as rolling_sum_total_filled_jobs\n",
    "from summing_filled_jobs\n",
    "```"
   ]
  },
  {
   "cell_type": "markdown",
   "id": "18d584f8",
   "metadata": {},
   "source": [
    "### Question 4\n",
    "Assume these datasets are used in part of a pipeline where the file that arrives \n",
    "may contain unwanted duplicates, incorrect datatypes, missing dates or other data quality aberrations. \n",
    "\n",
    "What things could be done programmatically to make sure the input data is of adequate quality and improve the pipeline?"
   ]
  },
  {
   "cell_type": "markdown",
   "id": "881c1d73",
   "metadata": {},
   "source": [
    "### Answer - Q4\n",
    "In the event of data quality issues, it is important to firstly define with stakeholders what are the likely issues that occur in the data, and how the issues ought to be addressed when they do happen. \n",
    "\n",
    "For the sake of discussion, let's just use these three issues as an example:\n",
    "- unwanted duplicates\n",
    "- incorrect data types\n",
    "- missing data\n",
    "\n",
    "If duplicates are 'unwanted', then we must have already established with the stakeholders that duplicates are not to be expected in the dataset. \n",
    "\n",
    "Also, incorrect data types will prevent the database engine to append incoming data to an exisiting table target. \n",
    "\n",
    "Hence for these two types of issues, the best way to deal with them is \"quaratine, notify, and inspect\", which means the pipeline should:\n",
    "1. identify the presence of duplicated rows / columns with incorrect data types\n",
    "1. if problematic rows are found, quaratine the rows in question in a separate table for later inspection\n",
    "1. log any issues encountered, preferrably also alert the support engineer about the issue with automated email / messages\n",
    "1. once all problematic rows are isolated, the remainder of dataset can be appended to target\n",
    "1. once notified, the engineers can inspect the quarantined rows from the quarantine tables and decide how to deal with them manually, such as dropping these rows, correct data types etc..\n",
    "\n",
    "Missing data can be processed differently. If stakeholders concur, it is possible to use imputation / inference to fill those missing values where possible, such as with the `.fillna()` method in pandas df. Alternatively, we could still apply the standard 5-step procedure above to deal with missing data issues.\n",
    "\n",
    "There could be more profound issues with data such as inconsistent schema (incoming data having less / more columns than target). Checks for such issues shall be placed at the very beginning of all checks to induce early halt of pipeline for engineer's manual intervention when these issues occur, instead of wasting resources on further checks.\n",
    "\n",
    "To better illustrate the ideology above, I have put together a `quality_check_dataset()` function below to programatically implement these ideas"
   ]
  },
  {
   "cell_type": "code",
   "execution_count": 14,
   "id": "88bc122a",
   "metadata": {},
   "outputs": [],
   "source": [
    "from datetime import datetime\n",
    "import logging\n",
    "logging.basicConfig(format='%(asctime)s %(levelname)-8s %(message)s', level=logging.INFO, datefmt='%Y-%m-%d %H:%M:%S')\n",
    "l = logging.getLogger('inpection_logger')\n",
    "\n",
    "\n",
    "\n",
    "def quality_check_dataset(raw: str, load_target: str, expect_complete: list[str]):\n",
    "    '''\n",
    "    This functions validates the raw data quality in three aspects: duplicated records, missing data, incorrect data types.\n",
    "    \n",
    "    Parameters taken as follows:\n",
    "    1. `raw`: string name of the incoming raw dataset\n",
    "    2. `load_target`: string name of the target table that `raw` will be inserted to\n",
    "    3. `expect_complete`: list of string column names in `raw` where no null values are to be expected\n",
    "    '''\n",
    "\n",
    "    inpsection_tstamp = datetime.now().strftime('%Y%m%d_%H%M%S')\n",
    "\n",
    "    raw_cols = duckdb.sql(f'select * from {raw}').columns\n",
    "    target_dtypes = duckdb.sql(f'select * from {load_target}').dtypes\n",
    "    \n",
    "    try_casts = ', '.join([f'try_cast({raw_cols[i]} as {target_dtypes[i]}) as __try_cast_{raw_cols[i]}' for i in range(len(raw_cols))])\n",
    "    case_when_bad_casts = ' or '.join([f'( {raw_col} is not null and __try_cast_{raw_col} is null )' for raw_col in raw_cols])\n",
    "\n",
    "    completeness_assertion = ' or '.join([f'{i} is null' for i in expect_complete])\n",
    "    \n",
    "\n",
    "    # duplicates\n",
    "    quarantine_dups_destination = f'{raw}_dups_{inpsection_tstamp}'\n",
    "    quartine_dups = f'''\n",
    "        create table {quarantine_dups_destination} as \n",
    "            select max(__dup_rownum) as __dup_cnt, * exclude (__row_hash, __dup_rownum)\n",
    "            from (\n",
    "                select *, md5(raw_tbl::TEXT) as __row_hash, row_number() over(partition by md5(raw_tbl::TEXT) order by random()) as __dup_rownum\n",
    "                from {raw} raw_tbl\n",
    "            ) x\n",
    "            group by all\n",
    "            having max(__dup_rownum) > 1\n",
    "    '''\n",
    "    print(quartine_dups) # print out the quarantine query for demo purposes, not needed in real world\n",
    "    duckdb.sql(quartine_dups)\n",
    "    dup_cnt = duckdb.sql(f'select sum(__dup_cnt) as dup_cnt from {quarantine_dups_destination}').fetchall()[0][0]\n",
    "\n",
    "    if dup_cnt:\n",
    "        l.warning(f'Duplicated rows found, total={dup_cnt}, quarantined in {quarantine_dups_destination}')\n",
    "    else:\n",
    "        l.info('No duplicated data rows found')\n",
    "\n",
    "    reconstruct_raw = f'''\n",
    "        create or replace table {raw} as \n",
    "            select * from {raw}\n",
    "            except \n",
    "            select * exclude(__dup_cnt) from {quarantine_dups_destination}\n",
    "    '''\n",
    "    duckdb.sql(reconstruct_raw)\n",
    "    l.info(f'{raw} reconstructed, less {dup_cnt} rows due to removal of duplicated rows')\n",
    "    l.info(f'{raw} has {duckdb.table(raw).shape[0]} rows remaining\\n')\n",
    "\n",
    "    # missing_data\n",
    "    quartine_missing_data_destination = f'{raw}_missing_data_{inpsection_tstamp}'\n",
    "    quartine_missing_data = f'''\n",
    "        create table {quartine_missing_data_destination} as \n",
    "            select * from {raw} where {completeness_assertion}\n",
    "    '''\n",
    "    print(quartine_missing_data)\n",
    "    duckdb.sql(quartine_missing_data)\n",
    "    missing_data_cnt = duckdb.sql(f'select * from {quartine_missing_data_destination}').shape[0]\n",
    "    \n",
    "    if missing_data_cnt:\n",
    "        l.warning(f'Missing data rows found, total={missing_data_cnt}, quarantined in {quartine_missing_data_destination}')\n",
    "    else:\n",
    "        l.info('No missing data rows found')\n",
    "    \n",
    "\n",
    "    reconstruct_raw = f'''\n",
    "        create or replace table {raw} as \n",
    "            select * from {raw}\n",
    "            except all\n",
    "            select * from {quartine_missing_data_destination}\n",
    "   '''\n",
    "    duckdb.sql(reconstruct_raw)\n",
    "    l.info(f'{raw} reconstructed, less {missing_data_cnt} rows due to removal of rows with missing data')\n",
    "    l.info(f'{raw} has {duckdb.table(raw).shape[0]} rows remaining\\n')\n",
    "\n",
    "\n",
    "    # datatypes\n",
    "    quartine_bad_dtypes_destination = f'{raw}_bad_dtypes_{inpsection_tstamp}'\n",
    "    quartine_bad_dtypes = f'''\n",
    "        create table {quartine_bad_dtypes_destination} as\n",
    "            select columns('^[^_][^_].+') from (\n",
    "                select *, case when {case_when_bad_casts} then 1 else 0 end as __has_bad_dtype\n",
    "                from ( \n",
    "                    select *, {try_casts} from {raw}\n",
    "                ) x\n",
    "            ) x\n",
    "            where __has_bad_dtype = 1\n",
    "    '''\n",
    "    print(quartine_bad_dtypes)\n",
    "    duckdb.sql(quartine_bad_dtypes)\n",
    "    bad_dtypes_cnt = duckdb.sql(f'select * from {quartine_bad_dtypes_destination}').shape[0]\n",
    "\n",
    "    if bad_dtypes_cnt:\n",
    "        l.warning(f'Rows where bad data types exist found, total={bad_dtypes_cnt}, quarantined in {quartine_bad_dtypes_destination}')\n",
    "    else:\n",
    "        l.info('No rows where bad data types exist found')\n",
    "\n",
    "    reconstruct_raw = f'''\n",
    "        create or replace table {raw} as \n",
    "            select * from {raw}\n",
    "            except all\n",
    "            select * from {quartine_bad_dtypes_destination}\n",
    "    '''\n",
    "    duckdb.sql(reconstruct_raw)\n",
    "    l.info(f'{raw} reconstructed, less {bad_dtypes_cnt} rows due to removal of rows with bad data types')\n",
    "    l.info(f'{raw} has {duckdb.table(raw).shape[0]} rows remaining\\n')\n",
    "\n",
    "    l.info(f'Now performing insert into {load_target}')\n",
    "    duckdb.sql(f'insert into {load_target} select * from {raw}')\n",
    "    l.info(f'{load_target} updated with {duckdb.table(raw).shape[0]} rows')\n",
    "    l.info(f'{load_target} now has {duckdb.table(load_target).shape[0]} rows')\n",
    "\n"
   ]
  },
  {
   "cell_type": "markdown",
   "id": "16726870",
   "metadata": {},
   "source": [
    "I have also prepared a simple `test_raw` and `test_target` tables for the purpose of demo.\n",
    "\n",
    "The `test_raw` table has 3 columns and 5 rows. Both `c1_int` and `c3_tstamp` are expected to have no null values. Correct data types are in their column names.\n",
    "\n",
    "The `quality_check_dataset` correctly identified that there are 2 rows that are duplicates (row 1, 2), 1 row with missing data (row 3), and 1 row with incorrect data types (row 4).\n",
    "\n",
    "The remaining 1 row is then correctly inserted to `test_target`.\n",
    "\n",
    "Sufficient logging is provided for engineer's later inspection."
   ]
  },
  {
   "cell_type": "code",
   "execution_count": 15,
   "id": "146c8e31",
   "metadata": {},
   "outputs": [
    {
     "name": "stderr",
     "output_type": "stream",
     "text": [
      "2025-06-14 23:10:23 WARNING  Duplicated rows found, total=2, quarantined in test_raw_dups_20250614_231023\n",
      "2025-06-14 23:10:23 INFO     test_raw reconstructed, less 2 rows due to removal of duplicated rows\n",
      "2025-06-14 23:10:23 INFO     test_raw has 3 rows remaining\n",
      "\n",
      "2025-06-14 23:10:23 WARNING  Missing data rows found, total=1, quarantined in test_raw_missing_data_20250614_231023\n",
      "2025-06-14 23:10:23 INFO     test_raw reconstructed, less 1 rows due to removal of rows with missing data\n",
      "2025-06-14 23:10:23 INFO     test_raw has 2 rows remaining\n",
      "\n",
      "2025-06-14 23:10:23 WARNING  Rows where bad data types exist found, total=1, quarantined in test_raw_bad_dtypes_20250614_231023\n",
      "2025-06-14 23:10:23 INFO     test_raw reconstructed, less 1 rows due to removal of rows with bad data types\n",
      "2025-06-14 23:10:23 INFO     test_raw has 1 rows remaining\n",
      "\n",
      "2025-06-14 23:10:23 INFO     Now performing insert into test_target\n",
      "2025-06-14 23:10:23 INFO     test_target updated with 1 rows\n",
      "2025-06-14 23:10:23 INFO     test_target now has 2 rows\n"
     ]
    },
    {
     "name": "stdout",
     "output_type": "stream",
     "text": [
      "\n",
      "        create table test_raw_dups_20250614_231023 as \n",
      "            select max(__dup_rownum) as __dup_cnt, * exclude (__row_hash, __dup_rownum)\n",
      "            from (\n",
      "                select *, md5(raw_tbl::TEXT) as __row_hash, row_number() over(partition by md5(raw_tbl::TEXT) order by random()) as __dup_rownum\n",
      "                from test_raw raw_tbl\n",
      "            ) x\n",
      "            group by all\n",
      "            having max(__dup_rownum) > 1\n",
      "    \n",
      "\n",
      "        create table test_raw_missing_data_20250614_231023 as \n",
      "            select * from test_raw where c1_int is null or c3_tstamp is null\n",
      "    \n",
      "\n",
      "        create table test_raw_bad_dtypes_20250614_231023 as\n",
      "            select columns('^[^_][^_].+') from (\n",
      "                select *, case when ( c1_int is not null and __try_cast_c1_int is null ) or ( c2_str is not null and __try_cast_c2_str is null ) or ( c3_tstamp is not null and __try_cast_c3_tstamp is null ) then 1 else 0 end as __has_bad_dtype\n",
      "                from ( \n",
      "                    select *, try_cast(c1_int as INTEGER) as __try_cast_c1_int, try_cast(c2_str as VARCHAR) as __try_cast_c2_str, try_cast(c3_tstamp as TIMESTAMP) as __try_cast_c3_tstamp from test_raw\n",
      "                ) x\n",
      "            ) x\n",
      "            where __has_bad_dtype = 1\n",
      "    \n"
     ]
    }
   ],
   "source": [
    "duckdb.sql(\n",
    "    '''\n",
    "    create or replace table test_raw as \n",
    "        select '123' as c1_int,   'abc' as c2_str,   '2025-01-01 00:00:00' as c3_tstamp   union all\n",
    "        select '123' as c1_int,   'abc' as c2_str,   '2025-01-01 00:00:00' as c3_tstamp   union all\n",
    "        select null  as c1_int,   'abc' as c2_str,   null                  as c3_tstamp   union all\n",
    "        select 'xxx' as c1_int,   'abc' as c2_str,   '2025-01-01 00:00:00' as c3_tstamp   union all\n",
    "        select '456' as c1_int,   'abc' as c2_str,   '2025-01-01 00:00:00' as c3_tstamp \n",
    "    '''\n",
    ")\n",
    "\n",
    "duckdb.sql(\n",
    "    '''\n",
    "    create or replace table test_target as \n",
    "        select cast('888' as int) as c1_int,   cast('xyz' as string) as c2_str,   cast(now() as timestamp) as c3_tstamp\n",
    "    '''\n",
    ")\n",
    "\n",
    "quality_check_dataset(raw='test_raw', load_target='test_target', expect_complete=['c1_int', 'c3_tstamp'])"
   ]
  },
  {
   "cell_type": "code",
   "execution_count": 16,
   "id": "ffeac9e3",
   "metadata": {},
   "outputs": [
    {
     "data": {
      "text/plain": [
       "┌─────────┬─────────┬─────────────────────┐\n",
       "│ c1_int  │ c2_str  │      c3_tstamp      │\n",
       "│ varchar │ varchar │       varchar       │\n",
       "├─────────┼─────────┼─────────────────────┤\n",
       "│ 456     │ abc     │ 2025-01-01 00:00:00 │\n",
       "└─────────┴─────────┴─────────────────────┘"
      ]
     },
     "execution_count": 16,
     "metadata": {},
     "output_type": "execute_result"
    }
   ],
   "source": [
    "duckdb.table('test_raw')"
   ]
  },
  {
   "cell_type": "code",
   "execution_count": 17,
   "id": "d028245a",
   "metadata": {},
   "outputs": [
    {
     "data": {
      "text/plain": [
       "┌────────┬─────────┬─────────────────────────┐\n",
       "│ c1_int │ c2_str  │        c3_tstamp        │\n",
       "│ int32  │ varchar │        timestamp        │\n",
       "├────────┼─────────┼─────────────────────────┤\n",
       "│    888 │ xyz     │ 2025-06-14 23:10:23.661 │\n",
       "│    456 │ abc     │ 2025-01-01 00:00:00     │\n",
       "└────────┴─────────┴─────────────────────────┘"
      ]
     },
     "execution_count": 17,
     "metadata": {},
     "output_type": "execute_result"
    }
   ],
   "source": [
    "duckdb.table('test_target')"
   ]
  },
  {
   "cell_type": "markdown",
   "id": "f404a3fe",
   "metadata": {},
   "source": [
    "### Question 5\n",
    "Create summary statistics and perform a statistical analysis or create a model using the provided datasets. We are interested in your justification for your choices and reasoning. \n",
    "\n",
    "You may join the data to other datasets from https://www.stats.govt.nz/large-datasets/csv-files-fordownload/ if you wish"
   ]
  },
  {
   "cell_type": "code",
   "execution_count": 20,
   "id": "b96b37d1",
   "metadata": {},
   "outputs": [
    {
     "data": {
      "text/html": [
       "<div>\n",
       "<style scoped>\n",
       "    .dataframe tbody tr th:only-of-type {\n",
       "        vertical-align: middle;\n",
       "    }\n",
       "\n",
       "    .dataframe tbody tr th {\n",
       "        vertical-align: top;\n",
       "    }\n",
       "\n",
       "    .dataframe thead th {\n",
       "        text-align: right;\n",
       "    }\n",
       "</style>\n",
       "<table border=\"1\" class=\"dataframe\">\n",
       "  <thead>\n",
       "    <tr style=\"text-align: right;\">\n",
       "      <th></th>\n",
       "      <th>year_time</th>\n",
       "      <th>industry</th>\n",
       "      <th>profits_yearly_change</th>\n",
       "      <th>expenditure_yearly_change</th>\n",
       "      <th>salaries_yearly_change</th>\n",
       "    </tr>\n",
       "  </thead>\n",
       "  <tbody>\n",
       "    <tr>\n",
       "      <th>0</th>\n",
       "      <td>2022-01-01</td>\n",
       "      <td>Electricity, Gas, Water and Waste Services</td>\n",
       "      <td>0.092</td>\n",
       "      <td>-0.069</td>\n",
       "      <td>0.094</td>\n",
       "    </tr>\n",
       "    <tr>\n",
       "      <th>1</th>\n",
       "      <td>2023-01-01</td>\n",
       "      <td>Electricity, Gas, Water and Waste Services</td>\n",
       "      <td>0.078</td>\n",
       "      <td>0.056</td>\n",
       "      <td>0.110</td>\n",
       "    </tr>\n",
       "    <tr>\n",
       "      <th>2</th>\n",
       "      <td>2018-01-01</td>\n",
       "      <td>Mining</td>\n",
       "      <td>0.133</td>\n",
       "      <td>0.056</td>\n",
       "      <td>-0.032</td>\n",
       "    </tr>\n",
       "    <tr>\n",
       "      <th>3</th>\n",
       "      <td>2019-01-01</td>\n",
       "      <td>Mining</td>\n",
       "      <td>0.011</td>\n",
       "      <td>-0.049</td>\n",
       "      <td>0.048</td>\n",
       "    </tr>\n",
       "    <tr>\n",
       "      <th>4</th>\n",
       "      <td>2020-01-01</td>\n",
       "      <td>Mining</td>\n",
       "      <td>-0.284</td>\n",
       "      <td>-0.154</td>\n",
       "      <td>-0.092</td>\n",
       "    </tr>\n",
       "    <tr>\n",
       "      <th>...</th>\n",
       "      <td>...</td>\n",
       "      <td>...</td>\n",
       "      <td>...</td>\n",
       "      <td>...</td>\n",
       "      <td>...</td>\n",
       "    </tr>\n",
       "    <tr>\n",
       "      <th>78</th>\n",
       "      <td>2018-01-01</td>\n",
       "      <td>Agriculture, Forestry and Fishing</td>\n",
       "      <td>0.065</td>\n",
       "      <td>0.202</td>\n",
       "      <td>0.098</td>\n",
       "    </tr>\n",
       "    <tr>\n",
       "      <th>79</th>\n",
       "      <td>2019-01-01</td>\n",
       "      <td>Agriculture, Forestry and Fishing</td>\n",
       "      <td>-0.151</td>\n",
       "      <td>0.036</td>\n",
       "      <td>0.078</td>\n",
       "    </tr>\n",
       "    <tr>\n",
       "      <th>80</th>\n",
       "      <td>2020-01-01</td>\n",
       "      <td>Agriculture, Forestry and Fishing</td>\n",
       "      <td>-0.041</td>\n",
       "      <td>-0.037</td>\n",
       "      <td>0.030</td>\n",
       "    </tr>\n",
       "    <tr>\n",
       "      <th>81</th>\n",
       "      <td>2021-01-01</td>\n",
       "      <td>Agriculture, Forestry and Fishing</td>\n",
       "      <td>0.185</td>\n",
       "      <td>0.232</td>\n",
       "      <td>0.082</td>\n",
       "    </tr>\n",
       "    <tr>\n",
       "      <th>82</th>\n",
       "      <td>2022-01-01</td>\n",
       "      <td>Agriculture, Forestry and Fishing</td>\n",
       "      <td>-0.242</td>\n",
       "      <td>0.018</td>\n",
       "      <td>0.052</td>\n",
       "    </tr>\n",
       "  </tbody>\n",
       "</table>\n",
       "<p>83 rows × 5 columns</p>\n",
       "</div>"
      ],
      "text/plain": [
       "    year_time                                    industry  \\\n",
       "0  2022-01-01  Electricity, Gas, Water and Waste Services   \n",
       "1  2023-01-01  Electricity, Gas, Water and Waste Services   \n",
       "2  2018-01-01                                      Mining   \n",
       "3  2019-01-01                                      Mining   \n",
       "4  2020-01-01                                      Mining   \n",
       "..        ...                                         ...   \n",
       "78 2018-01-01           Agriculture, Forestry and Fishing   \n",
       "79 2019-01-01           Agriculture, Forestry and Fishing   \n",
       "80 2020-01-01           Agriculture, Forestry and Fishing   \n",
       "81 2021-01-01           Agriculture, Forestry and Fishing   \n",
       "82 2022-01-01           Agriculture, Forestry and Fishing   \n",
       "\n",
       "    profits_yearly_change  expenditure_yearly_change  salaries_yearly_change  \n",
       "0                   0.092                     -0.069                   0.094  \n",
       "1                   0.078                      0.056                   0.110  \n",
       "2                   0.133                      0.056                  -0.032  \n",
       "3                   0.011                     -0.049                   0.048  \n",
       "4                  -0.284                     -0.154                  -0.092  \n",
       "..                    ...                        ...                     ...  \n",
       "78                  0.065                      0.202                   0.098  \n",
       "79                 -0.151                      0.036                   0.078  \n",
       "80                 -0.041                     -0.037                   0.030  \n",
       "81                  0.185                      0.232                   0.082  \n",
       "82                 -0.242                      0.018                   0.052  \n",
       "\n",
       "[83 rows x 5 columns]"
      ]
     },
     "execution_count": 20,
     "metadata": {},
     "output_type": "execute_result"
    }
   ],
   "source": [
    "bus_fin_salaries = duckdb.sql(\n",
    "    f'''\n",
    "--beginsql\n",
    "    select *\n",
    "        , round(( sum_salaries_in_year - lag(sum_salaries_in_year) over(partition by industry order by year_time) ) / ( lag(sum_salaries_in_year) over(partition by industry order by year_time) ), 3) as yearly_change\n",
    "    from (\n",
    "        select \n",
    "            date_trunc('year', strptime(cast(period_col as string), '%Y.%m')) as year_time\n",
    "            , series_title_2 as industry\n",
    "            , sum(data_value) as sum_salaries_in_year\n",
    "        from bus_fin \n",
    "        -- where lower(trim(series_title_1)) in ( 'operating profit', 'salaries and wages' )\n",
    "        where lower(trim(series_title_1)) = 'salaries and wages'\n",
    "            and lower(trim(group_col)) = 'industry by financial variable (nzsioc level 1)'\n",
    "        group by 1, 2\n",
    "        having count(data_value) = 4 -- ensuring all 4 quarter data present for a given year\n",
    "    ) x\n",
    "--endsql\n",
    "    '''\n",
    ").to_df()\n",
    "\n",
    "bus_profits_jobs = duckdb.sql(\n",
    "    f'''\n",
    "    --beginsql\n",
    "        with profits_changes as (\n",
    "            select *\n",
    "                , round(( sum_profits_in_year - lag(sum_profits_in_year) over(partition by industry order by year_time) ) / ( lag(sum_profits_in_year) over(partition by industry order by year_time) ), 3) as yearly_change\n",
    "            from (\n",
    "                select \n",
    "                    date_trunc('year', strptime(cast(period_col as string), '%Y.%m')) as year_time\n",
    "                    , series_title_2 as industry\n",
    "                    , sum(data_value) as sum_profits_in_year\n",
    "                from bus_fin \n",
    "                where lower(trim(series_title_1)) = 'operating profit'\n",
    "                    and lower(trim(group_col)) = 'industry by financial variable (nzsioc level 1)'\n",
    "                group by 1, 2\n",
    "                having count(data_value) = 4 -- ensuring all 4 quarter data present for a given year\n",
    "            ) x\n",
    "        )\n",
    "        , expenditure_changes as (\n",
    "            select *\n",
    "                , round(( sum_expenditure_in_year - lag(sum_expenditure_in_year) over(partition by industry order by year_time) ) / ( lag(sum_expenditure_in_year) over(partition by industry order by year_time) ), 3) as yearly_change\n",
    "            from (\n",
    "                select \n",
    "                    date_trunc('year', strptime(cast(period_col as string), '%Y.%m')) as year_time\n",
    "                    , series_title_2 as industry\n",
    "                    , sum(data_value) as sum_expenditure_in_year\n",
    "                from bus_fin \n",
    "                where lower(trim(series_title_1)) = 'purchases and operating expenditure'\n",
    "                    and lower(trim(group_col)) = 'industry by financial variable (nzsioc level 1)'\n",
    "                group by 1, 2\n",
    "                having count(data_value) = 4 -- ensuring all 4 quarter data present for a given year\n",
    "            ) x\n",
    "        )\n",
    "        , salaries_changes as (\n",
    "            select *\n",
    "                , round(( sum_salaries_in_year - lag(sum_salaries_in_year) over(partition by industry order by year_time) ) / ( lag(sum_salaries_in_year) over(partition by industry order by year_time) ), 3) as yearly_change\n",
    "            from (\n",
    "                select \n",
    "                    date_trunc('year', strptime(cast(period_col as string), '%Y.%m')) as year_time\n",
    "                    , series_title_2 as industry\n",
    "                    , sum(data_value) as sum_salaries_in_year\n",
    "                from bus_fin \n",
    "                where lower(trim(series_title_1)) = 'salaries and wages'\n",
    "                    and lower(trim(group_col)) = 'industry by financial variable (nzsioc level 1)'\n",
    "                group by 1, 2\n",
    "                having count(data_value) = 4 -- ensuring all 4 quarter data present for a given year\n",
    "            ) x\n",
    "        )\n",
    "        , combined as (\n",
    "            select \n",
    "                pc.year_time\n",
    "                , pc.industry\n",
    "                , pc.yearly_change as profits_yearly_change\n",
    "                , ec.yearly_change as expenditure_yearly_change\n",
    "                , sc.yearly_change as salaries_yearly_change\n",
    "            from profits_changes pc\n",
    "            inner join expenditure_changes ec on lower(trim(pc.industry)) = lower(trim(ec.industry)) and pc.year_time = ec.year_time\n",
    "            inner join salaries_changes sc on lower(trim(pc.industry)) = lower(trim(sc.industry)) and pc.year_time = sc.year_time\n",
    "        )\n",
    "        select * from combined\n",
    "        where profits_yearly_change is not null and expenditure_yearly_change is not null and salaries_yearly_change is not null \n",
    "    --endsql\n",
    "    '''\n",
    ").to_df()\n",
    "\n",
    "bus_profits_jobs"
   ]
  },
  {
   "cell_type": "code",
   "execution_count": null,
   "id": "42d159c9",
   "metadata": {},
   "outputs": [
    {
     "data": {
      "application/vnd.plotly.v1+json": {
       "config": {
        "plotlyServerURL": "https://plot.ly"
       },
       "data": [
        {
         "marker": {
          "color": "#002F6B"
         },
         "name": "Business profits year-on-year change",
         "type": "bar",
         "x": [
          "2018-01-01T00:00:00.000000000",
          "2019-01-01T00:00:00.000000000",
          "2020-01-01T00:00:00.000000000",
          "2021-01-01T00:00:00.000000000",
          "2022-01-01T00:00:00.000000000",
          "2023-01-01T00:00:00.000000000"
         ],
         "xaxis": "x",
         "y": {
          "bdata": "pHA9CtejsD+HFtnO91PDv8uhRbbz/aS/rkfhehSuxz9g5dAi2/nOv1pkO99PjZe/",
          "dtype": "f8"
         },
         "yaxis": "y",
         "zorder": 1
        },
        {
         "marker": {
          "color": "#002F6B"
         },
         "name": "Business salaries year-on-year change",
         "type": "bar",
         "x": [
          "2018-01-01T00:00:00.000000000",
          "2019-01-01T00:00:00.000000000",
          "2020-01-01T00:00:00.000000000",
          "2021-01-01T00:00:00.000000000",
          "2022-01-01T00:00:00.000000000",
          "2023-01-01T00:00:00.000000000"
         ],
         "xaxis": "x2",
         "y": {
          "bdata": "SgwCK4cWuT8rhxbZzvezP7gehetRuJ4/y6FFtvP9tD85tMh2vp+qP4ts5/up8bI/",
          "dtype": "f8"
         },
         "yaxis": "y2",
         "zorder": 0
        },
        {
         "marker": {
          "color": "#002F6B"
         },
         "mode": "markers",
         "name": "Salaries-profits correlation",
         "type": "scatter",
         "x": {
          "bdata": "pHA9CtejsD+HFtnO91PDv8uhRbbz/aS/rkfhehSuxz9g5dAi2/nOv1pkO99PjZe/",
          "dtype": "f8"
         },
         "xaxis": "x3",
         "y": {
          "bdata": "SgwCK4cWuT8rhxbZzvezP7gehetRuJ4/y6FFtvP9tD85tMh2vp+qP4ts5/up8bI/",
          "dtype": "f8"
         },
         "yaxis": "y3",
         "zorder": 1
        },
        {
         "line": {
          "color": "#FAA61A",
          "dash": "solid"
         },
         "mode": "lines",
         "name": "Agriculture, Forestry and Fishing Fit",
         "showlegend": false,
         "type": "scatter",
         "x": {
          "bdata": "pHA9CtejsD+HFtnO91PDv8uhRbbz/aS/rkfhehSuxz9g5dAi2/nOv1pkO99PjZe/",
          "dtype": "f8"
         },
         "xaxis": "x3",
         "y": {
          "bdata": "vTiR5ReOsz/epq0zU+auP/OsG9hbirE/k1TcnfHVtT9AVtWG0XCrP7qKwLPv4bE/",
          "dtype": "f8"
         },
         "yaxis": "y3"
        },
        {
         "marker": {
          "color": "#002F6B"
         },
         "name": "Business profits year-on-year change",
         "type": "bar",
         "x": [
          "2018-01-01T00:00:00.000000000",
          "2019-01-01T00:00:00.000000000",
          "2020-01-01T00:00:00.000000000",
          "2021-01-01T00:00:00.000000000",
          "2022-01-01T00:00:00.000000000",
          "2023-01-01T00:00:00.000000000"
         ],
         "xaxis": "x4",
         "y": {
          "bdata": "/Knx0k1igD8bL90kBoG1P6rx0k1iENC/qvHSTWIQyD+q8dJNYhC4P7gehetRuL4/",
          "dtype": "f8"
         },
         "yaxis": "y4",
         "zorder": 1
        },
        {
         "marker": {
          "color": "#002F6B"
         },
         "name": "Business salaries year-on-year change",
         "type": "bar",
         "x": [
          "2018-01-01T00:00:00.000000000",
          "2019-01-01T00:00:00.000000000",
          "2020-01-01T00:00:00.000000000",
          "2021-01-01T00:00:00.000000000",
          "2022-01-01T00:00:00.000000000",
          "2023-01-01T00:00:00.000000000"
         ],
         "xaxis": "x5",
         "y": {
          "bdata": "2c73U+Olqz/b+X5qvHSjP/yp8dJNYmA/YhBYObTItj97FK5H4Xq0P4lBYOXQIrs/",
          "dtype": "f8"
         },
         "yaxis": "y5",
         "zorder": 0
        },
        {
         "marker": {
          "color": "#002F6B"
         },
         "mode": "markers",
         "name": "Salaries-profits correlation",
         "type": "scatter",
         "x": {
          "bdata": "/Knx0k1igD8bL90kBoG1P6rx0k1iENC/qvHSTWIQyD+q8dJNYhC4P7gehetRuL4/",
          "dtype": "f8"
         },
         "xaxis": "x6",
         "y": {
          "bdata": "2c73U+Olqz/b+X5qvHSjP/yp8dJNYmA/YhBYObTItj97FK5H4Xq0P4lBYOXQIrs/",
          "dtype": "f8"
         },
         "yaxis": "y6",
         "zorder": 1
        },
        {
         "line": {
          "color": "#FAA61A",
          "dash": "solid"
         },
         "mode": "lines",
         "name": "Arts, Recreation and Other Services Fit",
         "showlegend": false,
         "type": "scatter",
         "x": {
          "bdata": "/Knx0k1igD8bL90kBoG1P6rx0k1iENC/qvHSTWIQyD+q8dJNYhC4P7gehetRuL4/",
          "dtype": "f8"
         },
         "xaxis": "x6",
         "y": {
          "bdata": "EPe9eZb3qz8dy0cpqxmyPwAV7v55Zie/iiryG9C7tz8PozoZVqSyP+o65VXfDLQ/",
          "dtype": "f8"
         },
         "yaxis": "y6"
        },
        {
         "marker": {
          "color": "#002F6B"
         },
         "name": "Business profits year-on-year change",
         "type": "bar",
         "x": [
          "2018-01-01T00:00:00.000000000",
          "2019-01-01T00:00:00.000000000",
          "2020-01-01T00:00:00.000000000",
          "2021-01-01T00:00:00.000000000",
          "2022-01-01T00:00:00.000000000",
          "2023-01-01T00:00:00.000000000"
         ],
         "xaxis": "x7",
         "y": {
          "bdata": "kxgEVg4tsj8v3SQGgZXDP3npJjEIrJy/UI2XbhKDwD+6SQwCK4e2P/YoXI/C9cg/",
          "dtype": "f8"
         },
         "yaxis": "y7",
         "zorder": 1
        },
        {
         "marker": {
          "color": "#002F6B"
         },
         "name": "Business salaries year-on-year change",
         "type": "bar",
         "x": [
          "2018-01-01T00:00:00.000000000",
          "2019-01-01T00:00:00.000000000",
          "2020-01-01T00:00:00.000000000",
          "2021-01-01T00:00:00.000000000",
          "2022-01-01T00:00:00.000000000",
          "2023-01-01T00:00:00.000000000"
         ],
         "xaxis": "x8",
         "y": {
          "bdata": "WmQ730+Ntz9zaJHtfD+1PyuHFtnO96M/nMQgsHJowT9YObTIdr6/P6JFtvP91Lg/",
          "dtype": "f8"
         },
         "yaxis": "y8",
         "zorder": 0
        },
        {
         "marker": {
          "color": "#002F6B"
         },
         "mode": "markers",
         "name": "Salaries-profits correlation",
         "type": "scatter",
         "x": {
          "bdata": "kxgEVg4tsj8v3SQGgZXDP3npJjEIrJy/UI2XbhKDwD+6SQwCK4e2P/YoXI/C9cg/",
          "dtype": "f8"
         },
         "xaxis": "x9",
         "y": {
          "bdata": "WmQ730+Ntz9zaJHtfD+1PyuHFtnO96M/nMQgsHJowT9YObTIdr6/P6JFtvP91Lg/",
          "dtype": "f8"
         },
         "yaxis": "y9",
         "zorder": 1
        },
        {
         "line": {
          "color": "#FAA61A",
          "dash": "solid"
         },
         "mode": "lines",
         "name": "Construction Fit",
         "showlegend": false,
         "type": "scatter",
         "x": {
          "bdata": "kxgEVg4tsj8v3SQGgZXDP3npJjEIrJy/UI2XbhKDwD+6SQwCK4e2P/YoXI/C9cg/",
          "dtype": "f8"
         },
         "xaxis": "x9",
         "y": {
          "bdata": "7tGulJJitj9cAsq7K7u7P8HdmCh73K8/xpyDAZsquj+OBPZtTn63PyQ0xQEpeL4/",
          "dtype": "f8"
         },
         "yaxis": "y9"
        },
        {
         "marker": {
          "color": "#002F6B"
         },
         "name": "Business profits year-on-year change",
         "type": "bar",
         "x": [
          "2018-01-01T00:00:00.000000000",
          "2019-01-01T00:00:00.000000000",
          "2020-01-01T00:00:00.000000000",
          "2021-01-01T00:00:00.000000000",
          "2022-01-01T00:00:00.000000000",
          "2023-01-01T00:00:00.000000000"
         ],
         "xaxis": "x10",
         "y": {
          "bdata": "2c73U+Olyz+4HoXrUbi+P/p+arx0k7i/qMZLN4lB0D9OYhBYObTIv4/C9Shcj9I/",
          "dtype": "f8"
         },
         "yaxis": "y10",
         "zorder": 1
        },
        {
         "marker": {
          "color": "#002F6B"
         },
         "name": "Business salaries year-on-year change",
         "type": "bar",
         "x": [
          "2018-01-01T00:00:00.000000000",
          "2019-01-01T00:00:00.000000000",
          "2020-01-01T00:00:00.000000000",
          "2021-01-01T00:00:00.000000000",
          "2022-01-01T00:00:00.000000000",
          "2023-01-01T00:00:00.000000000"
         ],
         "xaxis": "x11",
         "y": {
          "bdata": "ukkMAiuHtj+cxCCwcmixP9v5fmq8dJM/2/l+arx0sz/sUbgeheuhP1TjpZvEIMA/",
          "dtype": "f8"
         },
         "yaxis": "y11",
         "zorder": 0
        },
        {
         "marker": {
          "color": "#002F6B"
         },
         "mode": "markers",
         "name": "Salaries-profits correlation",
         "type": "scatter",
         "x": {
          "bdata": "2c73U+Olyz+4HoXrUbi+P/p+arx0k7i/qMZLN4lB0D9OYhBYObTIv4/C9Shcj9I/",
          "dtype": "f8"
         },
         "xaxis": "x12",
         "y": {
          "bdata": "ukkMAiuHtj+cxCCwcmixP9v5fmq8dJM/2/l+arx0sz/sUbgeheuhP1TjpZvEIMA/",
          "dtype": "f8"
         },
         "yaxis": "y12",
         "zorder": 1
        },
        {
         "line": {
          "color": "#FAA61A",
          "dash": "solid"
         },
         "mode": "lines",
         "name": "Education and Training Fit",
         "showlegend": false,
         "type": "scatter",
         "x": {
          "bdata": "2c73U+Olyz+4HoXrUbi+P/p+arx0k7i/qMZLN4lB0D9OYhBYObTIv4/C9Shcj9I/",
          "dtype": "f8"
         },
         "xaxis": "x12",
         "y": {
          "bdata": "cPd0SCi5tj85qUMEIIWyP3xyqdUaIKI/unvIOBZjuD8wngvtPkOTPw75WlKZ9rk/",
          "dtype": "f8"
         },
         "yaxis": "y12"
        },
        {
         "marker": {
          "color": "#002F6B"
         },
         "name": "Business profits year-on-year change",
         "type": "bar",
         "x": [
          "2018-01-01T00:00:00.000000000",
          "2019-01-01T00:00:00.000000000",
          "2020-01-01T00:00:00.000000000",
          "2021-01-01T00:00:00.000000000",
          "2022-01-01T00:00:00.000000000",
          "2023-01-01T00:00:00.000000000"
         ],
         "xaxis": "x13",
         "y": {
          "bdata": "/Knx0k1isD+6SQwCK4eGP+kmMQisHKq/2c73U+Olm79aZDvfT423PyuHFtnO97M/",
          "dtype": "f8"
         },
         "yaxis": "y13",
         "zorder": 1
        },
        {
         "marker": {
          "color": "#002F6B"
         },
         "name": "Business salaries year-on-year change",
         "type": "bar",
         "x": [
          "2018-01-01T00:00:00.000000000",
          "2019-01-01T00:00:00.000000000",
          "2020-01-01T00:00:00.000000000",
          "2021-01-01T00:00:00.000000000",
          "2022-01-01T00:00:00.000000000",
          "2023-01-01T00:00:00.000000000"
         ],
         "xaxis": "x14",
         "y": {
          "bdata": "CtejcD0Ktz9qvHSTGASmP0w3iUFg5bA/46WbxCCwsj+q8dJNYhC4Pylcj8L1KLw/",
          "dtype": "f8"
         },
         "yaxis": "y14",
         "zorder": 0
        },
        {
         "marker": {
          "color": "#002F6B"
         },
         "mode": "markers",
         "name": "Salaries-profits correlation",
         "type": "scatter",
         "x": {
          "bdata": "/Knx0k1isD+6SQwCK4eGP+kmMQisHKq/2c73U+Olm79aZDvfT423PyuHFtnO97M/",
          "dtype": "f8"
         },
         "xaxis": "x15",
         "y": {
          "bdata": "CtejcD0Ktz9qvHSTGASmP0w3iUFg5bA/46WbxCCwsj+q8dJNYhC4Pylcj8L1KLw/",
          "dtype": "f8"
         },
         "yaxis": "y15",
         "zorder": 1
        },
        {
         "line": {
          "color": "#FAA61A",
          "dash": "solid"
         },
         "mode": "lines",
         "name": "Electricity, Gas, Water and Waste Services Fit",
         "showlegend": false,
         "type": "scatter",
         "x": {
          "bdata": "/Knx0k1isD+6SQwCK4eGP+kmMQisHKq/2c73U+Olm79aZDvfT423PyuHFtnO97M/",
          "dtype": "f8"
         },
         "xaxis": "x15",
         "y": {
          "bdata": "vHvhm4Xltj8WSFor6hqzP1r6DZP5Vq0/NTun9wFjsD9vGQenS+a4P5VKdKHo5bc/",
          "dtype": "f8"
         },
         "yaxis": "y15"
        },
        {
         "marker": {
          "color": "#002F6B"
         },
         "name": "Business profits year-on-year change",
         "type": "bar",
         "x": [
          "2018-01-01T00:00:00.000000000",
          "2019-01-01T00:00:00.000000000",
          "2020-01-01T00:00:00.000000000",
          "2021-01-01T00:00:00.000000000",
          "2022-01-01T00:00:00.000000000",
          "2023-01-01T00:00:00.000000000"
         ],
         "xaxis": "x16",
         "y": {
          "bdata": "i2zn+6nxsj8OLbKd76fGP2ZmZmZmZsY//Knx0k1ikL+JQWDl0CKrvxkEVg4tsr0/",
          "dtype": "f8"
         },
         "yaxis": "y16",
         "zorder": 1
        },
        {
         "marker": {
          "color": "#002F6B"
         },
         "name": "Business salaries year-on-year change",
         "type": "bar",
         "x": [
          "2018-01-01T00:00:00.000000000",
          "2019-01-01T00:00:00.000000000",
          "2020-01-01T00:00:00.000000000",
          "2021-01-01T00:00:00.000000000",
          "2022-01-01T00:00:00.000000000",
          "2023-01-01T00:00:00.000000000"
         ],
         "xaxis": "x17",
         "y": {
          "bdata": "ke18PzVeuj8j2/l+ary0PxkEVg4tsq0/TDeJQWDlwD8Sg8DKoUW2PzEIrBxaZLs/",
          "dtype": "f8"
         },
         "yaxis": "y17",
         "zorder": 0
        },
        {
         "marker": {
          "color": "#002F6B"
         },
         "mode": "markers",
         "name": "Salaries-profits correlation",
         "type": "scatter",
         "x": {
          "bdata": "i2zn+6nxsj8OLbKd76fGP2ZmZmZmZsY//Knx0k1ikL+JQWDl0CKrvxkEVg4tsr0/",
          "dtype": "f8"
         },
         "xaxis": "x18",
         "y": {
          "bdata": "ke18PzVeuj8j2/l+ary0PxkEVg4tsq0/TDeJQWDlwD8Sg8DKoUW2PzEIrBxaZLs/",
          "dtype": "f8"
         },
         "yaxis": "y18",
         "zorder": 1
        },
        {
         "line": {
          "color": "#FAA61A",
          "dash": "solid"
         },
         "mode": "lines",
         "name": "Health Care and Social Assistance Fit",
         "showlegend": false,
         "type": "scatter",
         "x": {
          "bdata": "i2zn+6nxsj8OLbKd76fGP2ZmZmZmZsY//Knx0k1ikL+JQWDl0CKrvxkEVg4tsr0/",
          "dtype": "f8"
         },
         "xaxis": "x18",
         "y": {
          "bdata": "oVtqrnNruD/EJW6+03m0Pw6oCnZujbQ/nULt9KXduz/0rLw5VEi9P5Grk57Cz7Y/",
          "dtype": "f8"
         },
         "yaxis": "y18"
        },
        {
         "marker": {
          "color": "#002F6B"
         },
         "name": "Business profits year-on-year change",
         "type": "bar",
         "x": [
          "2018-01-01T00:00:00.000000000",
          "2019-01-01T00:00:00.000000000",
          "2020-01-01T00:00:00.000000000",
          "2021-01-01T00:00:00.000000000",
          "2022-01-01T00:00:00.000000000",
          "2023-01-01T00:00:00.000000000"
         ],
         "xaxis": "x19",
         "y": {
          "bdata": "RIts5/upsT8xCKwcWmS7v4PAyqFFtrM/ukkMAiuHpj/8qfHSTWLAv6rx0k1iELg/",
          "dtype": "f8"
         },
         "yaxis": "y19",
         "zorder": 1
        },
        {
         "marker": {
          "color": "#002F6B"
         },
         "name": "Business salaries year-on-year change",
         "type": "bar",
         "x": [
          "2018-01-01T00:00:00.000000000",
          "2019-01-01T00:00:00.000000000",
          "2020-01-01T00:00:00.000000000",
          "2021-01-01T00:00:00.000000000",
          "2022-01-01T00:00:00.000000000",
          "2023-01-01T00:00:00.000000000"
         ],
         "xaxis": "x20",
         "y": {
          "bdata": "ukkMAiuHhr9aZDvfT42nPxsv3SQGgZU/O99PjZduoj9Ei2zn+6mxP4lBYOXQIqs/",
          "dtype": "f8"
         },
         "yaxis": "y20",
         "zorder": 0
        },
        {
         "marker": {
          "color": "#002F6B"
         },
         "mode": "markers",
         "name": "Salaries-profits correlation",
         "type": "scatter",
         "x": {
          "bdata": "RIts5/upsT8xCKwcWmS7v4PAyqFFtrM/ukkMAiuHpj/8qfHSTWLAv6rx0k1iELg/",
          "dtype": "f8"
         },
         "xaxis": "x21",
         "y": {
          "bdata": "ukkMAiuHhr9aZDvfT42nPxsv3SQGgZU/O99PjZduoj9Ei2zn+6mxP4lBYOXQIqs/",
          "dtype": "f8"
         },
         "yaxis": "y21",
         "zorder": 1
        },
        {
         "line": {
          "color": "#FAA61A",
          "dash": "solid"
         },
         "mode": "lines",
         "name": "Information Media and Telecommunications Fit",
         "showlegend": false,
         "type": "scatter",
         "x": {
          "bdata": "RIts5/upsT8xCKwcWmS7v4PAyqFFtrM/ukkMAiuHpj/8qfHSTWLAv6rx0k1iELg/",
          "dtype": "f8"
         },
         "xaxis": "x21",
         "y": {
          "bdata": "IKKztkM7mj+X2ZWwsACsP4hbaADO4Jg/ut5ekPN1nj8+ptgva8etP4RlCN2TAJY/",
          "dtype": "f8"
         },
         "yaxis": "y21"
        },
        {
         "marker": {
          "color": "#002F6B"
         },
         "name": "Business profits year-on-year change",
         "type": "bar",
         "x": [
          "2018-01-01T00:00:00.000000000",
          "2019-01-01T00:00:00.000000000",
          "2020-01-01T00:00:00.000000000",
          "2021-01-01T00:00:00.000000000",
          "2022-01-01T00:00:00.000000000",
          "2023-01-01T00:00:00.000000000"
         ],
         "xaxis": "x22",
         "y": {
          "bdata": "6SYxCKwcqr8K16NwPQqnvwAAAAAAAMA/sp3vp8ZLt7/0/dR46SbRP4ts5/up8bK/",
          "dtype": "f8"
         },
         "yaxis": "y22",
         "zorder": 1
        },
        {
         "marker": {
          "color": "#002F6B"
         },
         "name": "Business salaries year-on-year change",
         "type": "bar",
         "x": [
          "2018-01-01T00:00:00.000000000",
          "2019-01-01T00:00:00.000000000",
          "2020-01-01T00:00:00.000000000",
          "2021-01-01T00:00:00.000000000",
          "2022-01-01T00:00:00.000000000",
          "2023-01-01T00:00:00.000000000"
         ],
         "xaxis": "x23",
         "y": {
          "bdata": "6SYxCKwcqj/b+X5qvHSjP9v5fmq8dJM/2c73U+Olqz/TTWIQWDm0P2iR7Xw/Na4/",
          "dtype": "f8"
         },
         "yaxis": "y23",
         "zorder": 0
        },
        {
         "marker": {
          "color": "#002F6B"
         },
         "mode": "markers",
         "name": "Salaries-profits correlation",
         "type": "scatter",
         "x": {
          "bdata": "6SYxCKwcqr8K16NwPQqnvwAAAAAAAMA/sp3vp8ZLt7/0/dR46SbRP4ts5/up8bK/",
          "dtype": "f8"
         },
         "xaxis": "x24",
         "y": {
          "bdata": "6SYxCKwcqj/b+X5qvHSjP9v5fmq8dJM/2c73U+Olqz/TTWIQWDm0P2iR7Xw/Na4/",
          "dtype": "f8"
         },
         "yaxis": "y24",
         "zorder": 1
        },
        {
         "line": {
          "color": "#FAA61A",
          "dash": "solid"
         },
         "mode": "lines",
         "name": "Manufacturing Fit",
         "showlegend": false,
         "type": "scatter",
         "x": {
          "bdata": "6SYxCKwcqr8K16NwPQqnvwAAAAAAAMA/sp3vp8ZLt7/0/dR46SbRP4ts5/up8bK/",
          "dtype": "f8"
         },
         "xaxis": "x24",
         "y": {
          "bdata": "20eRvZ9hqD81kcYORHuoPx1arAvJUas/hgkuoK22pz/zWCKb6rStPwQERYZU/6c/",
          "dtype": "f8"
         },
         "yaxis": "y24"
        },
        {
         "marker": {
          "color": "#002F6B"
         },
         "name": "Business profits year-on-year change",
         "type": "bar",
         "x": [
          "2018-01-01T00:00:00.000000000",
          "2019-01-01T00:00:00.000000000",
          "2020-01-01T00:00:00.000000000",
          "2021-01-01T00:00:00.000000000",
          "2022-01-01T00:00:00.000000000",
          "2023-01-01T00:00:00.000000000"
         ],
         "xaxis": "x25",
         "y": {
          "bdata": "oBov3SQGwT+6SQwCK4eGP5MYBFYOLdK/kxgEVg4t0j9KDAIrhxbRP+f7qfHSTcK/",
          "dtype": "f8"
         },
         "yaxis": "y25",
         "zorder": 1
        },
        {
         "marker": {
          "color": "#002F6B"
         },
         "name": "Business salaries year-on-year change",
         "type": "bar",
         "x": [
          "2018-01-01T00:00:00.000000000",
          "2019-01-01T00:00:00.000000000",
          "2020-01-01T00:00:00.000000000",
          "2021-01-01T00:00:00.000000000",
          "2022-01-01T00:00:00.000000000",
          "2023-01-01T00:00:00.000000000"
         ],
         "xaxis": "x26",
         "y": {
          "bdata": "/Knx0k1ioL/6fmq8dJOoP1pkO99Pjbe/c2iR7Xw/tT9I4XoUrkfBP6JFtvP91Lg/",
          "dtype": "f8"
         },
         "yaxis": "y26",
         "zorder": 0
        },
        {
         "marker": {
          "color": "#002F6B"
         },
         "mode": "markers",
         "name": "Salaries-profits correlation",
         "type": "scatter",
         "x": {
          "bdata": "oBov3SQGwT+6SQwCK4eGP5MYBFYOLdK/kxgEVg4t0j9KDAIrhxbRP+f7qfHSTcK/",
          "dtype": "f8"
         },
         "xaxis": "x27",
         "y": {
          "bdata": "/Knx0k1ioL/6fmq8dJOoP1pkO99Pjbe/c2iR7Xw/tT9I4XoUrkfBP6JFtvP91Lg/",
          "dtype": "f8"
         },
         "yaxis": "y27",
         "zorder": 1
        },
        {
         "line": {
          "color": "#FAA61A",
          "dash": "solid"
         },
         "mode": "lines",
         "name": "Mining Fit",
         "showlegend": false,
         "type": "scatter",
         "x": {
          "bdata": "oBov3SQGwT+6SQwCK4eGP5MYBFYOLdK/kxgEVg4t0j9KDAIrhxbRP+f7qfHSTcK/",
          "dtype": "f8"
         },
         "xaxis": "x27",
         "y": {
          "bdata": "iG1coDtvrj96/c8dc5GgPxMJTecK9qC/4KF6lmjMtz8kRs9rFtW2P6CNyH6T7V2/",
          "dtype": "f8"
         },
         "yaxis": "y27"
        },
        {
         "marker": {
          "color": "#002F6B"
         },
         "name": "Business profits year-on-year change",
         "type": "bar",
         "x": [
          "2018-01-01T00:00:00.000000000",
          "2019-01-01T00:00:00.000000000",
          "2020-01-01T00:00:00.000000000",
          "2021-01-01T00:00:00.000000000",
          "2022-01-01T00:00:00.000000000",
          "2023-01-01T00:00:00.000000000"
         ],
         "xaxis": "x28",
         "y": {
          "bdata": "WmQ730+Npz/LoUW28/20PycxCKwcWsS/CtejcD0Ktz9YObTIdr7PP5HtfD81Xro/",
          "dtype": "f8"
         },
         "yaxis": "y28",
         "zorder": 1
        },
        {
         "marker": {
          "color": "#002F6B"
         },
         "name": "Business salaries year-on-year change",
         "type": "bar",
         "x": [
          "2018-01-01T00:00:00.000000000",
          "2019-01-01T00:00:00.000000000",
          "2020-01-01T00:00:00.000000000",
          "2021-01-01T00:00:00.000000000",
          "2022-01-01T00:00:00.000000000",
          "2023-01-01T00:00:00.000000000"
         ],
         "xaxis": "x29",
         "y": {
          "bdata": "YhBYObTItj+JQWDl0CKrP3sUrkfhepQ/0SLb+X5qvD+4HoXrUbi+P3sUrkfherQ/",
          "dtype": "f8"
         },
         "yaxis": "y29",
         "zorder": 0
        },
        {
         "marker": {
          "color": "#002F6B"
         },
         "mode": "markers",
         "name": "Salaries-profits correlation",
         "type": "scatter",
         "x": {
          "bdata": "WmQ730+Npz/LoUW28/20PycxCKwcWsS/CtejcD0Ktz9YObTIdr7PP5HtfD81Xro/",
          "dtype": "f8"
         },
         "xaxis": "x30",
         "y": {
          "bdata": "YhBYObTItj+JQWDl0CKrP3sUrkfhepQ/0SLb+X5qvD+4HoXrUbi+P3sUrkfherQ/",
          "dtype": "f8"
         },
         "yaxis": "y30",
         "zorder": 1
        },
        {
         "line": {
          "color": "#FAA61A",
          "dash": "solid"
         },
         "mode": "lines",
         "name": "Professional, Scientific, Technical, Administrative and Support Services Fit",
         "showlegend": false,
         "type": "scatter",
         "x": {
          "bdata": "WmQ730+Npz/LoUW28/20PycxCKwcWsS/CtejcD0Ktz9YObTIdr7PP5HtfD81Xro/",
          "dtype": "f8"
         },
         "xaxis": "x30",
         "y": {
          "bdata": "4W02+IzLsj8ElkK8lAe1P+YIU2+fSJg/fYLT57KGtT/bwEHERlW/P8ICn+5DVbY/",
          "dtype": "f8"
         },
         "yaxis": "y30"
        },
        {
         "marker": {
          "color": "#002F6B"
         },
         "name": "Business profits year-on-year change",
         "type": "bar",
         "x": [
          "2018-01-01T00:00:00.000000000",
          "2019-01-01T00:00:00.000000000",
          "2020-01-01T00:00:00.000000000",
          "2021-01-01T00:00:00.000000000",
          "2022-01-01T00:00:00.000000000",
          "2023-01-01T00:00:00.000000000"
         ],
         "xaxis": "x31",
         "y": {
          "bdata": "46WbxCCwsj/jpZvEILCyv6jGSzeJQcA/SgwCK4cWuT8rhxbZzvfDvzm0yHa+n7o/",
          "dtype": "f8"
         },
         "yaxis": "y31",
         "zorder": 1
        },
        {
         "marker": {
          "color": "#002F6B"
         },
         "name": "Business salaries year-on-year change",
         "type": "bar",
         "x": [
          "2018-01-01T00:00:00.000000000",
          "2019-01-01T00:00:00.000000000",
          "2020-01-01T00:00:00.000000000",
          "2021-01-01T00:00:00.000000000",
          "2022-01-01T00:00:00.000000000",
          "2023-01-01T00:00:00.000000000"
         ],
         "xaxis": "x32",
         "y": {
          "bdata": "sp3vp8ZLtz956SYxCKysP/yp8dJNYpC/YhBYObTItj9U46WbxCDAP3npJjEIrHw/",
          "dtype": "f8"
         },
         "yaxis": "y32",
         "zorder": 0
        },
        {
         "marker": {
          "color": "#002F6B"
         },
         "mode": "markers",
         "name": "Salaries-profits correlation",
         "type": "scatter",
         "x": {
          "bdata": "46WbxCCwsj/jpZvEILCyv6jGSzeJQcA/SgwCK4cWuT8rhxbZzvfDvzm0yHa+n7o/",
          "dtype": "f8"
         },
         "xaxis": "x33",
         "y": {
          "bdata": "sp3vp8ZLtz956SYxCKysP/yp8dJNYpC/YhBYObTItj9U46WbxCDAP3npJjEIrHw/",
          "dtype": "f8"
         },
         "yaxis": "y33",
         "zorder": 1
        },
        {
         "line": {
          "color": "#FAA61A",
          "dash": "solid"
         },
         "mode": "lines",
         "name": "Rental, Hiring and Real Estate Services Fit",
         "showlegend": false,
         "type": "scatter",
         "x": {
          "bdata": "46WbxCCwsj/jpZvEILCyv6jGSzeJQcA/SgwCK4cWuT8rhxbZzvfDvzm0yHa+n7o/",
          "dtype": "f8"
         },
         "xaxis": "x33",
         "y": {
          "bdata": "gPxOONtfpz+eZfTWRNe2PwRET3hfP54/WNcW+v+Noz+Irf+zgi69PxI/hHpQo6I/",
          "dtype": "f8"
         },
         "yaxis": "y33"
        },
        {
         "marker": {
          "color": "#002F6B"
         },
         "name": "Business profits year-on-year change",
         "type": "bar",
         "x": [
          "2019-01-01T00:00:00.000000000",
          "2020-01-01T00:00:00.000000000",
          "2021-01-01T00:00:00.000000000",
          "2022-01-01T00:00:00.000000000",
          "2023-01-01T00:00:00.000000000"
         ],
         "xaxis": "x34",
         "y": {
          "bdata": "yXa+nxovrT8pXI/C9Si8P3sUrkfheqQ/yXa+nxovrT9MN4lBYOWwvw==",
          "dtype": "f8"
         },
         "yaxis": "y34",
         "zorder": 1
        },
        {
         "marker": {
          "color": "#002F6B"
         },
         "name": "Business salaries year-on-year change",
         "type": "bar",
         "x": [
          "2019-01-01T00:00:00.000000000",
          "2020-01-01T00:00:00.000000000",
          "2021-01-01T00:00:00.000000000",
          "2022-01-01T00:00:00.000000000",
          "2023-01-01T00:00:00.000000000"
         ],
         "xaxis": "x35",
         "y": {
          "bdata": "aJHtfD81rj8730+Nl26CP2IQWDm0yLY/001iEFg5tD+LbOf7qfGyPw==",
          "dtype": "f8"
         },
         "yaxis": "y35",
         "zorder": 0
        },
        {
         "marker": {
          "color": "#002F6B"
         },
         "mode": "markers",
         "name": "Salaries-profits correlation",
         "type": "scatter",
         "x": {
          "bdata": "yXa+nxovrT8pXI/C9Si8P3sUrkfheqQ/yXa+nxovrT9MN4lBYOWwvw==",
          "dtype": "f8"
         },
         "xaxis": "x36",
         "y": {
          "bdata": "aJHtfD81rj8730+Nl26CP2IQWDm0yLY/001iEFg5tD+LbOf7qfGyPw==",
          "dtype": "f8"
         },
         "yaxis": "y36",
         "zorder": 1
        },
        {
         "line": {
          "color": "#FAA61A",
          "dash": "solid"
         },
         "mode": "lines",
         "name": "Retail Trade and Accommodation Fit",
         "showlegend": false,
         "type": "scatter",
         "x": {
          "bdata": "yXa+nxovrT8pXI/C9Si8P3sUrkfheqQ/yXa+nxovrT9MN4lBYOWwvw==",
          "dtype": "f8"
         },
         "xaxis": "x36",
         "y": {
          "bdata": "EIGlPRs3rT9GalIjRYOlP1bCIAyVr68/EIGlPRs3rT/2d2OgoIu3Pw==",
          "dtype": "f8"
         },
         "yaxis": "y36"
        },
        {
         "marker": {
          "color": "#002F6B"
         },
         "name": "Business profits year-on-year change",
         "type": "bar",
         "x": [
          "2018-01-01T00:00:00.000000000",
          "2019-01-01T00:00:00.000000000",
          "2020-01-01T00:00:00.000000000",
          "2021-01-01T00:00:00.000000000",
          "2022-01-01T00:00:00.000000000",
          "2023-01-01T00:00:00.000000000"
         ],
         "xaxis": "x37",
         "y": {
          "bdata": "nMQgsHJokT8IrBxaZDuvP5qZmZmZmcm/4XoUrkfhyj+wcmiR7XzPP4PAyqFFtrO/",
          "dtype": "f8"
         },
         "yaxis": "y37",
         "zorder": 1
        },
        {
         "marker": {
          "color": "#002F6B"
         },
         "name": "Business salaries year-on-year change",
         "type": "bar",
         "x": [
          "2018-01-01T00:00:00.000000000",
          "2019-01-01T00:00:00.000000000",
          "2020-01-01T00:00:00.000000000",
          "2021-01-01T00:00:00.000000000",
          "2022-01-01T00:00:00.000000000",
          "2023-01-01T00:00:00.000000000"
         ],
         "xaxis": "x38",
         "y": {
          "bdata": "ObTIdr6fqj8IrBxaZDuvP4lBYOXQIru/SgwCK4cWqT8rhxbZzvfDP1TjpZvEIMA/",
          "dtype": "f8"
         },
         "yaxis": "y38",
         "zorder": 0
        },
        {
         "marker": {
          "color": "#002F6B"
         },
         "mode": "markers",
         "name": "Salaries-profits correlation",
         "type": "scatter",
         "x": {
          "bdata": "nMQgsHJokT8IrBxaZDuvP5qZmZmZmcm/4XoUrkfhyj+wcmiR7XzPP4PAyqFFtrO/",
          "dtype": "f8"
         },
         "xaxis": "x39",
         "y": {
          "bdata": "ObTIdr6fqj8IrBxaZDuvP4lBYOXQIru/SgwCK4cWqT8rhxbZzvfDP1TjpZvEIMA/",
          "dtype": "f8"
         },
         "yaxis": "y39",
         "zorder": 1
        },
        {
         "line": {
          "color": "#FAA61A",
          "dash": "solid"
         },
         "mode": "lines",
         "name": "Transport, Postal and Warehousing Fit",
         "showlegend": false,
         "type": "scatter",
         "x": {
          "bdata": "nMQgsHJokT8IrBxaZDuvP5qZmZmZmcm/4XoUrkfhyj+wcmiR7XzPP4PAyqFFtrO/",
          "dtype": "f8"
         },
         "xaxis": "x39",
         "y": {
          "bdata": "BIxtb281qD9hhvur+QywP+y6n9zBbp2/0RHNMhNqvT+b1zwgU1LAP0hY2RGFY40/",
          "dtype": "f8"
         },
         "yaxis": "y39"
        },
        {
         "marker": {
          "color": "#002F6B"
         },
         "name": "Business profits year-on-year change",
         "type": "bar",
         "x": [
          "2018-01-01T00:00:00.000000000",
          "2019-01-01T00:00:00.000000000",
          "2020-01-01T00:00:00.000000000",
          "2021-01-01T00:00:00.000000000",
          "2022-01-01T00:00:00.000000000",
          "2023-01-01T00:00:00.000000000"
         ],
         "xaxis": "x40",
         "y": {
          "bdata": "O99PjZdugj/0/dR46SaxP5zEILByaNE/mpmZmZmZmb8K16NwPQqnPzm0yHa+n5o/",
          "dtype": "f8"
         },
         "yaxis": "y40",
         "zorder": 1
        },
        {
         "marker": {
          "color": "#002F6B"
         },
         "name": "Business salaries year-on-year change",
         "type": "bar",
         "x": [
          "2018-01-01T00:00:00.000000000",
          "2019-01-01T00:00:00.000000000",
          "2020-01-01T00:00:00.000000000",
          "2021-01-01T00:00:00.000000000",
          "2022-01-01T00:00:00.000000000",
          "2023-01-01T00:00:00.000000000"
         ],
         "xaxis": "x41",
         "y": {
          "bdata": "eekmMQisrD+q8dJNYhCoP/p+arx0k3g/CtejcD0Ktz9KDAIrhxa5Pylcj8L1KKw/",
          "dtype": "f8"
         },
         "yaxis": "y41",
         "zorder": 0
        },
        {
         "marker": {
          "color": "#002F6B"
         },
         "mode": "markers",
         "name": "Salaries-profits correlation",
         "type": "scatter",
         "x": {
          "bdata": "O99PjZdugj/0/dR46SaxP5zEILByaNE/mpmZmZmZmb8K16NwPQqnPzm0yHa+n5o/",
          "dtype": "f8"
         },
         "xaxis": "x42",
         "y": {
          "bdata": "eekmMQisrD+q8dJNYhCoP/p+arx0k3g/CtejcD0Ktz9KDAIrhxa5Pylcj8L1KKw/",
          "dtype": "f8"
         },
         "yaxis": "y42",
         "zorder": 1
        },
        {
         "line": {
          "color": "#FAA61A",
          "dash": "solid"
         },
         "mode": "lines",
         "name": "Wholesale Trade Fit",
         "showlegend": false,
         "type": "scatter",
         "x": {
          "bdata": "O99PjZdugj/0/dR46SaxP5zEILByaNE/mpmZmZmZmb8K16NwPQqnPzm0yHa+n5o/",
          "dtype": "f8"
         },
         "xaxis": "x42",
         "y": {
          "bdata": "Z0lTuPm0sj+d0wbiH92tPzADS+6pbHk/wSRNWX7rtD8JQ9L+IV2wP7tb1me3mbE/",
          "dtype": "f8"
         },
         "yaxis": "y42"
        }
       ],
       "layout": {
        "annotations": [
         {
          "font": {
           "size": 16
          },
          "showarrow": false,
          "text": "Business profits year-on-year change",
          "x": 0.14444444444444446,
          "xanchor": "center",
          "xref": "paper",
          "y": 1,
          "yanchor": "bottom",
          "yref": "paper"
         },
         {
          "font": {
           "size": 16
          },
          "showarrow": false,
          "text": "Business salaries year-on-year change",
          "x": 0.5,
          "xanchor": "center",
          "xref": "paper",
          "y": 1,
          "yanchor": "bottom",
          "yref": "paper"
         },
         {
          "font": {
           "size": 16
          },
          "showarrow": false,
          "text": "Salaries-profits correlation",
          "x": 0.8555555555555556,
          "xanchor": "center",
          "xref": "paper",
          "y": 1,
          "yanchor": "bottom",
          "yref": "paper"
         }
        ],
        "height": 5000,
        "showlegend": false,
        "template": {
         "data": {
          "bar": [
           {
            "error_x": {
             "color": "#2a3f5f"
            },
            "error_y": {
             "color": "#2a3f5f"
            },
            "marker": {
             "line": {
              "color": "#E5ECF6",
              "width": 0.5
             },
             "pattern": {
              "fillmode": "overlay",
              "size": 10,
              "solidity": 0.2
             }
            },
            "type": "bar"
           }
          ],
          "barpolar": [
           {
            "marker": {
             "line": {
              "color": "#E5ECF6",
              "width": 0.5
             },
             "pattern": {
              "fillmode": "overlay",
              "size": 10,
              "solidity": 0.2
             }
            },
            "type": "barpolar"
           }
          ],
          "carpet": [
           {
            "aaxis": {
             "endlinecolor": "#2a3f5f",
             "gridcolor": "white",
             "linecolor": "white",
             "minorgridcolor": "white",
             "startlinecolor": "#2a3f5f"
            },
            "baxis": {
             "endlinecolor": "#2a3f5f",
             "gridcolor": "white",
             "linecolor": "white",
             "minorgridcolor": "white",
             "startlinecolor": "#2a3f5f"
            },
            "type": "carpet"
           }
          ],
          "choropleth": [
           {
            "colorbar": {
             "outlinewidth": 0,
             "ticks": ""
            },
            "type": "choropleth"
           }
          ],
          "contour": [
           {
            "colorbar": {
             "outlinewidth": 0,
             "ticks": ""
            },
            "colorscale": [
             [
              0,
              "#0d0887"
             ],
             [
              0.1111111111111111,
              "#46039f"
             ],
             [
              0.2222222222222222,
              "#7201a8"
             ],
             [
              0.3333333333333333,
              "#9c179e"
             ],
             [
              0.4444444444444444,
              "#bd3786"
             ],
             [
              0.5555555555555556,
              "#d8576b"
             ],
             [
              0.6666666666666666,
              "#ed7953"
             ],
             [
              0.7777777777777778,
              "#fb9f3a"
             ],
             [
              0.8888888888888888,
              "#fdca26"
             ],
             [
              1,
              "#f0f921"
             ]
            ],
            "type": "contour"
           }
          ],
          "contourcarpet": [
           {
            "colorbar": {
             "outlinewidth": 0,
             "ticks": ""
            },
            "type": "contourcarpet"
           }
          ],
          "heatmap": [
           {
            "colorbar": {
             "outlinewidth": 0,
             "ticks": ""
            },
            "colorscale": [
             [
              0,
              "#0d0887"
             ],
             [
              0.1111111111111111,
              "#46039f"
             ],
             [
              0.2222222222222222,
              "#7201a8"
             ],
             [
              0.3333333333333333,
              "#9c179e"
             ],
             [
              0.4444444444444444,
              "#bd3786"
             ],
             [
              0.5555555555555556,
              "#d8576b"
             ],
             [
              0.6666666666666666,
              "#ed7953"
             ],
             [
              0.7777777777777778,
              "#fb9f3a"
             ],
             [
              0.8888888888888888,
              "#fdca26"
             ],
             [
              1,
              "#f0f921"
             ]
            ],
            "type": "heatmap"
           }
          ],
          "histogram": [
           {
            "marker": {
             "pattern": {
              "fillmode": "overlay",
              "size": 10,
              "solidity": 0.2
             }
            },
            "type": "histogram"
           }
          ],
          "histogram2d": [
           {
            "colorbar": {
             "outlinewidth": 0,
             "ticks": ""
            },
            "colorscale": [
             [
              0,
              "#0d0887"
             ],
             [
              0.1111111111111111,
              "#46039f"
             ],
             [
              0.2222222222222222,
              "#7201a8"
             ],
             [
              0.3333333333333333,
              "#9c179e"
             ],
             [
              0.4444444444444444,
              "#bd3786"
             ],
             [
              0.5555555555555556,
              "#d8576b"
             ],
             [
              0.6666666666666666,
              "#ed7953"
             ],
             [
              0.7777777777777778,
              "#fb9f3a"
             ],
             [
              0.8888888888888888,
              "#fdca26"
             ],
             [
              1,
              "#f0f921"
             ]
            ],
            "type": "histogram2d"
           }
          ],
          "histogram2dcontour": [
           {
            "colorbar": {
             "outlinewidth": 0,
             "ticks": ""
            },
            "colorscale": [
             [
              0,
              "#0d0887"
             ],
             [
              0.1111111111111111,
              "#46039f"
             ],
             [
              0.2222222222222222,
              "#7201a8"
             ],
             [
              0.3333333333333333,
              "#9c179e"
             ],
             [
              0.4444444444444444,
              "#bd3786"
             ],
             [
              0.5555555555555556,
              "#d8576b"
             ],
             [
              0.6666666666666666,
              "#ed7953"
             ],
             [
              0.7777777777777778,
              "#fb9f3a"
             ],
             [
              0.8888888888888888,
              "#fdca26"
             ],
             [
              1,
              "#f0f921"
             ]
            ],
            "type": "histogram2dcontour"
           }
          ],
          "mesh3d": [
           {
            "colorbar": {
             "outlinewidth": 0,
             "ticks": ""
            },
            "type": "mesh3d"
           }
          ],
          "parcoords": [
           {
            "line": {
             "colorbar": {
              "outlinewidth": 0,
              "ticks": ""
             }
            },
            "type": "parcoords"
           }
          ],
          "pie": [
           {
            "automargin": true,
            "type": "pie"
           }
          ],
          "scatter": [
           {
            "fillpattern": {
             "fillmode": "overlay",
             "size": 10,
             "solidity": 0.2
            },
            "type": "scatter"
           }
          ],
          "scatter3d": [
           {
            "line": {
             "colorbar": {
              "outlinewidth": 0,
              "ticks": ""
             }
            },
            "marker": {
             "colorbar": {
              "outlinewidth": 0,
              "ticks": ""
             }
            },
            "type": "scatter3d"
           }
          ],
          "scattercarpet": [
           {
            "marker": {
             "colorbar": {
              "outlinewidth": 0,
              "ticks": ""
             }
            },
            "type": "scattercarpet"
           }
          ],
          "scattergeo": [
           {
            "marker": {
             "colorbar": {
              "outlinewidth": 0,
              "ticks": ""
             }
            },
            "type": "scattergeo"
           }
          ],
          "scattergl": [
           {
            "marker": {
             "colorbar": {
              "outlinewidth": 0,
              "ticks": ""
             }
            },
            "type": "scattergl"
           }
          ],
          "scattermap": [
           {
            "marker": {
             "colorbar": {
              "outlinewidth": 0,
              "ticks": ""
             }
            },
            "type": "scattermap"
           }
          ],
          "scattermapbox": [
           {
            "marker": {
             "colorbar": {
              "outlinewidth": 0,
              "ticks": ""
             }
            },
            "type": "scattermapbox"
           }
          ],
          "scatterpolar": [
           {
            "marker": {
             "colorbar": {
              "outlinewidth": 0,
              "ticks": ""
             }
            },
            "type": "scatterpolar"
           }
          ],
          "scatterpolargl": [
           {
            "marker": {
             "colorbar": {
              "outlinewidth": 0,
              "ticks": ""
             }
            },
            "type": "scatterpolargl"
           }
          ],
          "scatterternary": [
           {
            "marker": {
             "colorbar": {
              "outlinewidth": 0,
              "ticks": ""
             }
            },
            "type": "scatterternary"
           }
          ],
          "surface": [
           {
            "colorbar": {
             "outlinewidth": 0,
             "ticks": ""
            },
            "colorscale": [
             [
              0,
              "#0d0887"
             ],
             [
              0.1111111111111111,
              "#46039f"
             ],
             [
              0.2222222222222222,
              "#7201a8"
             ],
             [
              0.3333333333333333,
              "#9c179e"
             ],
             [
              0.4444444444444444,
              "#bd3786"
             ],
             [
              0.5555555555555556,
              "#d8576b"
             ],
             [
              0.6666666666666666,
              "#ed7953"
             ],
             [
              0.7777777777777778,
              "#fb9f3a"
             ],
             [
              0.8888888888888888,
              "#fdca26"
             ],
             [
              1,
              "#f0f921"
             ]
            ],
            "type": "surface"
           }
          ],
          "table": [
           {
            "cells": {
             "fill": {
              "color": "#EBF0F8"
             },
             "line": {
              "color": "white"
             }
            },
            "header": {
             "fill": {
              "color": "#C8D4E3"
             },
             "line": {
              "color": "white"
             }
            },
            "type": "table"
           }
          ]
         },
         "layout": {
          "annotationdefaults": {
           "arrowcolor": "#2a3f5f",
           "arrowhead": 0,
           "arrowwidth": 1
          },
          "autotypenumbers": "strict",
          "coloraxis": {
           "colorbar": {
            "outlinewidth": 0,
            "ticks": ""
           }
          },
          "colorscale": {
           "diverging": [
            [
             0,
             "#8e0152"
            ],
            [
             0.1,
             "#c51b7d"
            ],
            [
             0.2,
             "#de77ae"
            ],
            [
             0.3,
             "#f1b6da"
            ],
            [
             0.4,
             "#fde0ef"
            ],
            [
             0.5,
             "#f7f7f7"
            ],
            [
             0.6,
             "#e6f5d0"
            ],
            [
             0.7,
             "#b8e186"
            ],
            [
             0.8,
             "#7fbc41"
            ],
            [
             0.9,
             "#4d9221"
            ],
            [
             1,
             "#276419"
            ]
           ],
           "sequential": [
            [
             0,
             "#0d0887"
            ],
            [
             0.1111111111111111,
             "#46039f"
            ],
            [
             0.2222222222222222,
             "#7201a8"
            ],
            [
             0.3333333333333333,
             "#9c179e"
            ],
            [
             0.4444444444444444,
             "#bd3786"
            ],
            [
             0.5555555555555556,
             "#d8576b"
            ],
            [
             0.6666666666666666,
             "#ed7953"
            ],
            [
             0.7777777777777778,
             "#fb9f3a"
            ],
            [
             0.8888888888888888,
             "#fdca26"
            ],
            [
             1,
             "#f0f921"
            ]
           ],
           "sequentialminus": [
            [
             0,
             "#0d0887"
            ],
            [
             0.1111111111111111,
             "#46039f"
            ],
            [
             0.2222222222222222,
             "#7201a8"
            ],
            [
             0.3333333333333333,
             "#9c179e"
            ],
            [
             0.4444444444444444,
             "#bd3786"
            ],
            [
             0.5555555555555556,
             "#d8576b"
            ],
            [
             0.6666666666666666,
             "#ed7953"
            ],
            [
             0.7777777777777778,
             "#fb9f3a"
            ],
            [
             0.8888888888888888,
             "#fdca26"
            ],
            [
             1,
             "#f0f921"
            ]
           ]
          },
          "colorway": [
           "#636efa",
           "#EF553B",
           "#00cc96",
           "#ab63fa",
           "#FFA15A",
           "#19d3f3",
           "#FF6692",
           "#B6E880",
           "#FF97FF",
           "#FECB52"
          ],
          "font": {
           "color": "#2a3f5f"
          },
          "geo": {
           "bgcolor": "white",
           "lakecolor": "white",
           "landcolor": "#E5ECF6",
           "showlakes": true,
           "showland": true,
           "subunitcolor": "white"
          },
          "hoverlabel": {
           "align": "left"
          },
          "hovermode": "closest",
          "mapbox": {
           "style": "light"
          },
          "paper_bgcolor": "white",
          "plot_bgcolor": "#E5ECF6",
          "polar": {
           "angularaxis": {
            "gridcolor": "white",
            "linecolor": "white",
            "ticks": ""
           },
           "bgcolor": "#E5ECF6",
           "radialaxis": {
            "gridcolor": "white",
            "linecolor": "white",
            "ticks": ""
           }
          },
          "scene": {
           "xaxis": {
            "backgroundcolor": "#E5ECF6",
            "gridcolor": "white",
            "gridwidth": 2,
            "linecolor": "white",
            "showbackground": true,
            "ticks": "",
            "zerolinecolor": "white"
           },
           "yaxis": {
            "backgroundcolor": "#E5ECF6",
            "gridcolor": "white",
            "gridwidth": 2,
            "linecolor": "white",
            "showbackground": true,
            "ticks": "",
            "zerolinecolor": "white"
           },
           "zaxis": {
            "backgroundcolor": "#E5ECF6",
            "gridcolor": "white",
            "gridwidth": 2,
            "linecolor": "white",
            "showbackground": true,
            "ticks": "",
            "zerolinecolor": "white"
           }
          },
          "shapedefaults": {
           "line": {
            "color": "#2a3f5f"
           }
          },
          "ternary": {
           "aaxis": {
            "gridcolor": "white",
            "linecolor": "white",
            "ticks": ""
           },
           "baxis": {
            "gridcolor": "white",
            "linecolor": "white",
            "ticks": ""
           },
           "bgcolor": "#E5ECF6",
           "caxis": {
            "gridcolor": "white",
            "linecolor": "white",
            "ticks": ""
           }
          },
          "title": {
           "x": 0.05
          },
          "xaxis": {
           "automargin": true,
           "gridcolor": "white",
           "linecolor": "white",
           "ticks": "",
           "title": {
            "standoff": 15
           },
           "zerolinecolor": "white",
           "zerolinewidth": 2
          },
          "yaxis": {
           "automargin": true,
           "gridcolor": "white",
           "linecolor": "white",
           "ticks": "",
           "title": {
            "standoff": 15
           },
           "zerolinecolor": "white",
           "zerolinewidth": 2
          }
         }
        },
        "xaxis": {
         "anchor": "y",
         "domain": [
          0,
          0.2888888888888889
         ],
         "title": {
          "text": "year"
         }
        },
        "xaxis10": {
         "anchor": "y10",
         "domain": [
          0,
          0.2888888888888889
         ],
         "title": {
          "text": "year"
         }
        },
        "xaxis11": {
         "anchor": "y11",
         "domain": [
          0.35555555555555557,
          0.6444444444444445
         ],
         "title": {
          "text": "year"
         }
        },
        "xaxis12": {
         "anchor": "y12",
         "domain": [
          0.7111111111111111,
          1
         ],
         "title": {
          "text": " profits year-on-year change"
         }
        },
        "xaxis13": {
         "anchor": "y13",
         "domain": [
          0,
          0.2888888888888889
         ],
         "title": {
          "text": "year"
         }
        },
        "xaxis14": {
         "anchor": "y14",
         "domain": [
          0.35555555555555557,
          0.6444444444444445
         ],
         "title": {
          "text": "year"
         }
        },
        "xaxis15": {
         "anchor": "y15",
         "domain": [
          0.7111111111111111,
          1
         ],
         "title": {
          "text": " profits year-on-year change"
         }
        },
        "xaxis16": {
         "anchor": "y16",
         "domain": [
          0,
          0.2888888888888889
         ],
         "title": {
          "text": "year"
         }
        },
        "xaxis17": {
         "anchor": "y17",
         "domain": [
          0.35555555555555557,
          0.6444444444444445
         ],
         "title": {
          "text": "year"
         }
        },
        "xaxis18": {
         "anchor": "y18",
         "domain": [
          0.7111111111111111,
          1
         ],
         "title": {
          "text": " profits year-on-year change"
         }
        },
        "xaxis19": {
         "anchor": "y19",
         "domain": [
          0,
          0.2888888888888889
         ],
         "title": {
          "text": "year"
         }
        },
        "xaxis2": {
         "anchor": "y2",
         "domain": [
          0.35555555555555557,
          0.6444444444444445
         ],
         "title": {
          "text": "year"
         }
        },
        "xaxis20": {
         "anchor": "y20",
         "domain": [
          0.35555555555555557,
          0.6444444444444445
         ],
         "title": {
          "text": "year"
         }
        },
        "xaxis21": {
         "anchor": "y21",
         "domain": [
          0.7111111111111111,
          1
         ],
         "title": {
          "text": " profits year-on-year change"
         }
        },
        "xaxis22": {
         "anchor": "y22",
         "domain": [
          0,
          0.2888888888888889
         ],
         "title": {
          "text": "year"
         }
        },
        "xaxis23": {
         "anchor": "y23",
         "domain": [
          0.35555555555555557,
          0.6444444444444445
         ],
         "title": {
          "text": "year"
         }
        },
        "xaxis24": {
         "anchor": "y24",
         "domain": [
          0.7111111111111111,
          1
         ],
         "title": {
          "text": " profits year-on-year change"
         }
        },
        "xaxis25": {
         "anchor": "y25",
         "domain": [
          0,
          0.2888888888888889
         ],
         "title": {
          "text": "year"
         }
        },
        "xaxis26": {
         "anchor": "y26",
         "domain": [
          0.35555555555555557,
          0.6444444444444445
         ],
         "title": {
          "text": "year"
         }
        },
        "xaxis27": {
         "anchor": "y27",
         "domain": [
          0.7111111111111111,
          1
         ],
         "title": {
          "text": " profits year-on-year change"
         }
        },
        "xaxis28": {
         "anchor": "y28",
         "domain": [
          0,
          0.2888888888888889
         ],
         "title": {
          "text": "year"
         }
        },
        "xaxis29": {
         "anchor": "y29",
         "domain": [
          0.35555555555555557,
          0.6444444444444445
         ],
         "title": {
          "text": "year"
         }
        },
        "xaxis3": {
         "anchor": "y3",
         "domain": [
          0.7111111111111111,
          1
         ],
         "title": {
          "text": " profits year-on-year change"
         }
        },
        "xaxis30": {
         "anchor": "y30",
         "domain": [
          0.7111111111111111,
          1
         ],
         "title": {
          "text": " profits year-on-year change"
         }
        },
        "xaxis31": {
         "anchor": "y31",
         "domain": [
          0,
          0.2888888888888889
         ],
         "title": {
          "text": "year"
         }
        },
        "xaxis32": {
         "anchor": "y32",
         "domain": [
          0.35555555555555557,
          0.6444444444444445
         ],
         "title": {
          "text": "year"
         }
        },
        "xaxis33": {
         "anchor": "y33",
         "domain": [
          0.7111111111111111,
          1
         ],
         "title": {
          "text": " profits year-on-year change"
         }
        },
        "xaxis34": {
         "anchor": "y34",
         "domain": [
          0,
          0.2888888888888889
         ],
         "title": {
          "text": "year"
         }
        },
        "xaxis35": {
         "anchor": "y35",
         "domain": [
          0.35555555555555557,
          0.6444444444444445
         ],
         "title": {
          "text": "year"
         }
        },
        "xaxis36": {
         "anchor": "y36",
         "domain": [
          0.7111111111111111,
          1
         ],
         "title": {
          "text": " profits year-on-year change"
         }
        },
        "xaxis37": {
         "anchor": "y37",
         "domain": [
          0,
          0.2888888888888889
         ],
         "title": {
          "text": "year"
         }
        },
        "xaxis38": {
         "anchor": "y38",
         "domain": [
          0.35555555555555557,
          0.6444444444444445
         ],
         "title": {
          "text": "year"
         }
        },
        "xaxis39": {
         "anchor": "y39",
         "domain": [
          0.7111111111111111,
          1
         ],
         "title": {
          "text": " profits year-on-year change"
         }
        },
        "xaxis4": {
         "anchor": "y4",
         "domain": [
          0,
          0.2888888888888889
         ],
         "title": {
          "text": "year"
         }
        },
        "xaxis40": {
         "anchor": "y40",
         "domain": [
          0,
          0.2888888888888889
         ],
         "title": {
          "text": "year"
         }
        },
        "xaxis41": {
         "anchor": "y41",
         "domain": [
          0.35555555555555557,
          0.6444444444444445
         ],
         "title": {
          "text": "year"
         }
        },
        "xaxis42": {
         "anchor": "y42",
         "domain": [
          0.7111111111111111,
          1
         ],
         "title": {
          "text": " profits year-on-year change"
         }
        },
        "xaxis5": {
         "anchor": "y5",
         "domain": [
          0.35555555555555557,
          0.6444444444444445
         ],
         "title": {
          "text": "year"
         }
        },
        "xaxis6": {
         "anchor": "y6",
         "domain": [
          0.7111111111111111,
          1
         ],
         "title": {
          "text": " profits year-on-year change"
         }
        },
        "xaxis7": {
         "anchor": "y7",
         "domain": [
          0,
          0.2888888888888889
         ],
         "title": {
          "text": "year"
         }
        },
        "xaxis8": {
         "anchor": "y8",
         "domain": [
          0.35555555555555557,
          0.6444444444444445
         ],
         "title": {
          "text": "year"
         }
        },
        "xaxis9": {
         "anchor": "y9",
         "domain": [
          0.7111111111111111,
          1
         ],
         "title": {
          "text": " profits year-on-year change"
         }
        },
        "yaxis": {
         "anchor": "x",
         "domain": [
          0.9617346938775511,
          1
         ],
         "title": {
          "font": {
           "size": 12
          },
          "text": "Agriculture, Forestry and Fishing"
         }
        },
        "yaxis10": {
         "anchor": "x10",
         "domain": [
          0.739795918367347,
          0.778061224489796
         ],
         "title": {
          "font": {
           "size": 12
          },
          "text": "Education and Training"
         }
        },
        "yaxis11": {
         "anchor": "x11",
         "domain": [
          0.739795918367347,
          0.778061224489796
         ],
         "title": {
          "font": {
           "size": 12
          }
         }
        },
        "yaxis12": {
         "anchor": "x12",
         "domain": [
          0.739795918367347,
          0.778061224489796
         ],
         "title": {
          "font": {
           "size": 12
          },
          "text": "salaries year-on-year change"
         }
        },
        "yaxis13": {
         "anchor": "x13",
         "domain": [
          0.6658163265306123,
          0.7040816326530612
         ],
         "title": {
          "font": {
           "size": 12
          },
          "text": "Electricity, Gas, Water and Waste Services"
         }
        },
        "yaxis14": {
         "anchor": "x14",
         "domain": [
          0.6658163265306123,
          0.7040816326530612
         ],
         "title": {
          "font": {
           "size": 12
          }
         }
        },
        "yaxis15": {
         "anchor": "x15",
         "domain": [
          0.6658163265306123,
          0.7040816326530612
         ],
         "title": {
          "font": {
           "size": 12
          },
          "text": "salaries year-on-year change"
         }
        },
        "yaxis16": {
         "anchor": "x16",
         "domain": [
          0.5918367346938775,
          0.6301020408163265
         ],
         "title": {
          "font": {
           "size": 12
          },
          "text": "Health Care and Social Assistance"
         }
        },
        "yaxis17": {
         "anchor": "x17",
         "domain": [
          0.5918367346938775,
          0.6301020408163265
         ],
         "title": {
          "font": {
           "size": 12
          }
         }
        },
        "yaxis18": {
         "anchor": "x18",
         "domain": [
          0.5918367346938775,
          0.6301020408163265
         ],
         "title": {
          "font": {
           "size": 12
          },
          "text": "salaries year-on-year change"
         }
        },
        "yaxis19": {
         "anchor": "x19",
         "domain": [
          0.5178571428571429,
          0.5561224489795918
         ],
         "title": {
          "font": {
           "size": 12
          },
          "text": "Information Media and Telecommunications"
         }
        },
        "yaxis2": {
         "anchor": "x2",
         "domain": [
          0.9617346938775511,
          1
         ],
         "title": {
          "font": {
           "size": 12
          }
         }
        },
        "yaxis20": {
         "anchor": "x20",
         "domain": [
          0.5178571428571429,
          0.5561224489795918
         ],
         "title": {
          "font": {
           "size": 12
          }
         }
        },
        "yaxis21": {
         "anchor": "x21",
         "domain": [
          0.5178571428571429,
          0.5561224489795918
         ],
         "title": {
          "font": {
           "size": 12
          },
          "text": "salaries year-on-year change"
         }
        },
        "yaxis22": {
         "anchor": "x22",
         "domain": [
          0.4438775510204082,
          0.4821428571428572
         ],
         "title": {
          "font": {
           "size": 12
          },
          "text": "Manufacturing"
         }
        },
        "yaxis23": {
         "anchor": "x23",
         "domain": [
          0.4438775510204082,
          0.4821428571428572
         ],
         "title": {
          "font": {
           "size": 12
          }
         }
        },
        "yaxis24": {
         "anchor": "x24",
         "domain": [
          0.4438775510204082,
          0.4821428571428572
         ],
         "title": {
          "font": {
           "size": 12
          },
          "text": "salaries year-on-year change"
         }
        },
        "yaxis25": {
         "anchor": "x25",
         "domain": [
          0.3698979591836735,
          0.4081632653061225
         ],
         "title": {
          "font": {
           "size": 12
          },
          "text": "Mining"
         }
        },
        "yaxis26": {
         "anchor": "x26",
         "domain": [
          0.3698979591836735,
          0.4081632653061225
         ],
         "title": {
          "font": {
           "size": 12
          }
         }
        },
        "yaxis27": {
         "anchor": "x27",
         "domain": [
          0.3698979591836735,
          0.4081632653061225
         ],
         "title": {
          "font": {
           "size": 12
          },
          "text": "salaries year-on-year change"
         }
        },
        "yaxis28": {
         "anchor": "x28",
         "domain": [
          0.29591836734693877,
          0.33418367346938777
         ],
         "title": {
          "font": {
           "size": 12
          },
          "text": "Professional, Scientific, Technical, Administrative and Support Services"
         }
        },
        "yaxis29": {
         "anchor": "x29",
         "domain": [
          0.29591836734693877,
          0.33418367346938777
         ],
         "title": {
          "font": {
           "size": 12
          }
         }
        },
        "yaxis3": {
         "anchor": "x3",
         "domain": [
          0.9617346938775511,
          1
         ],
         "title": {
          "font": {
           "size": 12
          },
          "text": "salaries year-on-year change"
         }
        },
        "yaxis30": {
         "anchor": "x30",
         "domain": [
          0.29591836734693877,
          0.33418367346938777
         ],
         "title": {
          "font": {
           "size": 12
          },
          "text": "salaries year-on-year change"
         }
        },
        "yaxis31": {
         "anchor": "x31",
         "domain": [
          0.22193877551020408,
          0.2602040816326531
         ],
         "title": {
          "font": {
           "size": 12
          },
          "text": "Rental, Hiring and Real Estate Services"
         }
        },
        "yaxis32": {
         "anchor": "x32",
         "domain": [
          0.22193877551020408,
          0.2602040816326531
         ],
         "title": {
          "font": {
           "size": 12
          }
         }
        },
        "yaxis33": {
         "anchor": "x33",
         "domain": [
          0.22193877551020408,
          0.2602040816326531
         ],
         "title": {
          "font": {
           "size": 12
          },
          "text": "salaries year-on-year change"
         }
        },
        "yaxis34": {
         "anchor": "x34",
         "domain": [
          0.14795918367346939,
          0.18622448979591838
         ],
         "title": {
          "font": {
           "size": 12
          },
          "text": "Retail Trade and Accommodation"
         }
        },
        "yaxis35": {
         "anchor": "x35",
         "domain": [
          0.14795918367346939,
          0.18622448979591838
         ],
         "title": {
          "font": {
           "size": 12
          }
         }
        },
        "yaxis36": {
         "anchor": "x36",
         "domain": [
          0.14795918367346939,
          0.18622448979591838
         ],
         "title": {
          "font": {
           "size": 12
          },
          "text": "salaries year-on-year change"
         }
        },
        "yaxis37": {
         "anchor": "x37",
         "domain": [
          0.07397959183673469,
          0.11224489795918369
         ],
         "title": {
          "font": {
           "size": 12
          },
          "text": "Transport, Postal and Warehousing"
         }
        },
        "yaxis38": {
         "anchor": "x38",
         "domain": [
          0.07397959183673469,
          0.11224489795918369
         ],
         "title": {
          "font": {
           "size": 12
          }
         }
        },
        "yaxis39": {
         "anchor": "x39",
         "domain": [
          0.07397959183673469,
          0.11224489795918369
         ],
         "title": {
          "font": {
           "size": 12
          },
          "text": "salaries year-on-year change"
         }
        },
        "yaxis4": {
         "anchor": "x4",
         "domain": [
          0.8877551020408164,
          0.9260204081632654
         ],
         "title": {
          "font": {
           "size": 12
          },
          "text": "Arts, Recreation and Other Services"
         }
        },
        "yaxis40": {
         "anchor": "x40",
         "domain": [
          0,
          0.03826530612244899
         ],
         "title": {
          "font": {
           "size": 12
          },
          "text": "Wholesale Trade"
         }
        },
        "yaxis41": {
         "anchor": "x41",
         "domain": [
          0,
          0.03826530612244899
         ],
         "title": {
          "font": {
           "size": 12
          }
         }
        },
        "yaxis42": {
         "anchor": "x42",
         "domain": [
          0,
          0.03826530612244899
         ],
         "title": {
          "font": {
           "size": 12
          },
          "text": "salaries year-on-year change"
         }
        },
        "yaxis5": {
         "anchor": "x5",
         "domain": [
          0.8877551020408164,
          0.9260204081632654
         ],
         "title": {
          "font": {
           "size": 12
          }
         }
        },
        "yaxis6": {
         "anchor": "x6",
         "domain": [
          0.8877551020408164,
          0.9260204081632654
         ],
         "title": {
          "font": {
           "size": 12
          },
          "text": "salaries year-on-year change"
         }
        },
        "yaxis7": {
         "anchor": "x7",
         "domain": [
          0.8137755102040818,
          0.8520408163265307
         ],
         "title": {
          "font": {
           "size": 12
          },
          "text": "Construction"
         }
        },
        "yaxis8": {
         "anchor": "x8",
         "domain": [
          0.8137755102040818,
          0.8520408163265307
         ],
         "title": {
          "font": {
           "size": 12
          }
         }
        },
        "yaxis9": {
         "anchor": "x9",
         "domain": [
          0.8137755102040818,
          0.8520408163265307
         ],
         "title": {
          "font": {
           "size": 12
          },
          "text": "salaries year-on-year change"
         }
        }
       }
      }
     },
     "metadata": {},
     "output_type": "display_data"
    }
   ],
   "source": [
    "import plotly.graph_objects as go\n",
    "from plotly.subplots import make_subplots\n",
    "import numpy as np\n",
    "\n",
    "\n",
    "industries =  sorted(bus_profits_jobs['industry'].unique().tolist())\n",
    "fig = make_subplots(rows=len(industries), cols=3, subplot_titles=('Business profits year-on-year change', 'Business salaries year-on-year change', 'Profits-salaries correlation'))\n",
    "\n",
    "layout_dict = {}\n",
    "\n",
    "for idx, industry in enumerate(industries):\n",
    "    industry_df = bus_profits_jobs[bus_profits_jobs['industry'] == industry].sort_values(by='year_time')\n",
    "    fig.add_trace(\n",
    "        go.Bar(x=industry_df['year_time'], y=industry_df['profits_yearly_change'], name='Business profits year-on-year change', marker=dict(color='#002F6B'), zorder=1),\n",
    "        row = idx+1, \n",
    "        col = 1\n",
    "    )\n",
    "    fig.add_trace(\n",
    "        go.Bar(x=industry_df['year_time'], y=industry_df['salaries_yearly_change'], name='Business salaries year-on-year change', marker=dict(color='#002F6B'), zorder=0),\n",
    "        row = idx+1,\n",
    "        col = 2\n",
    "    )\n",
    "    fig.add_trace(\n",
    "        go.Scatter(x=industry_df['profits_yearly_change'], y=industry_df['salaries_yearly_change'], name='Profits-salaries correlation', mode='markers', marker=dict(color='#002F6B'), zorder=1),\n",
    "        row = idx+1, \n",
    "        col = 3\n",
    "    )\n",
    "\n",
    "    slope, intercept = np.polyfit(industry_df['profits_yearly_change'], industry_df['salaries_yearly_change'], 1)\n",
    "    y_fit = slope * industry_df['profits_yearly_change'] + intercept\n",
    "\n",
    "    fig.add_trace(\n",
    "        go.Scatter(x=industry_df['profits_yearly_change'], y=y_fit, mode='lines', name=f'{industry} Fit', line=dict(dash='solid', color='#FAA61A'), showlegend=False),\n",
    "        row = idx+1, \n",
    "        col = 3\n",
    "    )\n",
    "\n",
    "    layout_dict.update(\n",
    "        {\n",
    "            f'xaxis{3*(idx+1)-2}': dict(title='year'),\n",
    "            f'xaxis{3*(idx+1)-1}': dict(title='year'),\n",
    "            f'xaxis{3*(idx+1)}': dict(title=' profits year-on-year change'),\n",
    "            f'yaxis{3*(idx+1)-2}': dict(title=industry),\n",
    "            f'yaxis{3*(idx+1)}': dict(title='salaries year-on-year change'),\n",
    "        }\n",
    "    )\n",
    "\n",
    "layout_dict.update(\n",
    "    {\n",
    "        'height': 5000,\n",
    "        'showlegend': False,\n",
    "    }\n",
    ")\n",
    "\n",
    "fig.update_layout(**layout_dict)\n",
    "fig.update_yaxes(title_font=dict(size=12))\n",
    "\n",
    "fig.show()"
   ]
  },
  {
   "cell_type": "code",
   "execution_count": 21,
   "id": "95116f73",
   "metadata": {},
   "outputs": [
    {
     "data": {
      "application/vnd.plotly.v1+json": {
       "config": {
        "plotlyServerURL": "https://plot.ly"
       },
       "data": [
        {
         "marker": {
          "color": "#002F6B"
         },
         "name": "Business profits year-on-year change",
         "type": "bar",
         "x": [
          "2018-01-01T00:00:00.000000000",
          "2019-01-01T00:00:00.000000000",
          "2020-01-01T00:00:00.000000000",
          "2021-01-01T00:00:00.000000000",
          "2022-01-01T00:00:00.000000000",
          "2023-01-01T00:00:00.000000000"
         ],
         "xaxis": "x",
         "y": {
          "bdata": "pHA9CtejsD+HFtnO91PDv8uhRbbz/aS/rkfhehSuxz9g5dAi2/nOv1pkO99PjZe/",
          "dtype": "f8"
         },
         "yaxis": "y",
         "zorder": 1
        },
        {
         "marker": {
          "color": "#002F6B"
         },
         "name": "Business expenditure year-on-year change",
         "type": "bar",
         "x": [
          "2018-01-01T00:00:00.000000000",
          "2019-01-01T00:00:00.000000000",
          "2020-01-01T00:00:00.000000000",
          "2021-01-01T00:00:00.000000000",
          "2022-01-01T00:00:00.000000000",
          "2023-01-01T00:00:00.000000000"
         ],
         "xaxis": "x2",
         "y": {
          "bdata": "QmDl0CLbyT8730+Nl26iP4ts5/up8aK/GQRWDi2yzT8730+Nl26SP0oMAiuHFqm/",
          "dtype": "f8"
         },
         "yaxis": "y2",
         "zorder": 0
        },
        {
         "marker": {
          "color": "#002F6B"
         },
         "mode": "markers",
         "name": "Profits-expenditure correlation",
         "type": "scatter",
         "x": {
          "bdata": "pHA9CtejsD+HFtnO91PDv8uhRbbz/aS/rkfhehSuxz9g5dAi2/nOv1pkO99PjZe/",
          "dtype": "f8"
         },
         "xaxis": "x3",
         "y": {
          "bdata": "QmDl0CLbyT8730+Nl26iP4ts5/up8aK/GQRWDi2yzT8730+Nl26SP0oMAiuHFqm/",
          "dtype": "f8"
         },
         "yaxis": "y3",
         "zorder": 1
        },
        {
         "line": {
          "color": "#FAA61A",
          "dash": "solid"
         },
         "mode": "lines",
         "name": "Agriculture, Forestry and Fishing Fit",
         "showlegend": false,
         "type": "scatter",
         "x": {
          "bdata": "pHA9CtejsD+HFtnO91PDv8uhRbbz/aS/rkfhehSuxz9g5dAi2/nOv1pkO99PjZe/",
          "dtype": "f8"
         },
         "xaxis": "x3",
         "y": {
          "bdata": "UAHbe9ERvz8gvtEAk2hrP5UBrskoPrA/XksaNmXtxz84fjb4ib6nvzILVYe0wrI/",
          "dtype": "f8"
         },
         "yaxis": "y3"
        },
        {
         "marker": {
          "color": "#002F6B"
         },
         "name": "Business profits year-on-year change",
         "type": "bar",
         "x": [
          "2018-01-01T00:00:00.000000000",
          "2019-01-01T00:00:00.000000000",
          "2020-01-01T00:00:00.000000000",
          "2021-01-01T00:00:00.000000000",
          "2022-01-01T00:00:00.000000000",
          "2023-01-01T00:00:00.000000000"
         ],
         "xaxis": "x4",
         "y": {
          "bdata": "/Knx0k1igD8bL90kBoG1P6rx0k1iENC/qvHSTWIQyD+q8dJNYhC4P7gehetRuL4/",
          "dtype": "f8"
         },
         "yaxis": "y4",
         "zorder": 1
        },
        {
         "marker": {
          "color": "#002F6B"
         },
         "name": "Business expenditure year-on-year change",
         "type": "bar",
         "x": [
          "2018-01-01T00:00:00.000000000",
          "2019-01-01T00:00:00.000000000",
          "2020-01-01T00:00:00.000000000",
          "2021-01-01T00:00:00.000000000",
          "2022-01-01T00:00:00.000000000",
          "2023-01-01T00:00:00.000000000"
         ],
         "xaxis": "x5",
         "y": {
          "bdata": "O99PjZdusj9U46WbxCCwP5MYBFYOLbK/wcqhRbbzvT8xCKwcWmS7P2q8dJMYBLY/",
          "dtype": "f8"
         },
         "yaxis": "y5",
         "zorder": 0
        },
        {
         "marker": {
          "color": "#002F6B"
         },
         "mode": "markers",
         "name": "Profits-expenditure correlation",
         "type": "scatter",
         "x": {
          "bdata": "/Knx0k1igD8bL90kBoG1P6rx0k1iENC/qvHSTWIQyD+q8dJNYhC4P7gehetRuL4/",
          "dtype": "f8"
         },
         "xaxis": "x6",
         "y": {
          "bdata": "O99PjZdusj9U46WbxCCwP5MYBFYOLbK/wcqhRbbzvT8xCKwcWmS7P2q8dJMYBLY/",
          "dtype": "f8"
         },
         "yaxis": "y6",
         "zorder": 1
        },
        {
         "line": {
          "color": "#FAA61A",
          "dash": "solid"
         },
         "mode": "lines",
         "name": "Arts, Recreation and Other Services Fit",
         "showlegend": false,
         "type": "scatter",
         "x": {
          "bdata": "/Knx0k1igD8bL90kBoG1P6rx0k1iENC/qvHSTWIQyD+q8dJNYhC4P7gehetRuL4/",
          "dtype": "f8"
         },
         "xaxis": "x6",
         "y": {
          "bdata": "9325hVzJqD/AlOv9SLq0P/6mZiZrArC/sUFeJ/oQwD/G5rDFBdO1P24i5ZnwrLg/",
          "dtype": "f8"
         },
         "yaxis": "y6"
        },
        {
         "marker": {
          "color": "#002F6B"
         },
         "name": "Business profits year-on-year change",
         "type": "bar",
         "x": [
          "2018-01-01T00:00:00.000000000",
          "2019-01-01T00:00:00.000000000",
          "2020-01-01T00:00:00.000000000",
          "2021-01-01T00:00:00.000000000",
          "2022-01-01T00:00:00.000000000",
          "2023-01-01T00:00:00.000000000"
         ],
         "xaxis": "x7",
         "y": {
          "bdata": "kxgEVg4tsj8v3SQGgZXDP3npJjEIrJy/UI2XbhKDwD+6SQwCK4e2P/YoXI/C9cg/",
          "dtype": "f8"
         },
         "yaxis": "y7",
         "zorder": 1
        },
        {
         "marker": {
          "color": "#002F6B"
         },
         "name": "Business expenditure year-on-year change",
         "type": "bar",
         "x": [
          "2018-01-01T00:00:00.000000000",
          "2019-01-01T00:00:00.000000000",
          "2020-01-01T00:00:00.000000000",
          "2021-01-01T00:00:00.000000000",
          "2022-01-01T00:00:00.000000000",
          "2023-01-01T00:00:00.000000000"
         ],
         "xaxis": "x8",
         "y": {
          "bdata": "2/l+arx0sz/TTWIQWDm0P/yp8dJNYnC/bxKDwMqhxT8GgZVDi2zHP0w3iUFg5aA/",
          "dtype": "f8"
         },
         "yaxis": "y8",
         "zorder": 0
        },
        {
         "marker": {
          "color": "#002F6B"
         },
         "mode": "markers",
         "name": "Profits-expenditure correlation",
         "type": "scatter",
         "x": {
          "bdata": "kxgEVg4tsj8v3SQGgZXDP3npJjEIrJy/UI2XbhKDwD+6SQwCK4e2P/YoXI/C9cg/",
          "dtype": "f8"
         },
         "xaxis": "x9",
         "y": {
          "bdata": "2/l+arx0sz/TTWIQWDm0P/yp8dJNYnC/bxKDwMqhxT8GgZVDi2zHP0w3iUFg5aA/",
          "dtype": "f8"
         },
         "yaxis": "y9",
         "zorder": 1
        },
        {
         "line": {
          "color": "#FAA61A",
          "dash": "solid"
         },
         "mode": "lines",
         "name": "Construction Fit",
         "showlegend": false,
         "type": "scatter",
         "x": {
          "bdata": "kxgEVg4tsj8v3SQGgZXDP3npJjEIrJy/UI2XbhKDwD+6SQwCK4e2P/YoXI/C9cg/",
          "dtype": "f8"
         },
         "xaxis": "x9",
         "y": {
          "bdata": "1R0WlyfmtD/QawHirjm6P6lT4Qjj76w/2OpFBJqquD/aQ9Be1gC2P4KNCWYT9Lw/",
          "dtype": "f8"
         },
         "yaxis": "y9"
        },
        {
         "marker": {
          "color": "#002F6B"
         },
         "name": "Business profits year-on-year change",
         "type": "bar",
         "x": [
          "2018-01-01T00:00:00.000000000",
          "2019-01-01T00:00:00.000000000",
          "2020-01-01T00:00:00.000000000",
          "2021-01-01T00:00:00.000000000",
          "2022-01-01T00:00:00.000000000",
          "2023-01-01T00:00:00.000000000"
         ],
         "xaxis": "x10",
         "y": {
          "bdata": "2c73U+Olyz+4HoXrUbi+P/p+arx0k7i/qMZLN4lB0D9OYhBYObTIv4/C9Shcj9I/",
          "dtype": "f8"
         },
         "yaxis": "y10",
         "zorder": 1
        },
        {
         "marker": {
          "color": "#002F6B"
         },
         "name": "Business expenditure year-on-year change",
         "type": "bar",
         "x": [
          "2018-01-01T00:00:00.000000000",
          "2019-01-01T00:00:00.000000000",
          "2020-01-01T00:00:00.000000000",
          "2021-01-01T00:00:00.000000000",
          "2022-01-01T00:00:00.000000000",
          "2023-01-01T00:00:00.000000000"
         ],
         "xaxis": "x11",
         "y": {
          "bdata": "WmQ730+Nlz+LbOf7qfGyP8l2vp8aL62//Knx0k1iYD9I4XoUrkfBP+kmMQisHLo/",
          "dtype": "f8"
         },
         "yaxis": "y11",
         "zorder": 0
        },
        {
         "marker": {
          "color": "#002F6B"
         },
         "mode": "markers",
         "name": "Profits-expenditure correlation",
         "type": "scatter",
         "x": {
          "bdata": "2c73U+Olyz+4HoXrUbi+P/p+arx0k7i/qMZLN4lB0D9OYhBYObTIv4/C9Shcj9I/",
          "dtype": "f8"
         },
         "xaxis": "x12",
         "y": {
          "bdata": "WmQ730+Nlz+LbOf7qfGyP8l2vp8aL62//Knx0k1iYD9I4XoUrkfBP+kmMQisHLo/",
          "dtype": "f8"
         },
         "yaxis": "y12",
         "zorder": 1
        },
        {
         "line": {
          "color": "#FAA61A",
          "dash": "solid"
         },
         "mode": "lines",
         "name": "Education and Training Fit",
         "showlegend": false,
         "type": "scatter",
         "x": {
          "bdata": "2c73U+Olyz+4HoXrUbi+P/p+arx0k7i/qMZLN4lB0D9OYhBYObTIv4/C9Shcj9I/",
          "dtype": "f8"
         },
         "xaxis": "x12",
         "y": {
          "bdata": "7iy7KpmNpj+zeKbuEJSnPy7jd2ee4qk/mwkubbQlpj9nom0V0uuqPzHNtYNHw6U/",
          "dtype": "f8"
         },
         "yaxis": "y12"
        },
        {
         "marker": {
          "color": "#002F6B"
         },
         "name": "Business profits year-on-year change",
         "type": "bar",
         "x": [
          "2018-01-01T00:00:00.000000000",
          "2019-01-01T00:00:00.000000000",
          "2020-01-01T00:00:00.000000000",
          "2021-01-01T00:00:00.000000000",
          "2022-01-01T00:00:00.000000000",
          "2023-01-01T00:00:00.000000000"
         ],
         "xaxis": "x13",
         "y": {
          "bdata": "/Knx0k1isD+6SQwCK4eGP+kmMQisHKq/2c73U+Olm79aZDvfT423PyuHFtnO97M/",
          "dtype": "f8"
         },
         "yaxis": "y13",
         "zorder": 1
        },
        {
         "marker": {
          "color": "#002F6B"
         },
         "name": "Business expenditure year-on-year change",
         "type": "bar",
         "x": [
          "2018-01-01T00:00:00.000000000",
          "2019-01-01T00:00:00.000000000",
          "2020-01-01T00:00:00.000000000",
          "2021-01-01T00:00:00.000000000",
          "2022-01-01T00:00:00.000000000",
          "2023-01-01T00:00:00.000000000"
         ],
         "xaxis": "x14",
         "y": {
          "bdata": "EoPAyqFFtj/pJjEIrByqPzm0yHa+n5q/zczMzMzMzD9Ei2zn+6mxv3npJjEIrKw/",
          "dtype": "f8"
         },
         "yaxis": "y14",
         "zorder": 0
        },
        {
         "marker": {
          "color": "#002F6B"
         },
         "mode": "markers",
         "name": "Profits-expenditure correlation",
         "type": "scatter",
         "x": {
          "bdata": "/Knx0k1isD+6SQwCK4eGP+kmMQisHKq/2c73U+Olm79aZDvfT423PyuHFtnO97M/",
          "dtype": "f8"
         },
         "xaxis": "x15",
         "y": {
          "bdata": "EoPAyqFFtj/pJjEIrByqPzm0yHa+n5q/zczMzMzMzD9Ei2zn+6mxv3npJjEIrKw/",
          "dtype": "f8"
         },
         "yaxis": "y15",
         "zorder": 1
        },
        {
         "line": {
          "color": "#FAA61A",
          "dash": "solid"
         },
         "mode": "lines",
         "name": "Electricity, Gas, Water and Waste Services Fit",
         "showlegend": false,
         "type": "scatter",
         "x": {
          "bdata": "/Knx0k1isD+6SQwCK4eGP+kmMQisHKq/2c73U+Olm79aZDvfT423PyuHFtnO97M/",
          "dtype": "f8"
         },
         "xaxis": "x15",
         "y": {
          "bdata": "pqtAr5pwoT+w3/rAGjOwP/5Gc+AP87g/IqMjUPuPtT+eWrhn1RKTP/TYHGMF+po/",
          "dtype": "f8"
         },
         "yaxis": "y15"
        },
        {
         "marker": {
          "color": "#002F6B"
         },
         "name": "Business profits year-on-year change",
         "type": "bar",
         "x": [
          "2018-01-01T00:00:00.000000000",
          "2019-01-01T00:00:00.000000000",
          "2020-01-01T00:00:00.000000000",
          "2021-01-01T00:00:00.000000000",
          "2022-01-01T00:00:00.000000000",
          "2023-01-01T00:00:00.000000000"
         ],
         "xaxis": "x16",
         "y": {
          "bdata": "i2zn+6nxsj8OLbKd76fGP2ZmZmZmZsY//Knx0k1ikL+JQWDl0CKrvxkEVg4tsr0/",
          "dtype": "f8"
         },
         "yaxis": "y16",
         "zorder": 1
        },
        {
         "marker": {
          "color": "#002F6B"
         },
         "name": "Business expenditure year-on-year change",
         "type": "bar",
         "x": [
          "2018-01-01T00:00:00.000000000",
          "2019-01-01T00:00:00.000000000",
          "2020-01-01T00:00:00.000000000",
          "2021-01-01T00:00:00.000000000",
          "2022-01-01T00:00:00.000000000",
          "2023-01-01T00:00:00.000000000"
         ],
         "xaxis": "x17",
         "y": {
          "bdata": "nMQgsHJosT+cxCCwcmixP1K4HoXrUbg/ke18PzVeuj8QWDm0yHa+Pylcj8L1KKw/",
          "dtype": "f8"
         },
         "yaxis": "y17",
         "zorder": 0
        },
        {
         "marker": {
          "color": "#002F6B"
         },
         "mode": "markers",
         "name": "Profits-expenditure correlation",
         "type": "scatter",
         "x": {
          "bdata": "i2zn+6nxsj8OLbKd76fGP2ZmZmZmZsY//Knx0k1ikL+JQWDl0CKrvxkEVg4tsr0/",
          "dtype": "f8"
         },
         "xaxis": "x18",
         "y": {
          "bdata": "nMQgsHJosT+cxCCwcmixP1K4HoXrUbg/ke18PzVeuj8QWDm0yHa+Pylcj8L1KKw/",
          "dtype": "f8"
         },
         "yaxis": "y18",
         "zorder": 1
        },
        {
         "line": {
          "color": "#FAA61A",
          "dash": "solid"
         },
         "mode": "lines",
         "name": "Health Care and Social Assistance Fit",
         "showlegend": false,
         "type": "scatter",
         "x": {
          "bdata": "i2zn+6nxsj8OLbKd76fGP2ZmZmZmZsY//Knx0k1ikL+JQWDl0CKrvxkEVg4tsr0/",
          "dtype": "f8"
         },
         "xaxis": "x18",
         "y": {
          "bdata": "nWVGaoritT/bXWlcfWexPyru6TTDfbE/YsPfeNHMuT8LMSqe3Wi7PzCPuqfPDrQ/",
          "dtype": "f8"
         },
         "yaxis": "y18"
        },
        {
         "marker": {
          "color": "#002F6B"
         },
         "name": "Business profits year-on-year change",
         "type": "bar",
         "x": [
          "2018-01-01T00:00:00.000000000",
          "2019-01-01T00:00:00.000000000",
          "2020-01-01T00:00:00.000000000",
          "2021-01-01T00:00:00.000000000",
          "2022-01-01T00:00:00.000000000",
          "2023-01-01T00:00:00.000000000"
         ],
         "xaxis": "x19",
         "y": {
          "bdata": "RIts5/upsT8xCKwcWmS7v4PAyqFFtrM/ukkMAiuHpj/8qfHSTWLAv6rx0k1iELg/",
          "dtype": "f8"
         },
         "yaxis": "y19",
         "zorder": 1
        },
        {
         "marker": {
          "color": "#002F6B"
         },
         "name": "Business expenditure year-on-year change",
         "type": "bar",
         "x": [
          "2018-01-01T00:00:00.000000000",
          "2019-01-01T00:00:00.000000000",
          "2020-01-01T00:00:00.000000000",
          "2021-01-01T00:00:00.000000000",
          "2022-01-01T00:00:00.000000000",
          "2023-01-01T00:00:00.000000000"
         ],
         "xaxis": "x20",
         "y": {
          "bdata": "exSuR+F6hL9aZDvfT423PzvfT42XbrK/TDeJQWDlwD8CK4cW2c63PzvfT42XbrI/",
          "dtype": "f8"
         },
         "yaxis": "y20",
         "zorder": 0
        },
        {
         "marker": {
          "color": "#002F6B"
         },
         "mode": "markers",
         "name": "Profits-expenditure correlation",
         "type": "scatter",
         "x": {
          "bdata": "RIts5/upsT8xCKwcWmS7v4PAyqFFtrM/ukkMAiuHpj/8qfHSTWLAv6rx0k1iELg/",
          "dtype": "f8"
         },
         "xaxis": "x21",
         "y": {
          "bdata": "exSuR+F6hL9aZDvfT423PzvfT42XbrK/TDeJQWDlwD8CK4cW2c63PzvfT42XbrI/",
          "dtype": "f8"
         },
         "yaxis": "y21",
         "zorder": 1
        },
        {
         "line": {
          "color": "#FAA61A",
          "dash": "solid"
         },
         "mode": "lines",
         "name": "Information Media and Telecommunications Fit",
         "showlegend": false,
         "type": "scatter",
         "x": {
          "bdata": "RIts5/upsT8xCKwcWmS7v4PAyqFFtrM/ukkMAiuHpj/8qfHSTWLAv6rx0k1iELg/",
          "dtype": "f8"
         },
         "xaxis": "x21",
         "y": {
          "bdata": "Kj+JsqOSnT8tH4ttZOa3P7wwdg9Tkpo/I2YS2M95oz+moI9Ymd65PxCy7bSnMZQ/",
          "dtype": "f8"
         },
         "yaxis": "y21"
        },
        {
         "marker": {
          "color": "#002F6B"
         },
         "name": "Business profits year-on-year change",
         "type": "bar",
         "x": [
          "2018-01-01T00:00:00.000000000",
          "2019-01-01T00:00:00.000000000",
          "2020-01-01T00:00:00.000000000",
          "2021-01-01T00:00:00.000000000",
          "2022-01-01T00:00:00.000000000",
          "2023-01-01T00:00:00.000000000"
         ],
         "xaxis": "x22",
         "y": {
          "bdata": "6SYxCKwcqr8K16NwPQqnvwAAAAAAAMA/sp3vp8ZLt7/0/dR46SbRP4ts5/up8bK/",
          "dtype": "f8"
         },
         "yaxis": "y22",
         "zorder": 1
        },
        {
         "marker": {
          "color": "#002F6B"
         },
         "name": "Business expenditure year-on-year change",
         "type": "bar",
         "x": [
          "2018-01-01T00:00:00.000000000",
          "2019-01-01T00:00:00.000000000",
          "2020-01-01T00:00:00.000000000",
          "2021-01-01T00:00:00.000000000",
          "2022-01-01T00:00:00.000000000",
          "2023-01-01T00:00:00.000000000"
         ],
         "xaxis": "x23",
         "y": {
          "bdata": "MzMzMzMzsz9MN4lBYOWgP7gehetRuK6/TDeJQWDlwD+LbOf7qfGyP/yp8dJNYrC/",
          "dtype": "f8"
         },
         "yaxis": "y23",
         "zorder": 0
        },
        {
         "marker": {
          "color": "#002F6B"
         },
         "mode": "markers",
         "name": "Profits-expenditure correlation",
         "type": "scatter",
         "x": {
          "bdata": "6SYxCKwcqr8K16NwPQqnvwAAAAAAAMA/sp3vp8ZLt7/0/dR46SbRP4ts5/up8bK/",
          "dtype": "f8"
         },
         "xaxis": "x24",
         "y": {
          "bdata": "MzMzMzMzsz9MN4lBYOWgP7gehetRuK6/TDeJQWDlwD+LbOf7qfGyP/yp8dJNYrC/",
          "dtype": "f8"
         },
         "yaxis": "y24",
         "zorder": 1
        },
        {
         "line": {
          "color": "#FAA61A",
          "dash": "solid"
         },
         "mode": "lines",
         "name": "Manufacturing Fit",
         "showlegend": false,
         "type": "scatter",
         "x": {
          "bdata": "6SYxCKwcqr8K16NwPQqnvwAAAAAAAMA/sp3vp8ZLt7/0/dR46SbRP4ts5/up8bK/",
          "dtype": "f8"
         },
         "xaxis": "x24",
         "y": {
          "bdata": "fMIeC83SoT9sYQwq7LChP0bxsSwR4ps/6J7uPKi0oj9EifDuMZOVPzrhjxSrVKI/",
          "dtype": "f8"
         },
         "yaxis": "y24"
        },
        {
         "marker": {
          "color": "#002F6B"
         },
         "name": "Business profits year-on-year change",
         "type": "bar",
         "x": [
          "2018-01-01T00:00:00.000000000",
          "2019-01-01T00:00:00.000000000",
          "2020-01-01T00:00:00.000000000",
          "2021-01-01T00:00:00.000000000",
          "2022-01-01T00:00:00.000000000",
          "2023-01-01T00:00:00.000000000"
         ],
         "xaxis": "x25",
         "y": {
          "bdata": "oBov3SQGwT+6SQwCK4eGP5MYBFYOLdK/kxgEVg4t0j9KDAIrhxbRP+f7qfHSTcK/",
          "dtype": "f8"
         },
         "yaxis": "y25",
         "zorder": 1
        },
        {
         "marker": {
          "color": "#002F6B"
         },
         "name": "Business expenditure year-on-year change",
         "type": "bar",
         "x": [
          "2018-01-01T00:00:00.000000000",
          "2019-01-01T00:00:00.000000000",
          "2020-01-01T00:00:00.000000000",
          "2021-01-01T00:00:00.000000000",
          "2022-01-01T00:00:00.000000000",
          "2023-01-01T00:00:00.000000000"
         ],
         "xaxis": "x26",
         "y": {
          "bdata": "eekmMQisrD9KDAIrhxapv4PAyqFFtsO/CtejcD0Ktz+uR+F6FK7HPzvfT42XboK/",
          "dtype": "f8"
         },
         "yaxis": "y26",
         "zorder": 0
        },
        {
         "marker": {
          "color": "#002F6B"
         },
         "mode": "markers",
         "name": "Profits-expenditure correlation",
         "type": "scatter",
         "x": {
          "bdata": "oBov3SQGwT+6SQwCK4eGP5MYBFYOLdK/kxgEVg4t0j9KDAIrhxbRP+f7qfHSTcK/",
          "dtype": "f8"
         },
         "xaxis": "x27",
         "y": {
          "bdata": "eekmMQisrD9KDAIrhxapv4PAyqFFtsO/CtejcD0Ktz+uR+F6FK7HPzvfT42XboK/",
          "dtype": "f8"
         },
         "yaxis": "y27",
         "zorder": 1
        },
        {
         "line": {
          "color": "#FAA61A",
          "dash": "solid"
         },
         "mode": "lines",
         "name": "Mining Fit",
         "showlegend": false,
         "type": "scatter",
         "x": {
          "bdata": "oBov3SQGwT+6SQwCK4eGP5MYBFYOLdK/kxgEVg4t0j9KDAIrhxbRP+f7qfHSTcK/",
          "dtype": "f8"
         },
         "xaxis": "x27",
         "y": {
          "bdata": "sqVrKoNkrz9d58WaSXtwP3NHq+t1N8G/v3e6GqTswD/37SRiG86/P90n7Dqle7G/",
          "dtype": "f8"
         },
         "yaxis": "y27"
        },
        {
         "marker": {
          "color": "#002F6B"
         },
         "name": "Business profits year-on-year change",
         "type": "bar",
         "x": [
          "2018-01-01T00:00:00.000000000",
          "2019-01-01T00:00:00.000000000",
          "2020-01-01T00:00:00.000000000",
          "2021-01-01T00:00:00.000000000",
          "2022-01-01T00:00:00.000000000",
          "2023-01-01T00:00:00.000000000"
         ],
         "xaxis": "x28",
         "y": {
          "bdata": "WmQ730+Npz/LoUW28/20PycxCKwcWsS/CtejcD0Ktz9YObTIdr7PP5HtfD81Xro/",
          "dtype": "f8"
         },
         "yaxis": "y28",
         "zorder": 1
        },
        {
         "marker": {
          "color": "#002F6B"
         },
         "name": "Business expenditure year-on-year change",
         "type": "bar",
         "x": [
          "2018-01-01T00:00:00.000000000",
          "2019-01-01T00:00:00.000000000",
          "2020-01-01T00:00:00.000000000",
          "2021-01-01T00:00:00.000000000",
          "2022-01-01T00:00:00.000000000",
          "2023-01-01T00:00:00.000000000"
         ],
         "xaxis": "x29",
         "y": {
          "bdata": "MQisHFpkuz+JQWDl0CKrP1g5tMh2vq+//Knx0k1iwD9YObTIdr6/P1g5tMh2vq8/",
          "dtype": "f8"
         },
         "yaxis": "y29",
         "zorder": 0
        },
        {
         "marker": {
          "color": "#002F6B"
         },
         "mode": "markers",
         "name": "Profits-expenditure correlation",
         "type": "scatter",
         "x": {
          "bdata": "WmQ730+Npz/LoUW28/20PycxCKwcWsS/CtejcD0Ktz9YObTIdr7PP5HtfD81Xro/",
          "dtype": "f8"
         },
         "xaxis": "x30",
         "y": {
          "bdata": "MQisHFpkuz+JQWDl0CKrP1g5tMh2vq+//Knx0k1iwD9YObTIdr6/P1g5tMh2vq8/",
          "dtype": "f8"
         },
         "yaxis": "y30",
         "zorder": 1
        },
        {
         "line": {
          "color": "#FAA61A",
          "dash": "solid"
         },
         "mode": "lines",
         "name": "Professional, Scientific, Technical, Administrative and Support Services Fit",
         "showlegend": false,
         "type": "scatter",
         "x": {
          "bdata": "WmQ730+Npz/LoUW28/20PycxCKwcWsS/CtejcD0Ktz9YObTIdr7PP5HtfD81Xro/",
          "dtype": "f8"
         },
         "xaxis": "x30",
         "y": {
          "bdata": "mnFn7EjorT/sEwc5XC+zPxNVqsxcSKK/ZLbgRxMgtD+bf5VWGVnDP2leAsA8p7U/",
          "dtype": "f8"
         },
         "yaxis": "y30"
        },
        {
         "marker": {
          "color": "#002F6B"
         },
         "name": "Business profits year-on-year change",
         "type": "bar",
         "x": [
          "2018-01-01T00:00:00.000000000",
          "2019-01-01T00:00:00.000000000",
          "2020-01-01T00:00:00.000000000",
          "2021-01-01T00:00:00.000000000",
          "2022-01-01T00:00:00.000000000",
          "2023-01-01T00:00:00.000000000"
         ],
         "xaxis": "x31",
         "y": {
          "bdata": "46WbxCCwsj/jpZvEILCyv6jGSzeJQcA/SgwCK4cWuT8rhxbZzvfDvzm0yHa+n7o/",
          "dtype": "f8"
         },
         "yaxis": "y31",
         "zorder": 1
        },
        {
         "marker": {
          "color": "#002F6B"
         },
         "name": "Business expenditure year-on-year change",
         "type": "bar",
         "x": [
          "2018-01-01T00:00:00.000000000",
          "2019-01-01T00:00:00.000000000",
          "2020-01-01T00:00:00.000000000",
          "2021-01-01T00:00:00.000000000",
          "2022-01-01T00:00:00.000000000",
          "2023-01-01T00:00:00.000000000"
         ],
         "xaxis": "x32",
         "y": {
          "bdata": "aJHtfD81vj/jpZvEILCyPxsv3SQGgbW/Vg4tsp3vxz8rhxbZzvejP3sUrkfhenS/",
          "dtype": "f8"
         },
         "yaxis": "y32",
         "zorder": 0
        },
        {
         "marker": {
          "color": "#002F6B"
         },
         "mode": "markers",
         "name": "Profits-expenditure correlation",
         "type": "scatter",
         "x": {
          "bdata": "46WbxCCwsj/jpZvEILCyv6jGSzeJQcA/SgwCK4cWuT8rhxbZzvfDvzm0yHa+n7o/",
          "dtype": "f8"
         },
         "xaxis": "x33",
         "y": {
          "bdata": "aJHtfD81vj/jpZvEILCyPxsv3SQGgbW/Vg4tsp3vxz8rhxbZzvejP3sUrkfhenS/",
          "dtype": "f8"
         },
         "yaxis": "y33",
         "zorder": 1
        },
        {
         "line": {
          "color": "#FAA61A",
          "dash": "solid"
         },
         "mode": "lines",
         "name": "Rental, Hiring and Real Estate Services Fit",
         "showlegend": false,
         "type": "scatter",
         "x": {
          "bdata": "46WbxCCwsj/jpZvEILCyv6jGSzeJQcA/SgwCK4cWuT8rhxbZzvfDvzm0yHa+n7o/",
          "dtype": "f8"
         },
         "xaxis": "x33",
         "y": {
          "bdata": "WWIBLhJAqj+h3UfWvv+vP6H1MMnAH6g/WYVebBJEqT8J7SLvMKKxP0V5DpqXB6k/",
          "dtype": "f8"
         },
         "yaxis": "y33"
        },
        {
         "marker": {
          "color": "#002F6B"
         },
         "name": "Business profits year-on-year change",
         "type": "bar",
         "x": [
          "2019-01-01T00:00:00.000000000",
          "2020-01-01T00:00:00.000000000",
          "2021-01-01T00:00:00.000000000",
          "2022-01-01T00:00:00.000000000",
          "2023-01-01T00:00:00.000000000"
         ],
         "xaxis": "x34",
         "y": {
          "bdata": "yXa+nxovrT8pXI/C9Si8P3sUrkfheqQ/yXa+nxovrT9MN4lBYOWwvw==",
          "dtype": "f8"
         },
         "yaxis": "y34",
         "zorder": 1
        },
        {
         "marker": {
          "color": "#002F6B"
         },
         "name": "Business expenditure year-on-year change",
         "type": "bar",
         "x": [
          "2019-01-01T00:00:00.000000000",
          "2020-01-01T00:00:00.000000000",
          "2021-01-01T00:00:00.000000000",
          "2022-01-01T00:00:00.000000000",
          "2023-01-01T00:00:00.000000000"
         ],
         "xaxis": "x35",
         "y": {
          "bdata": "WDm0yHa+nz/8qfHSTWKAvwisHFpkO78/I9v5fmq8tD+cxCCwcmiRPw==",
          "dtype": "f8"
         },
         "yaxis": "y35",
         "zorder": 0
        },
        {
         "marker": {
          "color": "#002F6B"
         },
         "mode": "markers",
         "name": "Profits-expenditure correlation",
         "type": "scatter",
         "x": {
          "bdata": "yXa+nxovrT8pXI/C9Si8P3sUrkfheqQ/yXa+nxovrT9MN4lBYOWwvw==",
          "dtype": "f8"
         },
         "xaxis": "x36",
         "y": {
          "bdata": "WDm0yHa+nz/8qfHSTWKAvwisHFpkO78/I9v5fmq8tD+cxCCwcmiRPw==",
          "dtype": "f8"
         },
         "yaxis": "y36",
         "zorder": 1
        },
        {
         "line": {
          "color": "#FAA61A",
          "dash": "solid"
         },
         "mode": "lines",
         "name": "Retail Trade and Accommodation Fit",
         "showlegend": false,
         "type": "scatter",
         "x": {
          "bdata": "yXa+nxovrT8pXI/C9Si8P3sUrkfheqQ/yXa+nxovrT9MN4lBYOWwvw==",
          "dtype": "f8"
         },
         "xaxis": "x36",
         "y": {
          "bdata": "PcqGdt2wqD+gmNws5hqoPz9JTqb34Kg/PcqGdt2wqD96rKI55gyqPw==",
          "dtype": "f8"
         },
         "yaxis": "y36"
        },
        {
         "marker": {
          "color": "#002F6B"
         },
         "name": "Business profits year-on-year change",
         "type": "bar",
         "x": [
          "2018-01-01T00:00:00.000000000",
          "2019-01-01T00:00:00.000000000",
          "2020-01-01T00:00:00.000000000",
          "2021-01-01T00:00:00.000000000",
          "2022-01-01T00:00:00.000000000",
          "2023-01-01T00:00:00.000000000"
         ],
         "xaxis": "x37",
         "y": {
          "bdata": "nMQgsHJokT8IrBxaZDuvP5qZmZmZmcm/4XoUrkfhyj+wcmiR7XzPP4PAyqFFtrO/",
          "dtype": "f8"
         },
         "yaxis": "y37",
         "zorder": 1
        },
        {
         "marker": {
          "color": "#002F6B"
         },
         "name": "Business expenditure year-on-year change",
         "type": "bar",
         "x": [
          "2018-01-01T00:00:00.000000000",
          "2019-01-01T00:00:00.000000000",
          "2020-01-01T00:00:00.000000000",
          "2021-01-01T00:00:00.000000000",
          "2022-01-01T00:00:00.000000000",
          "2023-01-01T00:00:00.000000000"
         ],
         "xaxis": "x38",
         "y": {
          "bdata": "TDeJQWDlsD+cxCCwcmihPxsv3SQGgcW/uB6F61G4vj85tMh2vp/SP1TjpZvEILA/",
          "dtype": "f8"
         },
         "yaxis": "y38",
         "zorder": 0
        },
        {
         "marker": {
          "color": "#002F6B"
         },
         "mode": "markers",
         "name": "Profits-expenditure correlation",
         "type": "scatter",
         "x": {
          "bdata": "nMQgsHJokT8IrBxaZDuvP5qZmZmZmcm/4XoUrkfhyj+wcmiR7XzPP4PAyqFFtrO/",
          "dtype": "f8"
         },
         "xaxis": "x39",
         "y": {
          "bdata": "TDeJQWDlsD+cxCCwcmihPxsv3SQGgcW/uB6F61G4vj85tMh2vp/SP1TjpZvEILA/",
          "dtype": "f8"
         },
         "yaxis": "y39",
         "zorder": 1
        },
        {
         "line": {
          "color": "#FAA61A",
          "dash": "solid"
         },
         "mode": "lines",
         "name": "Transport, Postal and Warehousing Fit",
         "showlegend": false,
         "type": "scatter",
         "x": {
          "bdata": "nMQgsHJokT8IrBxaZDuvP5qZmZmZmcm/4XoUrkfhyj+wcmiR7XzPP4PAyqFFtrO/",
          "dtype": "f8"
         },
         "xaxis": "x39",
         "y": {
          "bdata": "OFJVGt5iqD+FGV+RDu60P2Deekov5b6/AG7lvAlCyT9xbSktBdXMP3Az/tc545m/",
          "dtype": "f8"
         },
         "yaxis": "y39"
        },
        {
         "marker": {
          "color": "#002F6B"
         },
         "name": "Business profits year-on-year change",
         "type": "bar",
         "x": [
          "2018-01-01T00:00:00.000000000",
          "2019-01-01T00:00:00.000000000",
          "2020-01-01T00:00:00.000000000",
          "2021-01-01T00:00:00.000000000",
          "2022-01-01T00:00:00.000000000",
          "2023-01-01T00:00:00.000000000"
         ],
         "xaxis": "x40",
         "y": {
          "bdata": "O99PjZdugj/0/dR46SaxP5zEILByaNE/mpmZmZmZmb8K16NwPQqnPzm0yHa+n5o/",
          "dtype": "f8"
         },
         "yaxis": "y40",
         "zorder": 1
        },
        {
         "marker": {
          "color": "#002F6B"
         },
         "name": "Business expenditure year-on-year change",
         "type": "bar",
         "x": [
          "2018-01-01T00:00:00.000000000",
          "2019-01-01T00:00:00.000000000",
          "2020-01-01T00:00:00.000000000",
          "2021-01-01T00:00:00.000000000",
          "2022-01-01T00:00:00.000000000",
          "2023-01-01T00:00:00.000000000"
         ],
         "xaxis": "x41",
         "y": {
          "bdata": "i2zn+6nxsj85tMh2vp+aP5qZmZmZmZm/z/dT46WbxD+R7Xw/NV7KP5zEILByaJE/",
          "dtype": "f8"
         },
         "yaxis": "y41",
         "zorder": 0
        },
        {
         "marker": {
          "color": "#002F6B"
         },
         "mode": "markers",
         "name": "Profits-expenditure correlation",
         "type": "scatter",
         "x": {
          "bdata": "O99PjZdugj/0/dR46SaxP5zEILByaNE/mpmZmZmZmb8K16NwPQqnPzm0yHa+n5o/",
          "dtype": "f8"
         },
         "xaxis": "x42",
         "y": {
          "bdata": "i2zn+6nxsj85tMh2vp+aP5qZmZmZmZm/z/dT46WbxD+R7Xw/NV7KP5zEILByaJE/",
          "dtype": "f8"
         },
         "yaxis": "y42",
         "zorder": 1
        },
        {
         "line": {
          "color": "#FAA61A",
          "dash": "solid"
         },
         "mode": "lines",
         "name": "Wholesale Trade Fit",
         "showlegend": false,
         "type": "scatter",
         "x": {
          "bdata": "O99PjZdugj/0/dR46SaxP5zEILByaNE/mpmZmZmZmb8K16NwPQqnPzm0yHa+n5o/",
          "dtype": "f8"
         },
         "xaxis": "x42",
         "y": {
          "bdata": "dz312TUOuz/Vxe/Hf2izP6D/y1H9e56/1hA/jNWJvz8Sx1tKFE+2P8hT0ABm0Lg/",
          "dtype": "f8"
         },
         "yaxis": "y42"
        }
       ],
       "layout": {
        "annotations": [
         {
          "font": {
           "size": 16
          },
          "showarrow": false,
          "text": "Business profits year-on-year change",
          "x": 0.14444444444444446,
          "xanchor": "center",
          "xref": "paper",
          "y": 1,
          "yanchor": "bottom",
          "yref": "paper"
         },
         {
          "font": {
           "size": 16
          },
          "showarrow": false,
          "text": "Business expenditure year-on-year change",
          "x": 0.5,
          "xanchor": "center",
          "xref": "paper",
          "y": 1,
          "yanchor": "bottom",
          "yref": "paper"
         },
         {
          "font": {
           "size": 16
          },
          "showarrow": false,
          "text": "Profits-expenditure correlation",
          "x": 0.8555555555555556,
          "xanchor": "center",
          "xref": "paper",
          "y": 1,
          "yanchor": "bottom",
          "yref": "paper"
         }
        ],
        "height": 5000,
        "showlegend": false,
        "template": {
         "data": {
          "bar": [
           {
            "error_x": {
             "color": "#2a3f5f"
            },
            "error_y": {
             "color": "#2a3f5f"
            },
            "marker": {
             "line": {
              "color": "#E5ECF6",
              "width": 0.5
             },
             "pattern": {
              "fillmode": "overlay",
              "size": 10,
              "solidity": 0.2
             }
            },
            "type": "bar"
           }
          ],
          "barpolar": [
           {
            "marker": {
             "line": {
              "color": "#E5ECF6",
              "width": 0.5
             },
             "pattern": {
              "fillmode": "overlay",
              "size": 10,
              "solidity": 0.2
             }
            },
            "type": "barpolar"
           }
          ],
          "carpet": [
           {
            "aaxis": {
             "endlinecolor": "#2a3f5f",
             "gridcolor": "white",
             "linecolor": "white",
             "minorgridcolor": "white",
             "startlinecolor": "#2a3f5f"
            },
            "baxis": {
             "endlinecolor": "#2a3f5f",
             "gridcolor": "white",
             "linecolor": "white",
             "minorgridcolor": "white",
             "startlinecolor": "#2a3f5f"
            },
            "type": "carpet"
           }
          ],
          "choropleth": [
           {
            "colorbar": {
             "outlinewidth": 0,
             "ticks": ""
            },
            "type": "choropleth"
           }
          ],
          "contour": [
           {
            "colorbar": {
             "outlinewidth": 0,
             "ticks": ""
            },
            "colorscale": [
             [
              0,
              "#0d0887"
             ],
             [
              0.1111111111111111,
              "#46039f"
             ],
             [
              0.2222222222222222,
              "#7201a8"
             ],
             [
              0.3333333333333333,
              "#9c179e"
             ],
             [
              0.4444444444444444,
              "#bd3786"
             ],
             [
              0.5555555555555556,
              "#d8576b"
             ],
             [
              0.6666666666666666,
              "#ed7953"
             ],
             [
              0.7777777777777778,
              "#fb9f3a"
             ],
             [
              0.8888888888888888,
              "#fdca26"
             ],
             [
              1,
              "#f0f921"
             ]
            ],
            "type": "contour"
           }
          ],
          "contourcarpet": [
           {
            "colorbar": {
             "outlinewidth": 0,
             "ticks": ""
            },
            "type": "contourcarpet"
           }
          ],
          "heatmap": [
           {
            "colorbar": {
             "outlinewidth": 0,
             "ticks": ""
            },
            "colorscale": [
             [
              0,
              "#0d0887"
             ],
             [
              0.1111111111111111,
              "#46039f"
             ],
             [
              0.2222222222222222,
              "#7201a8"
             ],
             [
              0.3333333333333333,
              "#9c179e"
             ],
             [
              0.4444444444444444,
              "#bd3786"
             ],
             [
              0.5555555555555556,
              "#d8576b"
             ],
             [
              0.6666666666666666,
              "#ed7953"
             ],
             [
              0.7777777777777778,
              "#fb9f3a"
             ],
             [
              0.8888888888888888,
              "#fdca26"
             ],
             [
              1,
              "#f0f921"
             ]
            ],
            "type": "heatmap"
           }
          ],
          "histogram": [
           {
            "marker": {
             "pattern": {
              "fillmode": "overlay",
              "size": 10,
              "solidity": 0.2
             }
            },
            "type": "histogram"
           }
          ],
          "histogram2d": [
           {
            "colorbar": {
             "outlinewidth": 0,
             "ticks": ""
            },
            "colorscale": [
             [
              0,
              "#0d0887"
             ],
             [
              0.1111111111111111,
              "#46039f"
             ],
             [
              0.2222222222222222,
              "#7201a8"
             ],
             [
              0.3333333333333333,
              "#9c179e"
             ],
             [
              0.4444444444444444,
              "#bd3786"
             ],
             [
              0.5555555555555556,
              "#d8576b"
             ],
             [
              0.6666666666666666,
              "#ed7953"
             ],
             [
              0.7777777777777778,
              "#fb9f3a"
             ],
             [
              0.8888888888888888,
              "#fdca26"
             ],
             [
              1,
              "#f0f921"
             ]
            ],
            "type": "histogram2d"
           }
          ],
          "histogram2dcontour": [
           {
            "colorbar": {
             "outlinewidth": 0,
             "ticks": ""
            },
            "colorscale": [
             [
              0,
              "#0d0887"
             ],
             [
              0.1111111111111111,
              "#46039f"
             ],
             [
              0.2222222222222222,
              "#7201a8"
             ],
             [
              0.3333333333333333,
              "#9c179e"
             ],
             [
              0.4444444444444444,
              "#bd3786"
             ],
             [
              0.5555555555555556,
              "#d8576b"
             ],
             [
              0.6666666666666666,
              "#ed7953"
             ],
             [
              0.7777777777777778,
              "#fb9f3a"
             ],
             [
              0.8888888888888888,
              "#fdca26"
             ],
             [
              1,
              "#f0f921"
             ]
            ],
            "type": "histogram2dcontour"
           }
          ],
          "mesh3d": [
           {
            "colorbar": {
             "outlinewidth": 0,
             "ticks": ""
            },
            "type": "mesh3d"
           }
          ],
          "parcoords": [
           {
            "line": {
             "colorbar": {
              "outlinewidth": 0,
              "ticks": ""
             }
            },
            "type": "parcoords"
           }
          ],
          "pie": [
           {
            "automargin": true,
            "type": "pie"
           }
          ],
          "scatter": [
           {
            "fillpattern": {
             "fillmode": "overlay",
             "size": 10,
             "solidity": 0.2
            },
            "type": "scatter"
           }
          ],
          "scatter3d": [
           {
            "line": {
             "colorbar": {
              "outlinewidth": 0,
              "ticks": ""
             }
            },
            "marker": {
             "colorbar": {
              "outlinewidth": 0,
              "ticks": ""
             }
            },
            "type": "scatter3d"
           }
          ],
          "scattercarpet": [
           {
            "marker": {
             "colorbar": {
              "outlinewidth": 0,
              "ticks": ""
             }
            },
            "type": "scattercarpet"
           }
          ],
          "scattergeo": [
           {
            "marker": {
             "colorbar": {
              "outlinewidth": 0,
              "ticks": ""
             }
            },
            "type": "scattergeo"
           }
          ],
          "scattergl": [
           {
            "marker": {
             "colorbar": {
              "outlinewidth": 0,
              "ticks": ""
             }
            },
            "type": "scattergl"
           }
          ],
          "scattermap": [
           {
            "marker": {
             "colorbar": {
              "outlinewidth": 0,
              "ticks": ""
             }
            },
            "type": "scattermap"
           }
          ],
          "scattermapbox": [
           {
            "marker": {
             "colorbar": {
              "outlinewidth": 0,
              "ticks": ""
             }
            },
            "type": "scattermapbox"
           }
          ],
          "scatterpolar": [
           {
            "marker": {
             "colorbar": {
              "outlinewidth": 0,
              "ticks": ""
             }
            },
            "type": "scatterpolar"
           }
          ],
          "scatterpolargl": [
           {
            "marker": {
             "colorbar": {
              "outlinewidth": 0,
              "ticks": ""
             }
            },
            "type": "scatterpolargl"
           }
          ],
          "scatterternary": [
           {
            "marker": {
             "colorbar": {
              "outlinewidth": 0,
              "ticks": ""
             }
            },
            "type": "scatterternary"
           }
          ],
          "surface": [
           {
            "colorbar": {
             "outlinewidth": 0,
             "ticks": ""
            },
            "colorscale": [
             [
              0,
              "#0d0887"
             ],
             [
              0.1111111111111111,
              "#46039f"
             ],
             [
              0.2222222222222222,
              "#7201a8"
             ],
             [
              0.3333333333333333,
              "#9c179e"
             ],
             [
              0.4444444444444444,
              "#bd3786"
             ],
             [
              0.5555555555555556,
              "#d8576b"
             ],
             [
              0.6666666666666666,
              "#ed7953"
             ],
             [
              0.7777777777777778,
              "#fb9f3a"
             ],
             [
              0.8888888888888888,
              "#fdca26"
             ],
             [
              1,
              "#f0f921"
             ]
            ],
            "type": "surface"
           }
          ],
          "table": [
           {
            "cells": {
             "fill": {
              "color": "#EBF0F8"
             },
             "line": {
              "color": "white"
             }
            },
            "header": {
             "fill": {
              "color": "#C8D4E3"
             },
             "line": {
              "color": "white"
             }
            },
            "type": "table"
           }
          ]
         },
         "layout": {
          "annotationdefaults": {
           "arrowcolor": "#2a3f5f",
           "arrowhead": 0,
           "arrowwidth": 1
          },
          "autotypenumbers": "strict",
          "coloraxis": {
           "colorbar": {
            "outlinewidth": 0,
            "ticks": ""
           }
          },
          "colorscale": {
           "diverging": [
            [
             0,
             "#8e0152"
            ],
            [
             0.1,
             "#c51b7d"
            ],
            [
             0.2,
             "#de77ae"
            ],
            [
             0.3,
             "#f1b6da"
            ],
            [
             0.4,
             "#fde0ef"
            ],
            [
             0.5,
             "#f7f7f7"
            ],
            [
             0.6,
             "#e6f5d0"
            ],
            [
             0.7,
             "#b8e186"
            ],
            [
             0.8,
             "#7fbc41"
            ],
            [
             0.9,
             "#4d9221"
            ],
            [
             1,
             "#276419"
            ]
           ],
           "sequential": [
            [
             0,
             "#0d0887"
            ],
            [
             0.1111111111111111,
             "#46039f"
            ],
            [
             0.2222222222222222,
             "#7201a8"
            ],
            [
             0.3333333333333333,
             "#9c179e"
            ],
            [
             0.4444444444444444,
             "#bd3786"
            ],
            [
             0.5555555555555556,
             "#d8576b"
            ],
            [
             0.6666666666666666,
             "#ed7953"
            ],
            [
             0.7777777777777778,
             "#fb9f3a"
            ],
            [
             0.8888888888888888,
             "#fdca26"
            ],
            [
             1,
             "#f0f921"
            ]
           ],
           "sequentialminus": [
            [
             0,
             "#0d0887"
            ],
            [
             0.1111111111111111,
             "#46039f"
            ],
            [
             0.2222222222222222,
             "#7201a8"
            ],
            [
             0.3333333333333333,
             "#9c179e"
            ],
            [
             0.4444444444444444,
             "#bd3786"
            ],
            [
             0.5555555555555556,
             "#d8576b"
            ],
            [
             0.6666666666666666,
             "#ed7953"
            ],
            [
             0.7777777777777778,
             "#fb9f3a"
            ],
            [
             0.8888888888888888,
             "#fdca26"
            ],
            [
             1,
             "#f0f921"
            ]
           ]
          },
          "colorway": [
           "#636efa",
           "#EF553B",
           "#00cc96",
           "#ab63fa",
           "#FFA15A",
           "#19d3f3",
           "#FF6692",
           "#B6E880",
           "#FF97FF",
           "#FECB52"
          ],
          "font": {
           "color": "#2a3f5f"
          },
          "geo": {
           "bgcolor": "white",
           "lakecolor": "white",
           "landcolor": "#E5ECF6",
           "showlakes": true,
           "showland": true,
           "subunitcolor": "white"
          },
          "hoverlabel": {
           "align": "left"
          },
          "hovermode": "closest",
          "mapbox": {
           "style": "light"
          },
          "paper_bgcolor": "white",
          "plot_bgcolor": "#E5ECF6",
          "polar": {
           "angularaxis": {
            "gridcolor": "white",
            "linecolor": "white",
            "ticks": ""
           },
           "bgcolor": "#E5ECF6",
           "radialaxis": {
            "gridcolor": "white",
            "linecolor": "white",
            "ticks": ""
           }
          },
          "scene": {
           "xaxis": {
            "backgroundcolor": "#E5ECF6",
            "gridcolor": "white",
            "gridwidth": 2,
            "linecolor": "white",
            "showbackground": true,
            "ticks": "",
            "zerolinecolor": "white"
           },
           "yaxis": {
            "backgroundcolor": "#E5ECF6",
            "gridcolor": "white",
            "gridwidth": 2,
            "linecolor": "white",
            "showbackground": true,
            "ticks": "",
            "zerolinecolor": "white"
           },
           "zaxis": {
            "backgroundcolor": "#E5ECF6",
            "gridcolor": "white",
            "gridwidth": 2,
            "linecolor": "white",
            "showbackground": true,
            "ticks": "",
            "zerolinecolor": "white"
           }
          },
          "shapedefaults": {
           "line": {
            "color": "#2a3f5f"
           }
          },
          "ternary": {
           "aaxis": {
            "gridcolor": "white",
            "linecolor": "white",
            "ticks": ""
           },
           "baxis": {
            "gridcolor": "white",
            "linecolor": "white",
            "ticks": ""
           },
           "bgcolor": "#E5ECF6",
           "caxis": {
            "gridcolor": "white",
            "linecolor": "white",
            "ticks": ""
           }
          },
          "title": {
           "x": 0.05
          },
          "xaxis": {
           "automargin": true,
           "gridcolor": "white",
           "linecolor": "white",
           "ticks": "",
           "title": {
            "standoff": 15
           },
           "zerolinecolor": "white",
           "zerolinewidth": 2
          },
          "yaxis": {
           "automargin": true,
           "gridcolor": "white",
           "linecolor": "white",
           "ticks": "",
           "title": {
            "standoff": 15
           },
           "zerolinecolor": "white",
           "zerolinewidth": 2
          }
         }
        },
        "xaxis": {
         "anchor": "y",
         "domain": [
          0,
          0.2888888888888889
         ],
         "title": {
          "text": "year"
         }
        },
        "xaxis10": {
         "anchor": "y10",
         "domain": [
          0,
          0.2888888888888889
         ],
         "title": {
          "text": "year"
         }
        },
        "xaxis11": {
         "anchor": "y11",
         "domain": [
          0.35555555555555557,
          0.6444444444444445
         ],
         "title": {
          "text": "year"
         }
        },
        "xaxis12": {
         "anchor": "y12",
         "domain": [
          0.7111111111111111,
          1
         ],
         "title": {
          "text": " profits year-on-year change"
         }
        },
        "xaxis13": {
         "anchor": "y13",
         "domain": [
          0,
          0.2888888888888889
         ],
         "title": {
          "text": "year"
         }
        },
        "xaxis14": {
         "anchor": "y14",
         "domain": [
          0.35555555555555557,
          0.6444444444444445
         ],
         "title": {
          "text": "year"
         }
        },
        "xaxis15": {
         "anchor": "y15",
         "domain": [
          0.7111111111111111,
          1
         ],
         "title": {
          "text": " profits year-on-year change"
         }
        },
        "xaxis16": {
         "anchor": "y16",
         "domain": [
          0,
          0.2888888888888889
         ],
         "title": {
          "text": "year"
         }
        },
        "xaxis17": {
         "anchor": "y17",
         "domain": [
          0.35555555555555557,
          0.6444444444444445
         ],
         "title": {
          "text": "year"
         }
        },
        "xaxis18": {
         "anchor": "y18",
         "domain": [
          0.7111111111111111,
          1
         ],
         "title": {
          "text": " profits year-on-year change"
         }
        },
        "xaxis19": {
         "anchor": "y19",
         "domain": [
          0,
          0.2888888888888889
         ],
         "title": {
          "text": "year"
         }
        },
        "xaxis2": {
         "anchor": "y2",
         "domain": [
          0.35555555555555557,
          0.6444444444444445
         ],
         "title": {
          "text": "year"
         }
        },
        "xaxis20": {
         "anchor": "y20",
         "domain": [
          0.35555555555555557,
          0.6444444444444445
         ],
         "title": {
          "text": "year"
         }
        },
        "xaxis21": {
         "anchor": "y21",
         "domain": [
          0.7111111111111111,
          1
         ],
         "title": {
          "text": " profits year-on-year change"
         }
        },
        "xaxis22": {
         "anchor": "y22",
         "domain": [
          0,
          0.2888888888888889
         ],
         "title": {
          "text": "year"
         }
        },
        "xaxis23": {
         "anchor": "y23",
         "domain": [
          0.35555555555555557,
          0.6444444444444445
         ],
         "title": {
          "text": "year"
         }
        },
        "xaxis24": {
         "anchor": "y24",
         "domain": [
          0.7111111111111111,
          1
         ],
         "title": {
          "text": " profits year-on-year change"
         }
        },
        "xaxis25": {
         "anchor": "y25",
         "domain": [
          0,
          0.2888888888888889
         ],
         "title": {
          "text": "year"
         }
        },
        "xaxis26": {
         "anchor": "y26",
         "domain": [
          0.35555555555555557,
          0.6444444444444445
         ],
         "title": {
          "text": "year"
         }
        },
        "xaxis27": {
         "anchor": "y27",
         "domain": [
          0.7111111111111111,
          1
         ],
         "title": {
          "text": " profits year-on-year change"
         }
        },
        "xaxis28": {
         "anchor": "y28",
         "domain": [
          0,
          0.2888888888888889
         ],
         "title": {
          "text": "year"
         }
        },
        "xaxis29": {
         "anchor": "y29",
         "domain": [
          0.35555555555555557,
          0.6444444444444445
         ],
         "title": {
          "text": "year"
         }
        },
        "xaxis3": {
         "anchor": "y3",
         "domain": [
          0.7111111111111111,
          1
         ],
         "title": {
          "text": " profits year-on-year change"
         }
        },
        "xaxis30": {
         "anchor": "y30",
         "domain": [
          0.7111111111111111,
          1
         ],
         "title": {
          "text": " profits year-on-year change"
         }
        },
        "xaxis31": {
         "anchor": "y31",
         "domain": [
          0,
          0.2888888888888889
         ],
         "title": {
          "text": "year"
         }
        },
        "xaxis32": {
         "anchor": "y32",
         "domain": [
          0.35555555555555557,
          0.6444444444444445
         ],
         "title": {
          "text": "year"
         }
        },
        "xaxis33": {
         "anchor": "y33",
         "domain": [
          0.7111111111111111,
          1
         ],
         "title": {
          "text": " profits year-on-year change"
         }
        },
        "xaxis34": {
         "anchor": "y34",
         "domain": [
          0,
          0.2888888888888889
         ],
         "title": {
          "text": "year"
         }
        },
        "xaxis35": {
         "anchor": "y35",
         "domain": [
          0.35555555555555557,
          0.6444444444444445
         ],
         "title": {
          "text": "year"
         }
        },
        "xaxis36": {
         "anchor": "y36",
         "domain": [
          0.7111111111111111,
          1
         ],
         "title": {
          "text": " profits year-on-year change"
         }
        },
        "xaxis37": {
         "anchor": "y37",
         "domain": [
          0,
          0.2888888888888889
         ],
         "title": {
          "text": "year"
         }
        },
        "xaxis38": {
         "anchor": "y38",
         "domain": [
          0.35555555555555557,
          0.6444444444444445
         ],
         "title": {
          "text": "year"
         }
        },
        "xaxis39": {
         "anchor": "y39",
         "domain": [
          0.7111111111111111,
          1
         ],
         "title": {
          "text": " profits year-on-year change"
         }
        },
        "xaxis4": {
         "anchor": "y4",
         "domain": [
          0,
          0.2888888888888889
         ],
         "title": {
          "text": "year"
         }
        },
        "xaxis40": {
         "anchor": "y40",
         "domain": [
          0,
          0.2888888888888889
         ],
         "title": {
          "text": "year"
         }
        },
        "xaxis41": {
         "anchor": "y41",
         "domain": [
          0.35555555555555557,
          0.6444444444444445
         ],
         "title": {
          "text": "year"
         }
        },
        "xaxis42": {
         "anchor": "y42",
         "domain": [
          0.7111111111111111,
          1
         ],
         "title": {
          "text": " profits year-on-year change"
         }
        },
        "xaxis5": {
         "anchor": "y5",
         "domain": [
          0.35555555555555557,
          0.6444444444444445
         ],
         "title": {
          "text": "year"
         }
        },
        "xaxis6": {
         "anchor": "y6",
         "domain": [
          0.7111111111111111,
          1
         ],
         "title": {
          "text": " profits year-on-year change"
         }
        },
        "xaxis7": {
         "anchor": "y7",
         "domain": [
          0,
          0.2888888888888889
         ],
         "title": {
          "text": "year"
         }
        },
        "xaxis8": {
         "anchor": "y8",
         "domain": [
          0.35555555555555557,
          0.6444444444444445
         ],
         "title": {
          "text": "year"
         }
        },
        "xaxis9": {
         "anchor": "y9",
         "domain": [
          0.7111111111111111,
          1
         ],
         "title": {
          "text": " profits year-on-year change"
         }
        },
        "yaxis": {
         "anchor": "x",
         "domain": [
          0.9617346938775511,
          1
         ],
         "title": {
          "font": {
           "size": 12
          },
          "text": "Agriculture, Forestry and Fishing"
         }
        },
        "yaxis10": {
         "anchor": "x10",
         "domain": [
          0.739795918367347,
          0.778061224489796
         ],
         "title": {
          "font": {
           "size": 12
          },
          "text": "Education and Training"
         }
        },
        "yaxis11": {
         "anchor": "x11",
         "domain": [
          0.739795918367347,
          0.778061224489796
         ],
         "title": {
          "font": {
           "size": 12
          }
         }
        },
        "yaxis12": {
         "anchor": "x12",
         "domain": [
          0.739795918367347,
          0.778061224489796
         ],
         "title": {
          "font": {
           "size": 12
          },
          "text": "expenditure year-on-year change"
         }
        },
        "yaxis13": {
         "anchor": "x13",
         "domain": [
          0.6658163265306123,
          0.7040816326530612
         ],
         "title": {
          "font": {
           "size": 12
          },
          "text": "Electricity, Gas, Water and Waste Services"
         }
        },
        "yaxis14": {
         "anchor": "x14",
         "domain": [
          0.6658163265306123,
          0.7040816326530612
         ],
         "title": {
          "font": {
           "size": 12
          }
         }
        },
        "yaxis15": {
         "anchor": "x15",
         "domain": [
          0.6658163265306123,
          0.7040816326530612
         ],
         "title": {
          "font": {
           "size": 12
          },
          "text": "expenditure year-on-year change"
         }
        },
        "yaxis16": {
         "anchor": "x16",
         "domain": [
          0.5918367346938775,
          0.6301020408163265
         ],
         "title": {
          "font": {
           "size": 12
          },
          "text": "Health Care and Social Assistance"
         }
        },
        "yaxis17": {
         "anchor": "x17",
         "domain": [
          0.5918367346938775,
          0.6301020408163265
         ],
         "title": {
          "font": {
           "size": 12
          }
         }
        },
        "yaxis18": {
         "anchor": "x18",
         "domain": [
          0.5918367346938775,
          0.6301020408163265
         ],
         "title": {
          "font": {
           "size": 12
          },
          "text": "expenditure year-on-year change"
         }
        },
        "yaxis19": {
         "anchor": "x19",
         "domain": [
          0.5178571428571429,
          0.5561224489795918
         ],
         "title": {
          "font": {
           "size": 12
          },
          "text": "Information Media and Telecommunications"
         }
        },
        "yaxis2": {
         "anchor": "x2",
         "domain": [
          0.9617346938775511,
          1
         ],
         "title": {
          "font": {
           "size": 12
          }
         }
        },
        "yaxis20": {
         "anchor": "x20",
         "domain": [
          0.5178571428571429,
          0.5561224489795918
         ],
         "title": {
          "font": {
           "size": 12
          }
         }
        },
        "yaxis21": {
         "anchor": "x21",
         "domain": [
          0.5178571428571429,
          0.5561224489795918
         ],
         "title": {
          "font": {
           "size": 12
          },
          "text": "expenditure year-on-year change"
         }
        },
        "yaxis22": {
         "anchor": "x22",
         "domain": [
          0.4438775510204082,
          0.4821428571428572
         ],
         "title": {
          "font": {
           "size": 12
          },
          "text": "Manufacturing"
         }
        },
        "yaxis23": {
         "anchor": "x23",
         "domain": [
          0.4438775510204082,
          0.4821428571428572
         ],
         "title": {
          "font": {
           "size": 12
          }
         }
        },
        "yaxis24": {
         "anchor": "x24",
         "domain": [
          0.4438775510204082,
          0.4821428571428572
         ],
         "title": {
          "font": {
           "size": 12
          },
          "text": "expenditure year-on-year change"
         }
        },
        "yaxis25": {
         "anchor": "x25",
         "domain": [
          0.3698979591836735,
          0.4081632653061225
         ],
         "title": {
          "font": {
           "size": 12
          },
          "text": "Mining"
         }
        },
        "yaxis26": {
         "anchor": "x26",
         "domain": [
          0.3698979591836735,
          0.4081632653061225
         ],
         "title": {
          "font": {
           "size": 12
          }
         }
        },
        "yaxis27": {
         "anchor": "x27",
         "domain": [
          0.3698979591836735,
          0.4081632653061225
         ],
         "title": {
          "font": {
           "size": 12
          },
          "text": "expenditure year-on-year change"
         }
        },
        "yaxis28": {
         "anchor": "x28",
         "domain": [
          0.29591836734693877,
          0.33418367346938777
         ],
         "title": {
          "font": {
           "size": 12
          },
          "text": "Professional, Scientific, Technical, Administrative and Support Services"
         }
        },
        "yaxis29": {
         "anchor": "x29",
         "domain": [
          0.29591836734693877,
          0.33418367346938777
         ],
         "title": {
          "font": {
           "size": 12
          }
         }
        },
        "yaxis3": {
         "anchor": "x3",
         "domain": [
          0.9617346938775511,
          1
         ],
         "title": {
          "font": {
           "size": 12
          },
          "text": "expenditure year-on-year change"
         }
        },
        "yaxis30": {
         "anchor": "x30",
         "domain": [
          0.29591836734693877,
          0.33418367346938777
         ],
         "title": {
          "font": {
           "size": 12
          },
          "text": "expenditure year-on-year change"
         }
        },
        "yaxis31": {
         "anchor": "x31",
         "domain": [
          0.22193877551020408,
          0.2602040816326531
         ],
         "title": {
          "font": {
           "size": 12
          },
          "text": "Rental, Hiring and Real Estate Services"
         }
        },
        "yaxis32": {
         "anchor": "x32",
         "domain": [
          0.22193877551020408,
          0.2602040816326531
         ],
         "title": {
          "font": {
           "size": 12
          }
         }
        },
        "yaxis33": {
         "anchor": "x33",
         "domain": [
          0.22193877551020408,
          0.2602040816326531
         ],
         "title": {
          "font": {
           "size": 12
          },
          "text": "expenditure year-on-year change"
         }
        },
        "yaxis34": {
         "anchor": "x34",
         "domain": [
          0.14795918367346939,
          0.18622448979591838
         ],
         "title": {
          "font": {
           "size": 12
          },
          "text": "Retail Trade and Accommodation"
         }
        },
        "yaxis35": {
         "anchor": "x35",
         "domain": [
          0.14795918367346939,
          0.18622448979591838
         ],
         "title": {
          "font": {
           "size": 12
          }
         }
        },
        "yaxis36": {
         "anchor": "x36",
         "domain": [
          0.14795918367346939,
          0.18622448979591838
         ],
         "title": {
          "font": {
           "size": 12
          },
          "text": "expenditure year-on-year change"
         }
        },
        "yaxis37": {
         "anchor": "x37",
         "domain": [
          0.07397959183673469,
          0.11224489795918369
         ],
         "title": {
          "font": {
           "size": 12
          },
          "text": "Transport, Postal and Warehousing"
         }
        },
        "yaxis38": {
         "anchor": "x38",
         "domain": [
          0.07397959183673469,
          0.11224489795918369
         ],
         "title": {
          "font": {
           "size": 12
          }
         }
        },
        "yaxis39": {
         "anchor": "x39",
         "domain": [
          0.07397959183673469,
          0.11224489795918369
         ],
         "title": {
          "font": {
           "size": 12
          },
          "text": "expenditure year-on-year change"
         }
        },
        "yaxis4": {
         "anchor": "x4",
         "domain": [
          0.8877551020408164,
          0.9260204081632654
         ],
         "title": {
          "font": {
           "size": 12
          },
          "text": "Arts, Recreation and Other Services"
         }
        },
        "yaxis40": {
         "anchor": "x40",
         "domain": [
          0,
          0.03826530612244899
         ],
         "title": {
          "font": {
           "size": 12
          },
          "text": "Wholesale Trade"
         }
        },
        "yaxis41": {
         "anchor": "x41",
         "domain": [
          0,
          0.03826530612244899
         ],
         "title": {
          "font": {
           "size": 12
          }
         }
        },
        "yaxis42": {
         "anchor": "x42",
         "domain": [
          0,
          0.03826530612244899
         ],
         "title": {
          "font": {
           "size": 12
          },
          "text": "expenditure year-on-year change"
         }
        },
        "yaxis5": {
         "anchor": "x5",
         "domain": [
          0.8877551020408164,
          0.9260204081632654
         ],
         "title": {
          "font": {
           "size": 12
          }
         }
        },
        "yaxis6": {
         "anchor": "x6",
         "domain": [
          0.8877551020408164,
          0.9260204081632654
         ],
         "title": {
          "font": {
           "size": 12
          },
          "text": "expenditure year-on-year change"
         }
        },
        "yaxis7": {
         "anchor": "x7",
         "domain": [
          0.8137755102040818,
          0.8520408163265307
         ],
         "title": {
          "font": {
           "size": 12
          },
          "text": "Construction"
         }
        },
        "yaxis8": {
         "anchor": "x8",
         "domain": [
          0.8137755102040818,
          0.8520408163265307
         ],
         "title": {
          "font": {
           "size": 12
          }
         }
        },
        "yaxis9": {
         "anchor": "x9",
         "domain": [
          0.8137755102040818,
          0.8520408163265307
         ],
         "title": {
          "font": {
           "size": 12
          },
          "text": "expenditure year-on-year change"
         }
        }
       }
      }
     },
     "metadata": {},
     "output_type": "display_data"
    }
   ],
   "source": [
    "import plotly.graph_objects as go\n",
    "from plotly.subplots import make_subplots\n",
    "import numpy as np\n",
    "\n",
    "\n",
    "industries =  sorted(bus_profits_jobs['industry'].unique().tolist())\n",
    "fig = make_subplots(rows=len(industries), cols=3, subplot_titles=('Business profits year-on-year change', 'Business expenditure year-on-year change', 'Profits-expenditure correlation'))\n",
    "\n",
    "layout_dict = {}\n",
    "\n",
    "for idx, industry in enumerate(industries):\n",
    "    industry_df = bus_profits_jobs[bus_profits_jobs['industry'] == industry].sort_values(by='year_time')\n",
    "    fig.add_trace(\n",
    "        go.Bar(x=industry_df['year_time'], y=industry_df['profits_yearly_change'], name='Business profits year-on-year change', marker=dict(color='#002F6B'), zorder=1),\n",
    "        row = idx+1, \n",
    "        col = 1\n",
    "    )\n",
    "    fig.add_trace(\n",
    "        go.Bar(x=industry_df['year_time'], y=industry_df['expenditure_yearly_change'], name='Business expenditure year-on-year change', marker=dict(color='#002F6B'), zorder=0),\n",
    "        row = idx+1,\n",
    "        col = 2\n",
    "    )\n",
    "    fig.add_trace(\n",
    "        go.Scatter(x=industry_df['profits_yearly_change'], y=industry_df['expenditure_yearly_change'], name='Profits-expenditure correlation', mode='markers', marker=dict(color='#002F6B'), zorder=1),\n",
    "        row = idx+1, \n",
    "        col = 3\n",
    "    )\n",
    "\n",
    "    slope, intercept = np.polyfit(industry_df['profits_yearly_change'], industry_df['expenditure_yearly_change'], 1)\n",
    "    y_fit = slope * industry_df['profits_yearly_change'] + intercept\n",
    "\n",
    "    fig.add_trace(\n",
    "        go.Scatter(x=industry_df['profits_yearly_change'], y=y_fit, mode='lines', name=f'{industry} Fit', line=dict(dash='solid', color='#FAA61A'), showlegend=False),\n",
    "        row = idx+1, \n",
    "        col = 3\n",
    "    )\n",
    "\n",
    "    layout_dict.update(\n",
    "        {\n",
    "            f'xaxis{3*(idx+1)-2}': dict(title='year'),\n",
    "            f'xaxis{3*(idx+1)-1}': dict(title='year'),\n",
    "            f'xaxis{3*(idx+1)}': dict(title=' profits year-on-year change'),\n",
    "            f'yaxis{3*(idx+1)-2}': dict(title=industry),\n",
    "            f'yaxis{3*(idx+1)}': dict(title='expenditure year-on-year change'),\n",
    "        }\n",
    "    )\n",
    "\n",
    "layout_dict.update(\n",
    "    {\n",
    "        'height': 5000,\n",
    "        'showlegend': False,\n",
    "    }\n",
    ")\n",
    "\n",
    "fig.update_layout(**layout_dict)\n",
    "fig.update_yaxes(title_font=dict(size=12))\n",
    "\n",
    "fig.show()"
   ]
  }
 ],
 "metadata": {
  "kernelspec": {
   "display_name": "data_eng",
   "language": "python",
   "name": "python3"
  },
  "language_info": {
   "codemirror_mode": {
    "name": "ipython",
    "version": 3
   },
   "file_extension": ".py",
   "mimetype": "text/x-python",
   "name": "python",
   "nbconvert_exporter": "python",
   "pygments_lexer": "ipython3",
   "version": "3.9.7"
  }
 },
 "nbformat": 4,
 "nbformat_minor": 5
}
